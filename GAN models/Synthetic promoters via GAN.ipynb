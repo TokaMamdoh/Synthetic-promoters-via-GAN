{
 "cells": [
  {
   "cell_type": "markdown",
   "metadata": {
    "id": "GQ-NN1Q1TkoH"
   },
   "source": [
    "# Installation"
   ]
  },
  {
   "cell_type": "code",
   "execution_count": null,
   "metadata": {
    "colab": {
     "base_uri": "https://localhost:8080/"
    },
    "id": "EGlUAdsVsVSB",
    "outputId": "5912a049-76b1-4670-f1c7-b150ab3578d6"
   },
   "outputs": [
    {
     "name": "stdout",
     "output_type": "stream",
     "text": [
      "Collecting Biopython\n",
      "  Downloading biopython-1.79-cp36-cp36m-manylinux_2_5_x86_64.manylinux1_x86_64.whl (2.3 MB)\n",
      "\u001b[K     |████████████████████████████████| 2.3 MB 5.1 MB/s eta 0:00:01\n",
      "\u001b[?25hRequirement already satisfied: numpy in ./miniconda3/envs/torch_py36/lib/python3.6/site-packages (from Biopython) (1.19.2)\n",
      "Installing collected packages: Biopython\n",
      "Successfully installed Biopython-1.79\n",
      "Note: you may need to restart the kernel to use updated packages.\n"
     ]
    }
   ],
   "source": [
    "%pip install Biopython"
   ]
  },
  {
   "cell_type": "code",
   "execution_count": 1,
   "metadata": {
    "colab": {
     "base_uri": "https://localhost:8080/"
    },
    "id": "d4-po12cGVwN",
    "outputId": "8e3a88a9-164c-440a-cbbe-463b77d81525"
   },
   "outputs": [
    {
     "name": "stderr",
     "output_type": "stream",
     "text": [
      "--2023-04-25 13:08:14--  https://mafft.cbrc.jp/alignment/software/mafft_7.505-1_amd64.deb\n",
      "Resolving mafft.cbrc.jp (mafft.cbrc.jp)... 133.1.49.95\n",
      "Connecting to mafft.cbrc.jp (mafft.cbrc.jp)|133.1.49.95|:443... connected.\n",
      "HTTP request sent, awaiting response... 200 OK\n",
      "Length: 3661204 (3.5M)\n",
      "Saving to: 'mafft_7.505-1_amd64.deb.1'\n",
      "\n",
      "     0K .......... .......... .......... .......... ..........  1% 74.2K 48s\n",
      "    50K .......... .......... .......... .......... ..........  2%  152K 35s\n",
      "   100K .......... .......... .......... .......... ..........  4% 1.71M 24s\n",
      "   150K .......... .......... .......... .......... ..........  5%  156K 23s\n",
      "   200K .......... .......... .......... .......... ..........  6%  154K 22s\n",
      "   250K .......... .......... .......... .......... ..........  8%  158K 22s\n",
      "   300K .......... .......... .......... .......... ..........  9% 3.13M 19s\n",
      "   350K .......... .......... .......... .......... .......... 11% 3.09M 16s\n",
      "   400K .......... .......... .......... .......... .......... 12% 3.00M 14s\n",
      "   450K .......... .......... .......... .......... .......... 13%  176K 14s\n",
      "   500K .......... .......... .......... .......... .......... 15% 2.94M 13s\n",
      "   550K .......... .......... .......... .......... .......... 16% 4.21M 12s\n",
      "   600K .......... .......... .......... .......... .......... 18%  129K 12s\n",
      "   650K .......... .......... .......... .......... .......... 19% 3.79M 11s\n",
      "   700K .......... .......... .......... .......... .......... 20% 4.53M 10s\n",
      "   750K .......... .......... .......... .......... .......... 22% 6.17M 10s\n",
      "   800K .......... .......... .......... .......... .......... 23% 8.86M 9s\n",
      "   850K .......... .......... .......... .......... .......... 25% 19.9M 8s\n",
      "   900K .......... .......... .......... .......... .......... 26% 34.6M 8s\n",
      "   950K .......... .......... .......... .......... .......... 27% 39.4M 7s\n",
      "  1000K .......... .......... .......... .......... .......... 29% 25.9M 7s\n",
      "  1050K .......... .......... .......... .......... .......... 30% 35.6M 6s\n",
      "  1100K .......... .......... .......... .......... .......... 32% 41.7M 6s\n",
      "  1150K .......... .......... .......... .......... .......... 33% 23.2M 6s\n",
      "  1200K .......... .......... .......... .......... .......... 34% 32.5M 5s\n",
      "  1250K .......... .......... .......... .......... .......... 36%  264K 5s\n",
      "  1300K .......... .......... .......... .......... .......... 37%  126K 6s\n",
      "  1350K .......... .......... .......... .......... .......... 39% 3.63M 5s\n",
      "  1400K .......... .......... .......... .......... .......... 40% 5.61M 5s\n",
      "  1450K .......... .......... .......... .......... .......... 41% 1.34M 5s\n",
      "  1500K .......... .......... .......... .......... .......... 43% 3.87M 5s\n",
      "  1550K .......... .......... .......... .......... .......... 44% 4.79M 4s\n",
      "  1600K .......... .......... .......... .......... .......... 46% 4.70M 4s\n",
      "  1650K .......... .......... .......... .......... .......... 47% 4.55M 4s\n",
      "  1700K .......... .......... .......... .......... .......... 48% 8.09M 4s\n",
      "  1750K .......... .......... .......... .......... .......... 50% 7.62M 3s\n",
      "  1800K .......... .......... .......... .......... .......... 51% 10.7M 3s\n",
      "  1850K .......... .......... .......... .......... .......... 53%  483K 3s\n",
      "  1900K .......... .......... .......... .......... .......... 54%  953K 3s\n",
      "  1950K .......... .......... .......... .......... .......... 55%  792K 3s\n",
      "  2000K .......... .......... .......... .......... .......... 57% 3.48M 3s\n",
      "  2050K .......... .......... .......... .......... .......... 58%  949K 3s\n",
      "  2100K .......... .......... .......... .......... .......... 60% 3.40M 3s\n",
      "  2150K .......... .......... .......... .......... .......... 61%  276K 2s\n",
      "  2200K .......... .......... .......... .......... .......... 62%  797K 2s\n",
      "  2250K .......... .......... .......... .......... .......... 64% 3.39M 2s\n",
      "  2300K .......... .......... .......... .......... .......... 65%  834K 2s\n",
      "  2350K .......... .......... .......... .......... .......... 67% 3.09M 2s\n",
      "  2400K .......... .......... .......... .......... .......... 68% 86.7K 2s\n",
      "  2450K .......... .......... .......... .......... .......... 69% 3.40M 2s\n",
      "  2500K .......... .......... .......... .......... .......... 71% 3.41M 2s\n",
      "  2550K .......... .......... .......... .......... .......... 72% 3.84M 2s\n",
      "  2600K .......... .......... .......... .......... .......... 74% 3.23M 2s\n",
      "  2650K .......... .......... .......... .......... .......... 75% 3.29M 2s\n",
      "  2700K .......... .......... .......... .......... .......... 76% 3.54M 1s\n",
      "  2750K .......... .......... .......... .......... .......... 78% 3.27M 1s\n",
      "  2800K .......... .......... .......... .......... .......... 79% 3.56M 1s\n",
      "  2850K .......... .......... .......... .......... .......... 81%  234K 1s\n",
      "  2900K .......... .......... .......... .......... .......... 82% 2.84M 1s\n",
      "  2950K .......... .......... .......... .......... .......... 83% 2.53M 1s\n",
      "  3000K .......... .......... .......... .......... .......... 85% 1.11M 1s\n",
      "  3050K .......... .......... .......... .......... .......... 86%  205K 1s\n",
      "  3100K .......... .......... .......... .......... .......... 88% 2.28M 1s\n",
      "  3150K .......... .......... .......... .......... .......... 89% 3.03M 1s\n",
      "  3200K .......... .......... .......... .......... .......... 90%  901K 1s\n",
      "  3250K .......... .......... .......... .......... .......... 92%  452K 0s\n",
      "  3300K .......... .......... .......... .......... .......... 93%  261K 0s\n",
      "  3350K .......... .......... .......... .......... .......... 95% 3.77M 0s\n",
      "  3400K .......... .......... .......... .......... .......... 96% 3.02M 0s\n",
      "  3450K .......... .......... .......... .......... .......... 97% 3.78M 0s\n",
      "  3500K .......... .......... .......... .......... .......... 99%  178K 0s\n",
      "  3550K .......... .......... .....                           100% 3.12M=6.1s\n",
      "\n",
      "2023-04-25 13:08:22 (587 KB/s) - 'mafft_7.505-1_amd64.deb.1' saved [3661204/3661204]\n",
      "\n"
     ]
    }
   ],
   "source": [
    "!wget https://mafft.cbrc.jp/alignment/software/mafft_7.505-1_amd64.deb"
   ]
  },
  {
   "cell_type": "code",
   "execution_count": 2,
   "metadata": {
    "colab": {
     "base_uri": "https://localhost:8080/"
    },
    "id": "OJ1CNIbIGY89",
    "outputId": "bb98d1be-0d92-46ce-87b9-992d06e6f2b5"
   },
   "outputs": [
    {
     "name": "stderr",
     "output_type": "stream",
     "text": [
      "'sudo' is not recognized as an internal or external command,\n",
      "operable program or batch file.\n"
     ]
    }
   ],
   "source": [
    "!sudo dpkg -i mafft_7.505-1_amd64.deb"
   ]
  },
  {
   "cell_type": "code",
   "execution_count": 3,
   "metadata": {
    "colab": {
     "base_uri": "https://localhost:8080/"
    },
    "id": "y0TtZDBSGkhK",
    "outputId": "9bbdc2e8-42f7-4b64-f5d7-cc79adb8d841"
   },
   "outputs": [
    {
     "name": "stderr",
     "output_type": "stream",
     "text": [
      "'which' is not recognized as an internal or external command,\n",
      "operable program or batch file.\n"
     ]
    }
   ],
   "source": [
    "!which mafft"
   ]
  },
  {
   "cell_type": "code",
   "execution_count": null,
   "metadata": {
    "colab": {
     "base_uri": "https://localhost:8080/"
    },
    "id": "uatqDR2jPOnt",
    "outputId": "b2f13ecb-acd2-4f24-c465-9b6277fa1302"
   },
   "outputs": [
    {
     "name": "stdout",
     "output_type": "stream",
     "text": [
      "Requirement already satisfied: fasta_one_hot_encoder in ./miniconda3/envs/torch_py36/lib/python3.6/site-packages (1.2.2)\n",
      "Requirement already satisfied: numpy in ./miniconda3/envs/torch_py36/lib/python3.6/site-packages (from fasta_one_hot_encoder) (1.19.2)\n",
      "Requirement already satisfied: sklearn in ./miniconda3/envs/torch_py36/lib/python3.6/site-packages (from fasta_one_hot_encoder) (0.0.post1)\n",
      "Requirement already satisfied: pandas in ./miniconda3/envs/torch_py36/lib/python3.6/site-packages (from fasta_one_hot_encoder) (1.1.5)\n",
      "Requirement already satisfied: tqdm in ./miniconda3/envs/torch_py36/lib/python3.6/site-packages (from fasta_one_hot_encoder) (4.64.1)\n",
      "Requirement already satisfied: python-dateutil>=2.7.3 in ./miniconda3/envs/torch_py36/lib/python3.6/site-packages (from pandas->fasta_one_hot_encoder) (2.8.2)\n",
      "Requirement already satisfied: pytz>=2017.2 in ./miniconda3/envs/torch_py36/lib/python3.6/site-packages (from pandas->fasta_one_hot_encoder) (2022.7)\n",
      "Requirement already satisfied: six>=1.5 in ./miniconda3/envs/torch_py36/lib/python3.6/site-packages (from python-dateutil>=2.7.3->pandas->fasta_one_hot_encoder) (1.15.0)\n",
      "Requirement already satisfied: importlib-resources in ./miniconda3/envs/torch_py36/lib/python3.6/site-packages (from tqdm->fasta_one_hot_encoder) (5.4.0)\n",
      "Requirement already satisfied: zipp>=3.1.0 in ./miniconda3/envs/torch_py36/lib/python3.6/site-packages (from importlib-resources->tqdm->fasta_one_hot_encoder) (3.6.0)\n",
      "Note: you may need to restart the kernel to use updated packages.\n"
     ]
    }
   ],
   "source": [
    "%pip install fasta_one_hot_encoder"
   ]
  },
  {
   "cell_type": "code",
   "execution_count": null,
   "metadata": {
    "colab": {
     "base_uri": "https://localhost:8080/"
    },
    "id": "yS5m81AZyu8F",
    "outputId": "dbcd80a2-302f-4c3b-9498-e5eac2fb3f41"
   },
   "outputs": [
    {
     "name": "stdout",
     "output_type": "stream",
     "text": [
      "/bin/bash: gdown: command not found\n"
     ]
    }
   ],
   "source": [
    "!gdown --id 1Ou-VgT696SR7-fdS9o788WMTUX4PGQ-q"
   ]
  },
  {
   "cell_type": "code",
   "execution_count": null,
   "metadata": {},
   "outputs": [
    {
     "name": "stdout",
     "output_type": "stream",
     "text": [
      "Collecting torch\n",
      "  Downloading torch-1.13.0-cp39-cp39-win_amd64.whl (167.2 MB)\n",
      "Requirement already satisfied: typing-extensions in c:\\users\\admin\\anaconda3\\lib\\site-packages (from torch) (4.1.1)\n",
      "Installing collected packages: torch\n",
      "Successfully installed torch-1.13.0\n",
      "Note: you may need to restart the kernel to use updated packages.\n"
     ]
    }
   ],
   "source": [
    "%pip install torch"
   ]
  },
  {
   "cell_type": "code",
   "execution_count": null,
   "metadata": {},
   "outputs": [
    {
     "name": "stdout",
     "output_type": "stream",
     "text": [
      "Collecting torchvision\n",
      "  Downloading torchvision-0.14.0-cp39-cp39-win_amd64.whl (1.1 MB)\n",
      "Requirement already satisfied: typing-extensions in c:\\users\\admin\\anaconda3\\lib\\site-packages (from torchvision) (4.1.1)\n",
      "Requirement already satisfied: torch==1.13.0 in c:\\users\\admin\\anaconda3\\lib\\site-packages (from torchvision) (1.13.0)\n",
      "Requirement already satisfied: requests in c:\\users\\admin\\anaconda3\\lib\\site-packages (from torchvision) (2.27.1)\n",
      "Requirement already satisfied: numpy in c:\\users\\admin\\anaconda3\\lib\\site-packages (from torchvision) (1.21.5)\n",
      "Requirement already satisfied: pillow!=8.3.*,>=5.3.0 in c:\\users\\admin\\anaconda3\\lib\\site-packages (from torchvision) (9.0.1)\n",
      "Requirement already satisfied: urllib3<1.27,>=1.21.1 in c:\\users\\admin\\anaconda3\\lib\\site-packages (from requests->torchvision) (1.26.9)\n",
      "Requirement already satisfied: charset-normalizer~=2.0.0 in c:\\users\\admin\\anaconda3\\lib\\site-packages (from requests->torchvision) (2.0.4)\n",
      "Requirement already satisfied: certifi>=2017.4.17 in c:\\users\\admin\\anaconda3\\lib\\site-packages (from requests->torchvision) (2021.10.8)\n",
      "Requirement already satisfied: idna<4,>=2.5 in c:\\users\\admin\\anaconda3\\lib\\site-packages (from requests->torchvision) (3.3)\n",
      "Installing collected packages: torchvision\n",
      "Successfully installed torchvision-0.14.0\n",
      "Note: you may need to restart the kernel to use updated packages.\n"
     ]
    }
   ],
   "source": [
    "%pip install torchvision"
   ]
  },
  {
   "cell_type": "code",
   "execution_count": null,
   "metadata": {},
   "outputs": [
    {
     "name": "stdout",
     "output_type": "stream",
     "text": [
      "Collecting keras\n",
      "  Downloading keras-2.10.0-py2.py3-none-any.whl (1.7 MB)\n",
      "\u001b[K     |████████████████████████████████| 1.7 MB 4.7 MB/s eta 0:00:01\n",
      "\u001b[?25hInstalling collected packages: keras\n",
      "Successfully installed keras-2.10.0\n",
      "Note: you may need to restart the kernel to use updated packages.\n"
     ]
    }
   ],
   "source": [
    "%pip install keras"
   ]
  },
  {
   "cell_type": "code",
   "execution_count": null,
   "metadata": {},
   "outputs": [
    {
     "name": "stdout",
     "output_type": "stream",
     "text": [
      "Collecting pandas\n",
      "  Downloading pandas-1.1.5-cp36-cp36m-manylinux1_x86_64.whl (9.5 MB)\n",
      "\u001b[K     |████████████████████████████████| 9.5 MB 5.0 MB/s eta 0:00:01\n",
      "\u001b[?25hRequirement already satisfied: numpy>=1.15.4 in ./miniconda3/envs/torch_py36/lib/python3.6/site-packages (from pandas) (1.19.2)\n",
      "Requirement already satisfied: python-dateutil>=2.7.3 in ./miniconda3/envs/torch_py36/lib/python3.6/site-packages (from pandas) (2.8.2)\n",
      "Collecting pytz>=2017.2\n",
      "  Downloading pytz-2022.7-py2.py3-none-any.whl (499 kB)\n",
      "\u001b[K     |████████████████████████████████| 499 kB 103.2 MB/s eta 0:00:01\n",
      "\u001b[?25hRequirement already satisfied: six>=1.5 in ./miniconda3/envs/torch_py36/lib/python3.6/site-packages (from python-dateutil>=2.7.3->pandas) (1.16.0)\n",
      "Installing collected packages: pytz, pandas\n",
      "Successfully installed pandas-1.1.5 pytz-2022.7\n",
      "Note: you may need to restart the kernel to use updated packages.\n"
     ]
    }
   ],
   "source": [
    "%pip install pandas"
   ]
  },
  {
   "cell_type": "code",
   "execution_count": null,
   "metadata": {},
   "outputs": [
    {
     "name": "stdout",
     "output_type": "stream",
     "text": [
      "Collecting matplotlib\n",
      "  Downloading matplotlib-3.3.4-cp36-cp36m-manylinux1_x86_64.whl (11.5 MB)\n",
      "\u001b[K     |████████████████████████████████| 11.5 MB 4.8 MB/s eta 0:00:01\n",
      "\u001b[?25hRequirement already satisfied: python-dateutil>=2.1 in ./miniconda3/envs/torch_py36/lib/python3.6/site-packages (from matplotlib) (2.8.2)\n",
      "Collecting kiwisolver>=1.0.1\n",
      "  Downloading kiwisolver-1.3.1-cp36-cp36m-manylinux1_x86_64.whl (1.1 MB)\n",
      "\u001b[K     |████████████████████████████████| 1.1 MB 99.2 MB/s eta 0:00:01\n",
      "\u001b[?25hRequirement already satisfied: numpy>=1.15 in ./miniconda3/envs/torch_py36/lib/python3.6/site-packages (from matplotlib) (1.19.2)\n",
      "Collecting cycler>=0.10\n",
      "  Downloading cycler-0.11.0-py3-none-any.whl (6.4 kB)\n",
      "Requirement already satisfied: pyparsing!=2.0.4,!=2.1.2,!=2.1.6,>=2.0.3 in ./miniconda3/envs/torch_py36/lib/python3.6/site-packages (from matplotlib) (3.0.4)\n",
      "Requirement already satisfied: pillow>=6.2.0 in ./miniconda3/envs/torch_py36/lib/python3.6/site-packages (from matplotlib) (8.3.1)\n",
      "Requirement already satisfied: six>=1.5 in ./miniconda3/envs/torch_py36/lib/python3.6/site-packages (from python-dateutil>=2.1->matplotlib) (1.16.0)\n",
      "Installing collected packages: kiwisolver, cycler, matplotlib\n",
      "Successfully installed cycler-0.11.0 kiwisolver-1.3.1 matplotlib-3.3.4\n",
      "Note: you may need to restart the kernel to use updated packages.\n"
     ]
    }
   ],
   "source": [
    "%pip install matplotlib"
   ]
  },
  {
   "cell_type": "code",
   "execution_count": null,
   "metadata": {},
   "outputs": [
    {
     "name": "stdout",
     "output_type": "stream",
     "text": [
      "Collecting tensorflow\n",
      "  Downloading tensorflow-2.6.2-cp36-cp36m-manylinux2010_x86_64.whl (458.3 MB)\n",
      "\u001b[K     |████████████████████████████████| 458.3 MB 16 kB/s /s eta 0:00:01\n",
      "\u001b[?25hCollecting absl-py~=0.10\n",
      "  Downloading absl_py-0.15.0-py3-none-any.whl (132 kB)\n",
      "\u001b[K     |████████████████████████████████| 132 kB 103.8 MB/s eta 0:00:01\n",
      "\u001b[?25hCollecting protobuf>=3.9.2\n",
      "  Downloading protobuf-3.19.6-cp36-cp36m-manylinux_2_17_x86_64.manylinux2014_x86_64.whl (1.1 MB)\n",
      "\u001b[K     |████████████████████████████████| 1.1 MB 102.8 MB/s eta 0:00:01\n",
      "\u001b[?25hCollecting clang~=5.0\n",
      "  Downloading clang-5.0.tar.gz (30 kB)\n",
      "Collecting keras<2.7,>=2.6.0\n",
      "  Downloading keras-2.6.0-py2.py3-none-any.whl (1.3 MB)\n",
      "\u001b[K     |████████████████████████████████| 1.3 MB 80.4 MB/s eta 0:00:01\n",
      "\u001b[?25hRequirement already satisfied: wheel~=0.35 in ./miniconda3/envs/torch_py36/lib/python3.6/site-packages (from tensorflow) (0.37.1)\n",
      "Collecting flatbuffers~=1.12.0\n",
      "  Downloading flatbuffers-1.12-py2.py3-none-any.whl (15 kB)\n",
      "Collecting grpcio<2.0,>=1.37.0\n",
      "  Downloading grpcio-1.48.2-cp36-cp36m-manylinux_2_17_x86_64.manylinux2014_x86_64.whl (4.6 MB)\n",
      "\u001b[K     |████████████████████████████████| 4.6 MB 98.9 MB/s eta 0:00:01\n",
      "\u001b[?25hCollecting keras-preprocessing~=1.1.2\n",
      "  Downloading Keras_Preprocessing-1.1.2-py2.py3-none-any.whl (42 kB)\n",
      "\u001b[K     |████████████████████████████████| 42 kB 2.5 MB/s  eta 0:00:01\n",
      "\u001b[?25hRequirement already satisfied: numpy~=1.19.2 in ./miniconda3/envs/torch_py36/lib/python3.6/site-packages (from tensorflow) (1.19.2)\n",
      "Collecting wrapt~=1.12.1\n",
      "  Downloading wrapt-1.12.1.tar.gz (27 kB)\n",
      "Collecting astunparse~=1.6.3\n",
      "  Downloading astunparse-1.6.3-py2.py3-none-any.whl (12 kB)\n",
      "Collecting tensorflow-estimator<2.7,>=2.6.0\n",
      "  Downloading tensorflow_estimator-2.6.0-py2.py3-none-any.whl (462 kB)\n",
      "\u001b[K     |████████████████████████████████| 462 kB 92.2 MB/s eta 0:00:01\n",
      "\u001b[?25hCollecting opt-einsum~=3.3.0\n",
      "  Downloading opt_einsum-3.3.0-py3-none-any.whl (65 kB)\n",
      "\u001b[K     |████████████████████████████████| 65 kB 8.4 MB/s  eta 0:00:01\n",
      "\u001b[?25hCollecting gast==0.4.0\n",
      "  Downloading gast-0.4.0-py3-none-any.whl (9.8 kB)\n",
      "Collecting six~=1.15.0\n",
      "  Downloading six-1.15.0-py2.py3-none-any.whl (10 kB)\n",
      "Collecting h5py~=3.1.0\n",
      "  Downloading h5py-3.1.0-cp36-cp36m-manylinux1_x86_64.whl (4.0 MB)\n",
      "\u001b[K     |████████████████████████████████| 4.0 MB 96.9 MB/s eta 0:00:01\n",
      "\u001b[?25hCollecting typing-extensions~=3.7.4\n",
      "  Downloading typing_extensions-3.7.4.3-py3-none-any.whl (22 kB)\n",
      "Collecting termcolor~=1.1.0\n",
      "  Downloading termcolor-1.1.0.tar.gz (3.9 kB)\n",
      "Collecting tensorboard<2.7,>=2.6.0\n",
      "  Downloading tensorboard-2.6.0-py3-none-any.whl (5.6 MB)\n",
      "\u001b[K     |████████████████████████████████| 5.6 MB 94.1 MB/s eta 0:00:01\n",
      "\u001b[?25hCollecting google-pasta~=0.2\n",
      "  Downloading google_pasta-0.2.0-py3-none-any.whl (57 kB)\n",
      "\u001b[K     |████████████████████████████████| 57 kB 11.0 MB/s eta 0:00:01\n",
      "\u001b[?25hCollecting cached-property\n",
      "  Downloading cached_property-1.5.2-py2.py3-none-any.whl (7.6 kB)\n",
      "Collecting markdown>=2.6.8\n",
      "  Downloading Markdown-3.3.7-py3-none-any.whl (97 kB)\n",
      "\u001b[K     |████████████████████████████████| 97 kB 14.1 MB/s  eta 0:00:01\n",
      "\u001b[?25hCollecting google-auth<2,>=1.6.3\n",
      "  Downloading google_auth-1.35.0-py2.py3-none-any.whl (152 kB)\n",
      "\u001b[K     |████████████████████████████████| 152 kB 107.2 MB/s eta 0:00:01\n",
      "\u001b[?25hCollecting tensorboard-data-server<0.7.0,>=0.6.0\n",
      "  Downloading tensorboard_data_server-0.6.1-py3-none-manylinux2010_x86_64.whl (4.9 MB)\n",
      "\u001b[K     |████████████████████████████████| 4.9 MB 106.5 MB/s eta 0:00:01\n",
      "\u001b[?25hCollecting tensorboard-plugin-wit>=1.6.0\n",
      "  Downloading tensorboard_plugin_wit-1.8.1-py3-none-any.whl (781 kB)\n",
      "\u001b[K     |████████████████████████████████| 781 kB 109.7 MB/s eta 0:00:01\n",
      "\u001b[?25hCollecting werkzeug>=0.11.15\n",
      "  Downloading Werkzeug-2.0.3-py3-none-any.whl (289 kB)\n",
      "\u001b[K     |████████████████████████████████| 289 kB 105.3 MB/s eta 0:00:01\n",
      "\u001b[?25hRequirement already satisfied: setuptools>=41.0.0 in ./miniconda3/envs/torch_py36/lib/python3.6/site-packages (from tensorboard<2.7,>=2.6.0->tensorflow) (58.0.4)\n",
      "Collecting google-auth-oauthlib<0.5,>=0.4.1\n",
      "  Downloading google_auth_oauthlib-0.4.6-py2.py3-none-any.whl (18 kB)\n",
      "Collecting requests<3,>=2.21.0\n",
      "  Downloading requests-2.27.1-py2.py3-none-any.whl (63 kB)\n",
      "\u001b[K     |████████████████████████████████| 63 kB 3.9 MB/s s eta 0:00:01\n",
      "\u001b[?25hCollecting cachetools<5.0,>=2.0.0\n",
      "  Downloading cachetools-4.2.4-py3-none-any.whl (10 kB)\n",
      "Collecting pyasn1-modules>=0.2.1\n",
      "  Downloading pyasn1_modules-0.2.8-py2.py3-none-any.whl (155 kB)\n",
      "\u001b[K     |████████████████████████████████| 155 kB 106.1 MB/s eta 0:00:01\n",
      "\u001b[?25hCollecting rsa<5,>=3.1.4\n",
      "  Downloading rsa-4.9-py3-none-any.whl (34 kB)\n",
      "Collecting requests-oauthlib>=0.7.0\n",
      "  Downloading requests_oauthlib-1.3.1-py2.py3-none-any.whl (23 kB)\n",
      "Collecting importlib-metadata>=4.4\n",
      "  Downloading importlib_metadata-4.8.3-py3-none-any.whl (17 kB)\n",
      "Collecting zipp>=0.5\n",
      "  Downloading zipp-3.6.0-py3-none-any.whl (5.3 kB)\n",
      "Collecting pyasn1<0.5.0,>=0.4.6\n",
      "  Downloading pyasn1-0.4.8-py2.py3-none-any.whl (77 kB)\n",
      "\u001b[K     |████████████████████████████████| 77 kB 12.0 MB/s eta 0:00:01\n",
      "\u001b[?25hCollecting urllib3<1.27,>=1.21.1\n",
      "  Downloading urllib3-1.26.13-py2.py3-none-any.whl (140 kB)\n",
      "\u001b[K     |████████████████████████████████| 140 kB 111.1 MB/s eta 0:00:01\n",
      "\u001b[?25hCollecting charset-normalizer~=2.0.0\n",
      "  Downloading charset_normalizer-2.0.12-py3-none-any.whl (39 kB)\n",
      "Collecting idna<4,>=2.5\n",
      "  Downloading idna-3.4-py3-none-any.whl (61 kB)\n",
      "\u001b[K     |████████████████████████████████| 61 kB 212 kB/s  eta 0:00:01\n",
      "\u001b[?25hRequirement already satisfied: certifi>=2017.4.17 in ./miniconda3/envs/torch_py36/lib/python3.6/site-packages (from requests<3,>=2.21.0->tensorboard<2.7,>=2.6.0->tensorflow) (2021.5.30)\n",
      "Collecting oauthlib>=3.0.0\n",
      "  Downloading oauthlib-3.2.2-py3-none-any.whl (151 kB)\n",
      "\u001b[K     |████████████████████████████████| 151 kB 110.6 MB/s eta 0:00:01\n",
      "\u001b[?25hRequirement already satisfied: dataclasses in ./miniconda3/envs/torch_py36/lib/python3.6/site-packages (from werkzeug>=0.11.15->tensorboard<2.7,>=2.6.0->tensorflow) (0.8)\n",
      "Building wheels for collected packages: clang, termcolor, wrapt\n",
      "  Building wheel for clang (setup.py) ... \u001b[?25ldone\n",
      "\u001b[?25h  Created wheel for clang: filename=clang-5.0-py3-none-any.whl size=30694 sha256=46d0004f0c9d23dfc1b2e0ba920dd799111e07279ac7a65bd370b21855acaa1c\n",
      "  Stored in directory: /home/tmost089/.cache/pip/wheels/22/4c/94/0583f60c9c5b6024ed64f290cb2d43b06bb4f75577dc3c93a7\n",
      "  Building wheel for termcolor (setup.py) ... \u001b[?25ldone\n",
      "\u001b[?25h  Created wheel for termcolor: filename=termcolor-1.1.0-py3-none-any.whl size=4848 sha256=161ae1c91b0422faf0a7ae6c309bec2b30367548b049c7694b0d9de81c8ca1e4\n",
      "  Stored in directory: /home/tmost089/.cache/pip/wheels/93/2a/eb/e58dbcbc963549ee4f065ff80a59f274cc7210b6eab962acdc\n",
      "  Building wheel for wrapt (setup.py) ... \u001b[?25ldone\n",
      "\u001b[?25h  Created wheel for wrapt: filename=wrapt-1.12.1-cp36-cp36m-linux_x86_64.whl size=75920 sha256=79d09733242e045db280c640c254bb9cbc945448c75d21a038b0e16b1b4bca42\n",
      "  Stored in directory: /home/tmost089/.cache/pip/wheels/32/42/7f/23cae9ff6ef66798d00dc5d659088e57dbba01566f6c60db63\n",
      "Successfully built clang termcolor wrapt\n",
      "Installing collected packages: urllib3, pyasn1, idna, charset-normalizer, zipp, typing-extensions, six, rsa, requests, pyasn1-modules, oauthlib, cachetools, requests-oauthlib, importlib-metadata, google-auth, werkzeug, tensorboard-plugin-wit, tensorboard-data-server, protobuf, markdown, grpcio, google-auth-oauthlib, cached-property, absl-py, wrapt, termcolor, tensorflow-estimator, tensorboard, opt-einsum, keras-preprocessing, keras, h5py, google-pasta, gast, flatbuffers, clang, astunparse, tensorflow\n",
      "  Attempting uninstall: typing-extensions\n",
      "    Found existing installation: typing-extensions 4.1.1\n",
      "    Uninstalling typing-extensions-4.1.1:\n",
      "      Successfully uninstalled typing-extensions-4.1.1\n",
      "  Attempting uninstall: six\n",
      "    Found existing installation: six 1.16.0\n",
      "    Uninstalling six-1.16.0:\n",
      "      Successfully uninstalled six-1.16.0\n",
      "  Attempting uninstall: keras\n",
      "    Found existing installation: keras 2.10.0\n",
      "    Uninstalling keras-2.10.0:\n",
      "      Successfully uninstalled keras-2.10.0\n",
      "Successfully installed absl-py-0.15.0 astunparse-1.6.3 cached-property-1.5.2 cachetools-4.2.4 charset-normalizer-2.0.12 clang-5.0 flatbuffers-1.12 gast-0.4.0 google-auth-1.35.0 google-auth-oauthlib-0.4.6 google-pasta-0.2.0 grpcio-1.48.2 h5py-3.1.0 idna-3.4 importlib-metadata-4.8.3 keras-2.6.0 keras-preprocessing-1.1.2 markdown-3.3.7 oauthlib-3.2.2 opt-einsum-3.3.0 protobuf-3.19.6 pyasn1-0.4.8 pyasn1-modules-0.2.8 requests-2.27.1 requests-oauthlib-1.3.1 rsa-4.9 six-1.15.0 tensorboard-2.6.0 tensorboard-data-server-0.6.1 tensorboard-plugin-wit-1.8.1 tensorflow-2.6.2 tensorflow-estimator-2.6.0 termcolor-1.1.0 typing-extensions-3.7.4.3 urllib3-1.26.13 werkzeug-2.0.3 wrapt-1.12.1 zipp-3.6.0\n",
      "Note: you may need to restart the kernel to use updated packages.\n"
     ]
    }
   ],
   "source": [
    "%pip install tensorflow"
   ]
  },
  {
   "cell_type": "code",
   "execution_count": 2,
   "metadata": {},
   "outputs": [
    {
     "name": "stdout",
     "output_type": "stream",
     "text": [
      "Collecting Levenshtein\n",
      "  Downloading Levenshtein-0.20.9-cp39-cp39-win_amd64.whl (101 kB)\n",
      "     ------------------------------------ 101.3/101.3 kB 728.8 kB/s eta 0:00:00\n",
      "Collecting rapidfuzz<3.0.0,>=2.3.0\n",
      "  Downloading rapidfuzz-2.13.7-cp39-cp39-win_amd64.whl (1.0 MB)\n",
      "     ---------------------------------------- 1.0/1.0 MB 1.9 MB/s eta 0:00:00\n",
      "Installing collected packages: rapidfuzz, Levenshtein\n",
      "Successfully installed Levenshtein-0.20.9 rapidfuzz-2.13.7\n",
      "Note: you may need to restart the kernel to use updated packages.\n"
     ]
    },
    {
     "name": "stderr",
     "output_type": "stream",
     "text": [
      "\n",
      "[notice] A new release of pip available: 22.3 -> 22.3.1\n",
      "[notice] To update, run: python.exe -m pip install --upgrade pip\n"
     ]
    }
   ],
   "source": [
    "%pip install Levenshtein"
   ]
  },
  {
   "cell_type": "markdown",
   "metadata": {
    "id": "m1WPwUIw9hVg"
   },
   "source": [
    "# Importing libaries"
   ]
  },
  {
   "cell_type": "code",
   "execution_count": 1,
   "metadata": {
    "id": "PwF-skc8GqxD"
   },
   "outputs": [
    {
     "name": "stderr",
     "output_type": "stream",
     "text": [
      "c:\\Users\\EGYPT_LAPTOP\\AppData\\Local\\Programs\\Python\\Python39\\lib\\site-packages\\Bio\\pairwise2.py:278: BiopythonDeprecationWarning: Bio.pairwise2 has been deprecated, and we intend to remove it in a future release of Biopython. As an alternative, please consider using Bio.Align.PairwiseAligner as a replacement, and contact the Biopython developers if you still need the Bio.pairwise2 module.\n",
      "  warnings.warn(\n"
     ]
    }
   ],
   "source": [
    "# Essential libraries\n",
    "import numpy as np\n",
    "import pandas as pd\n",
    "import matplotlib.pyplot as plt\n",
    "import os, sys, re, glob\n",
    "\n",
    "# Biological libraries\n",
    "from Bio import AlignIO\n",
    "from Bio import pairwise2\n",
    "from Bio.Seq import Seq\n",
    "from Bio.SeqRecord import SeqRecord\n",
    "from Bio.Align import MultipleSeqAlignment\n",
    "from Bio.Align.Applications import MafftCommandline\n",
    "from io import StringIO\n",
    "from Bio import AlignIO\n",
    "from Bio.pairwise2 import format_alignment \n",
    "from Bio import SeqIO\n",
    "from Bio import Align\n",
    "from Bio import pairwise2\n",
    "import Levenshtein\n",
    "\n",
    "# Pytorch libraries\n",
    "import torch \n",
    "import torch.nn as nn\n",
    "import torch.optim as optim\n",
    "import torchvision\n",
    "import torchvision.transforms as transforms\n",
    "from torch.utils.data import DataLoader\n",
    "from tqdm import tqdm\n",
    "# from torch.utils.tensorboard import SummaryWriter\n",
    "\n",
    "#Tensorflow\n",
    "from tensorflow.keras.utils import to_categorical\n",
    "from tensorflow.keras.utils import pad_sequences\n",
    "torch.cuda.is_available()\n",
    "\n",
    "#selenium\n",
    "from selenium import webdriver\n",
    "from selenium.webdriver.common.keys import Keys\n",
    "from selenium.webdriver.common.by import By"
   ]
  },
  {
   "attachments": {},
   "cell_type": "markdown",
   "metadata": {},
   "source": [
    "# Alignment"
   ]
  },
  {
   "cell_type": "code",
   "execution_count": 3,
   "metadata": {},
   "outputs": [],
   "source": [
    "def Maffit(in_file,out_file):\n",
    "    mafft_exe = \"/usr/bin/mafft\"\n",
    "    mafft_cline = MafftCommandline(mafft_exe, input=in_file)\n",
    "    stdout, stderr = mafft_cline()\n",
    "    with open(out_file, \"w\") as handle:\n",
    "        handle.write(stdout)\n",
    "    align = AlignIO.read(out_file, \"fasta\")\n",
    "    return align"
   ]
  },
  {
   "cell_type": "code",
   "execution_count": null,
   "metadata": {},
   "outputs": [],
   "source": [
    "drosophilia_alignment = Maffit('./drosophila melanogaster promoters.FASTA','drosophilia_alignment')\n",
    "drosophilia_alignment"
   ]
  },
  {
   "attachments": {},
   "cell_type": "markdown",
   "metadata": {},
   "source": [
    "# Reading the data"
   ]
  },
  {
   "cell_type": "code",
   "execution_count": 2,
   "metadata": {},
   "outputs": [
    {
     "data": {
      "text/html": [
       "<div>\n",
       "<style scoped>\n",
       "    .dataframe tbody tr th:only-of-type {\n",
       "        vertical-align: middle;\n",
       "    }\n",
       "\n",
       "    .dataframe tbody tr th {\n",
       "        vertical-align: top;\n",
       "    }\n",
       "\n",
       "    .dataframe thead th {\n",
       "        text-align: right;\n",
       "    }\n",
       "</style>\n",
       "<table border=\"1\" class=\"dataframe\">\n",
       "  <thead>\n",
       "    <tr style=\"text-align: right;\">\n",
       "      <th></th>\n",
       "      <th>sequences</th>\n",
       "    </tr>\n",
       "  </thead>\n",
       "  <tbody>\n",
       "    <tr>\n",
       "      <th>0</th>\n",
       "      <td>(G, T, T, T, G, G, G, G, G, G, C, A, C, G, G, ...</td>\n",
       "    </tr>\n",
       "    <tr>\n",
       "      <th>1</th>\n",
       "      <td>(C, T, G, T, G, T, G, T, A, A, G, T, G, G, G, ...</td>\n",
       "    </tr>\n",
       "    <tr>\n",
       "      <th>2</th>\n",
       "      <td>(A, C, C, A, G, T, T, A, T, T, C, T, C, A, A, ...</td>\n",
       "    </tr>\n",
       "    <tr>\n",
       "      <th>3</th>\n",
       "      <td>(G, C, C, A, G, C, T, G, A, T, T, G, G, C, C, ...</td>\n",
       "    </tr>\n",
       "    <tr>\n",
       "      <th>4</th>\n",
       "      <td>(T, T, T, T, C, C, T, T, T, T, T, T, T, T, T, ...</td>\n",
       "    </tr>\n",
       "    <tr>\n",
       "      <th>...</th>\n",
       "      <td>...</td>\n",
       "    </tr>\n",
       "    <tr>\n",
       "      <th>16967</th>\n",
       "      <td>(C, G, G, T, A, G, C, G, G, A, T, G, C, T, A, ...</td>\n",
       "    </tr>\n",
       "    <tr>\n",
       "      <th>16968</th>\n",
       "      <td>(A, A, A, A, C, T, A, A, A, A, A, A, A, A, A, ...</td>\n",
       "    </tr>\n",
       "    <tr>\n",
       "      <th>16969</th>\n",
       "      <td>(T, T, G, C, A, A, C, G, A, G, A, A, T, T, T, ...</td>\n",
       "    </tr>\n",
       "    <tr>\n",
       "      <th>16970</th>\n",
       "      <td>(C, G, G, T, C, T, T, A, G, C, T, T, T, T, C, ...</td>\n",
       "    </tr>\n",
       "    <tr>\n",
       "      <th>16971</th>\n",
       "      <td>(G, T, A, T, T, T, C, T, C, T, A, C, G, T, T, ...</td>\n",
       "    </tr>\n",
       "  </tbody>\n",
       "</table>\n",
       "<p>16972 rows × 1 columns</p>\n",
       "</div>"
      ],
      "text/plain": [
       "                                               sequences\n",
       "0      (G, T, T, T, G, G, G, G, G, G, C, A, C, G, G, ...\n",
       "1      (C, T, G, T, G, T, G, T, A, A, G, T, G, G, G, ...\n",
       "2      (A, C, C, A, G, T, T, A, T, T, C, T, C, A, A, ...\n",
       "3      (G, C, C, A, G, C, T, G, A, T, T, G, G, C, C, ...\n",
       "4      (T, T, T, T, C, C, T, T, T, T, T, T, T, T, T, ...\n",
       "...                                                  ...\n",
       "16967  (C, G, G, T, A, G, C, G, G, A, T, G, C, T, A, ...\n",
       "16968  (A, A, A, A, C, T, A, A, A, A, A, A, A, A, A, ...\n",
       "16969  (T, T, G, C, A, A, C, G, A, G, A, A, T, T, T, ...\n",
       "16970  (C, G, G, T, C, T, T, A, G, C, T, T, T, T, C, ...\n",
       "16971  (G, T, A, T, T, T, C, T, C, T, A, C, G, T, T, ...\n",
       "\n",
       "[16972 rows x 1 columns]"
      ]
     },
     "execution_count": 2,
     "metadata": {},
     "output_type": "execute_result"
    }
   ],
   "source": [
    "#Parse the sequences\n",
    "sequences = []\n",
    "for record in SeqIO.parse('./drosophila melanogaster promoters.FASTA', \"fasta\"):\n",
    "    sequences.append(record.seq)\n",
    "# convert to dataframe\n",
    "Promoters = pd.DataFrame([sequences]).T\n",
    "Promoters.rename(columns = {0:'sequences'}, inplace = True)\n",
    "Promoters"
   ]
  },
  {
   "attachments": {},
   "cell_type": "markdown",
   "metadata": {},
   "source": [
    "# Preprocessing"
   ]
  },
  {
   "cell_type": "code",
   "execution_count": 3,
   "metadata": {},
   "outputs": [],
   "source": [
    "def preprocessing(Promoters):\n",
    "    # create lists \n",
    "    seqs = []\n",
    "    # check length\n",
    "    max_len = len(Promoters.sequences.max())\n",
    "    for i in range(len(Promoters)):\n",
    "        check = len(Promoters.sequences[i])\n",
    "        if check < max_len:\n",
    "           Promoters.sequences[i] = pad_sequences(Promoters.sequences[i],maxlen=max_len)\n",
    "    # perform one hot encoder\n",
    "        mapping = dict(zip(\"ACGT\",range(4)))\n",
    "        seq = [mapping[m] for m in Promoters.sequences[i] if m !='N']\n",
    "        arr =  to_categorical(seq,num_classes = 4, dtype = 'int32')\n",
    "        seqs.append(arr)\n",
    "    # check length after one hot encoder\n",
    "    for j in range(len(seqs)):\n",
    "        check = len(seqs[j])\n",
    "        if check < max_len:\n",
    "          s = pad_sequences(seqs[j].T,maxlen=max_len)\n",
    "          seqs[j]=s.T\n",
    "\n",
    "    # convert numpy to tensors\n",
    "    seq_tensor = [torch.from_numpy(seq) for seq in seqs]\n",
    "    training_data  = torch.stack(seq_tensor)\n",
    "    return training_data"
   ]
  },
  {
   "cell_type": "code",
   "execution_count": 4,
   "metadata": {},
   "outputs": [
    {
     "data": {
      "text/plain": [
       "torch.Size([16972, 600, 4])"
      ]
     },
     "execution_count": 4,
     "metadata": {},
     "output_type": "execute_result"
    }
   ],
   "source": [
    "training_data = preprocessing(Promoters)\n",
    "training_data.shape"
   ]
  },
  {
   "attachments": {},
   "cell_type": "markdown",
   "metadata": {},
   "source": [
    "# DC-GAN"
   ]
  },
  {
   "cell_type": "markdown",
   "metadata": {
    "id": "qKfKpu9WvX1e"
   },
   "source": [
    "## Generator"
   ]
  },
  {
   "cell_type": "code",
   "execution_count": 8,
   "metadata": {
    "id": "h7OomzWfvWro"
   },
   "outputs": [],
   "source": [
    "class Generator(nn.Module):\n",
    "    def __init__(self,noise_dim,gen_features,SelfAttentionLayer):\n",
    "        super(Generator,self).__init__()\n",
    "        self.gen = nn.Sequential(\n",
    "            nn.utils.parametrizations.spectral_norm(nn.ConvTranspose1d(noise_dim      ,gen_features , kernel_size = 4, stride=2, padding = 1)),\n",
    "            nn.ReLU(),\n",
    "            nn.utils.parametrizations.spectral_norm(nn.ConvTranspose1d(gen_features  ,gen_features  , kernel_size = 4, stride=1, padding = 1)),\n",
    "            nn.ReLU(),\n",
    "            nn.utils.parametrizations.spectral_norm(nn.ConvTranspose1d(gen_features  ,gen_features*2, kernel_size = 4, stride=1, padding = 1)),\n",
    "            nn.ReLU(),\n",
    "            #SelfAttentionLayer(gen_features*2,gen_features*2),\n",
    "            nn.utils.parametrizations.spectral_norm(nn.ConvTranspose1d(gen_features*2,gen_features*2, kernel_size = 4, stride=1, padding = 1)),\n",
    "            nn.ReLU(),\n",
    "            nn.utils.parametrizations.spectral_norm(nn.ConvTranspose1d(gen_features*2,gen_features*2, kernel_size = 4, stride=1, padding = 1)),\n",
    "            nn.ReLU(),\n",
    "            nn.utils.parametrizations.spectral_norm(nn.ConvTranspose1d(gen_features*2,gen_features*2, kernel_size = 4, stride=1, padding = 1)),\n",
    "            nn.ReLU(),\n",
    "            #SelfAttentionLayer(gen_features*2,gen_features*2),\n",
    "            nn.utils.parametrizations.spectral_norm(nn.ConvTranspose1d(gen_features*2,gen_features*3, kernel_size = 4, stride=1, padding = 1)),\n",
    "            nn.ReLU(),\n",
    "            nn.utils.parametrizations.spectral_norm(nn.Conv1d(gen_features*3        ,gen_features*3, kernel_size = 4, stride=1, padding = 0)),\n",
    "            nn.ReLU(),\n",
    "            nn.utils.parametrizations.spectral_norm(nn.Conv1d(gen_features*3         ,gen_features*3, kernel_size = 4, stride=1, padding = 1)),\n",
    "            nn.ReLU())\n",
    "    def forward(self,x):\n",
    "        return self.gen(x.type(torch.FloatTensor))"
   ]
  },
  {
   "cell_type": "markdown",
   "metadata": {
    "id": "eLJQAyMAl2Vn"
   },
   "source": [
    "## Discriminator"
   ]
  },
  {
   "cell_type": "code",
   "execution_count": 9,
   "metadata": {
    "id": "OOnLWEZkE123"
   },
   "outputs": [],
   "source": [
    "class Discriminator(nn.Module):\n",
    "    def __init__(self,seq_len,disc_features,SelfAttentionLayer):\n",
    "        super(Discriminator,self).__init__()\n",
    "        self.disc = nn.Sequential(\n",
    "            nn.utils.parametrizations.spectral_norm(nn.Conv1d(seq_len         , disc_features   , kernel_size = 3, stride = 1, padding = 1)),nn.LeakyReLU(0.2),\n",
    "            nn.utils.parametrizations.spectral_norm(nn.Conv1d(disc_features   , disc_features   , kernel_size = 3, stride = 1, padding = 1)),nn.LeakyReLU(0.2),\n",
    "            nn.utils.parametrizations.spectral_norm(nn.Conv1d(disc_features   , disc_features   , kernel_size = 3, stride = 1, padding = 1)),nn.LeakyReLU(0.2),\n",
    "            #SelfAttentionLayer(disc_features,disc_features),\n",
    "            nn.utils.parametrizations.spectral_norm(nn.Conv1d(disc_features   , disc_features*2 , kernel_size = 3, stride = 1, padding = 1)),nn.LeakyReLU(0.2),\n",
    "            nn.utils.parametrizations.spectral_norm(nn.Conv1d(disc_features*2 , disc_features*2 , kernel_size = 3, stride = 1, padding = 1)),nn.LeakyReLU(0.2),\n",
    "            nn.utils.parametrizations.spectral_norm(nn.Conv1d(disc_features*2 , disc_features*2 , kernel_size = 3, stride = 1, padding = 1)),nn.LeakyReLU(0.2),\n",
    "            #SelfAttentionLayer(disc_features*2,disc_features*2),\n",
    "            nn.utils.parametrizations.spectral_norm(nn.Conv1d(disc_features*2 , disc_features*4 , kernel_size = 3, stride = 2, padding = 1)),nn.LeakyReLU(0.2),\n",
    "            # nn.Conv1d(disc_features*4 , disc_features*4 , kernel_size = 3, stride = 2, padding = 0),torch.nn.InstanceNorm1d(disc_features*4,affine = True),nn.LeakyReLU(0.2),\n",
    "            nn.utils.parametrizations.spectral_norm(nn.Conv1d(disc_features*4 , 1               , kernel_size = 3, stride = 2, padding = 1)),nn.Sigmoid())\n",
    "    def forward(self,x):\n",
    "        return self.disc(x.type(torch.FloatTensor))"
   ]
  },
  {
   "cell_type": "code",
   "execution_count": 9,
   "metadata": {},
   "outputs": [
    {
     "data": {
      "text/plain": [
       "torch.Size([1, 1])"
      ]
     },
     "execution_count": 9,
     "metadata": {},
     "output_type": "execute_result"
    }
   ],
   "source": [
    "disc = nn.Sequential(\n",
    "            nn.utils.parametrizations.spectral_norm(nn.Conv1d(600         , 1200   , kernel_size = 3, stride = 1, padding = 1)),nn.LeakyReLU(0.2),\n",
    "            nn.utils.parametrizations.spectral_norm(nn.Conv1d(1200   , 1200   , kernel_size = 3, stride = 1, padding = 1)),nn.LeakyReLU(0.2),\n",
    "            nn.utils.parametrizations.spectral_norm(nn.Conv1d(1200   , 1200   , kernel_size = 3, stride = 1, padding = 1)),nn.LeakyReLU(0.2),\n",
    "            nn.utils.parametrizations.spectral_norm(nn.Conv1d(1200   , 1200*2 , kernel_size = 3, stride = 1, padding = 1)),nn.LeakyReLU(0.2),\n",
    "            nn.utils.parametrizations.spectral_norm(nn.Conv1d(1200*2 , 1200*2 , kernel_size = 3, stride = 1, padding = 1)),nn.LeakyReLU(0.2),\n",
    "            nn.utils.parametrizations.spectral_norm(nn.Conv1d(1200*2 , 1200*2 , kernel_size = 3, stride = 1, padding = 1)),nn.LeakyReLU(0.2),\n",
    "            nn.utils.parametrizations.spectral_norm(nn.Conv1d(1200*2 , 1200*4 , kernel_size = 3, stride = 2, padding = 1)),nn.LeakyReLU(0.2),\n",
    "            # nn.Conv1d(1200*4 , 1200*4 , kernel_size = 3, stride = 2, padding = 0),torch.nn.InstanceNorm1d(1200*4,affine = True),nn.LeakyReLU(0.2),\n",
    "            nn.utils.parametrizations.spectral_norm(nn.Conv1d(1200*4 , 1               , kernel_size = 3, stride = 2, padding = 1)),nn.Sigmoid())(training_data[128].type(torch.FloatTensor))\n",
    "disc.shape"
   ]
  },
  {
   "cell_type": "markdown",
   "metadata": {
    "id": "GrAeIWpNF2Wu"
   },
   "source": [
    "## Self attention layer"
   ]
  },
  {
   "cell_type": "code",
   "execution_count": 10,
   "metadata": {
    "id": "-mqql9SmF6gj"
   },
   "outputs": [],
   "source": [
    "class SelfAttentionLayer(nn.Module):\n",
    "  def __init__(self,feature_in,feature_out):\n",
    "    super(SelfAttentionLayer,self).__init__()\n",
    "    self.Q = nn.Conv1d(feature_in, feature_out, kernel_size = 1, stride = 1, padding = 'same')\n",
    "    self.K = nn.Conv1d(feature_in, feature_out, kernel_size = 1, stride = 1, padding = 'same')\n",
    "    self.V = nn.Conv1d(feature_in, feature_out, kernel_size = 1, stride = 1, padding = 'same')\n",
    "    self.softmax  = nn.Softmax(dim=1)\n",
    "  def forward(self,x):\n",
    "    Q = self.Q(x)\n",
    "    K = self.K(x)\n",
    "    V = self.V(x)\n",
    "    d = K.shape[0]\n",
    "    QK_d = (Q@K.permute(0,2,1))/(d)**0.5\n",
    "    prob = self.softmax(QK_d)\n",
    "    attention = torch.Tensor(prob @ V)\n",
    "    return attention "
   ]
  },
  {
   "cell_type": "markdown",
   "metadata": {
    "id": "sWLcHGfszGaG"
   },
   "source": [
    "## Loss functions"
   ]
  },
  {
   "cell_type": "code",
   "execution_count": 11,
   "metadata": {
    "id": "5gs-K07lxc1b"
   },
   "outputs": [],
   "source": [
    "from Bio.SeqIO.QualityIO import log\n",
    "import torch.nn.functional as F\n",
    "from typing import Dict, Any\n",
    "\n",
    "HYPERPARAMETERS: Dict[str, Any] = {\n",
    "    \"r1_w\": 0.2,\n",
    "    \"r2_w\": 0.2,\n",
    "    \"dra_w\": 0.1,\n",
    "    \"rlc_af\": 1.,\n",
    "    \"rlc_ar\": 1.,\n",
    "    \"rlc_w\": 0.15\n",
    "}\n",
    "\n",
    "class Regularization (nn.Module):\n",
    "    def __init__(self):\n",
    "        super(Regularization, self).__init__()\n",
    "\n",
    "    def RLC(self, discriminator_prediction_real: torch.Tensor, discriminator_prediction_fake: torch.Tensor) -> torch.Tensor:\n",
    "        regularization_loss = (discriminator_prediction_real - HYPERPARAMETERS[\"rlc_af\"]).norm(dim=-1).pow(2).mean() \\\n",
    "                              + (discriminator_prediction_fake - HYPERPARAMETERS[\"rlc_ar\"]).norm(dim=-1).pow(2).mean()\n",
    "        return HYPERPARAMETERS[\"rlc_w\"] * regularization_loss\n",
    "\n",
    "    def R1(self,discriminator_prediction_real):\n",
    "        #grad_real = torch.autograd.grad(outputs=discriminator_prediction_real.sum(), inputs=real, create_graph=True)[0]\n",
    "        regularization_loss: torch.Tensor = HYPERPARAMETERS[\"r1_w\"] * discriminator_prediction_real.pow(2).view(discriminator_prediction_real.shape[0], -1).sum(1).mean()\n",
    "        return regularization_loss\n",
    "\n",
    "    def R2(self, discriminator_prediction_fake):\n",
    "        #grad_fake = torch.autograd.grad(outputs=discriminator_prediction_fake.sum(), inputs=fake, create_graph=True)[0]\n",
    "        regularization_loss: torch.Tensor = HYPERPARAMETERS[\"r2_w\"] * discriminator_prediction_fake.pow(2).view(discriminator_prediction_fake.shape[0], -1).sum(1).mean()\n",
    "        return regularization_loss\n",
    "    \n",
    "\n",
    "class GANLossDiscriminator(nn.Module):\n",
    "    def __init__(self) -> None:\n",
    "        super(GANLossDiscriminator, self).__init__()\n",
    "\n",
    "    def Least_square(self, discriminator_prediction_real: torch.Tensor,discriminator_prediction_fake: torch.Tensor) -> torch.Tensor:\n",
    "        return 0.5 * ((- discriminator_prediction_real - 1.).pow(2).mean()+ discriminator_prediction_fake.pow(2).mean())  \n",
    "\n",
    "    def non_saturation(self, discriminator_prediction_real: torch.Tensor,discriminator_prediction_fake: torch.Tensor) -> torch.Tensor:\n",
    "        return F.softplus(- discriminator_prediction_real).mean() + F.softplus(discriminator_prediction_fake).mean()   \n",
    "\n",
    "\n",
    "    def Basic(self, discriminator_prediction_real: torch.Tensor,discriminator_prediction_fake: torch.Tensor) -> torch.Tensor:         \n",
    "        return - torch.mean(torch.log(discriminator_prediction_real + 1e-8) + torch.log(1 - discriminator_prediction_fake + 1e-8))\n",
    "\n",
    "    def Wasserstein(self, discriminator_prediction_real: torch.Tensor,discriminator_prediction_fake: torch.Tensor) -> torch.Tensor:\n",
    "        return  -(torch.mean(discriminator_prediction_real) - torch.mean(discriminator_prediction_fake))\n",
    "\n",
    "\n",
    "class GANLossGenerator(nn.Module):\n",
    "    def __init__(self) -> None:\n",
    "        super(GANLossGenerator, self).__init__()\n",
    "\n",
    "    def Least_square(self, discriminator_prediction_fake: torch.Tensor) -> torch.Tensor:\n",
    "        return 0.5 * (discriminator_prediction_fake - 1.).pow(2).mean()\n",
    "\n",
    "    def Regular(self, discriminator_prediction_fake: torch.Tensor) -> torch.Tensor:   \n",
    "        return  F.softplus(discriminator_prediction_fake).mean()\n",
    "\n",
    "    def non_saturation(self, discriminator_prediction_fake: torch.Tensor) -> torch.Tensor: \n",
    "        return F.softplus(- discriminator_prediction_fake).mean()\n",
    "\n",
    "    def Basic(self, discriminator_prediction_fake: torch.Tensor) -> torch.Tensor: \n",
    "        return - torch.mean( torch.log(1 - discriminator_prediction_fake + 1e-8))\n",
    "\n",
    "    def Wasserstein(self, discriminator_prediction_fake: torch.Tensor) -> torch.Tensor:\n",
    "        return -torch.mean(discriminator_prediction_fake)"
   ]
  },
  {
   "cell_type": "markdown",
   "metadata": {
    "id": "4QdWA_mPztfk"
   },
   "source": [
    "## Initialize weights"
   ]
  },
  {
   "cell_type": "code",
   "execution_count": 13,
   "metadata": {
    "id": "CUmTaVi1z2BC"
   },
   "outputs": [],
   "source": [
    "def Initialize_weights(model):\n",
    "    for m in model.modules():\n",
    "        if isinstance(m,(nn.Conv1d,nn.ConvTranspose1d,nn.BatchNorm1d)):\n",
    "            nn.init.normal_(m.weight.data,0,0.02)"
   ]
  },
  {
   "cell_type": "markdown",
   "metadata": {
    "id": "0-L4zYqoshS0"
   },
   "source": [
    "## Training"
   ]
  },
  {
   "cell_type": "code",
   "execution_count": 14,
   "metadata": {
    "colab": {
     "base_uri": "https://localhost:8080/"
    },
    "id": "J0MQWNmOaTuo",
    "outputId": "ca3023dd-e793-4948-aee2-ff86a7a7152c"
   },
   "outputs": [
    {
     "name": "stderr",
     "output_type": "stream",
     "text": [
      " 26%|██▌       | 34/133 [13:03<39:08, 23.72s/it]"
     ]
    },
    {
     "name": "stdout",
     "output_type": "stream",
     "text": [
      "Epoch [1/50] Batch 34/133                 Loss D: 2.33, loss G: 1.75\n"
     ]
    },
    {
     "name": "stderr",
     "output_type": "stream",
     "text": [
      " 31%|███       | 41/133 [16:12<36:22, 23.72s/it]\n"
     ]
    },
    {
     "ename": "KeyboardInterrupt",
     "evalue": "",
     "output_type": "error",
     "traceback": [
      "\u001b[1;31m---------------------------------------------------------------------------\u001b[0m",
      "\u001b[1;31mKeyboardInterrupt\u001b[0m                         Traceback (most recent call last)",
      "\u001b[1;32md:\\DEBI\\Uottawa\\Final project - Protienea\\Synthetic promoters via GAN\\Synthetic promoters via GAN.ipynb Cell 37\u001b[0m in \u001b[0;36m<cell line: 36>\u001b[1;34m()\u001b[0m\n\u001b[0;32m     <a href='vscode-notebook-cell:/d%3A/DEBI/Uottawa/Final%20project%20-%20Protienea/Synthetic%20promoters%20via%20GAN/Synthetic%20promoters%20via%20GAN.ipynb#X51sZmlsZQ%3D%3D?line=51'>52</a>\u001b[0m disc\u001b[39m.\u001b[39mzero_grad()\n\u001b[0;32m     <a href='vscode-notebook-cell:/d%3A/DEBI/Uottawa/Final%20project%20-%20Protienea/Synthetic%20promoters%20via%20GAN/Synthetic%20promoters%20via%20GAN.ipynb#X51sZmlsZQ%3D%3D?line=52'>53</a>\u001b[0m \u001b[39m# Backpropagate and optimize the discriminator\u001b[39;00m\n\u001b[1;32m---> <a href='vscode-notebook-cell:/d%3A/DEBI/Uottawa/Final%20project%20-%20Protienea/Synthetic%20promoters%20via%20GAN/Synthetic%20promoters%20via%20GAN.ipynb#X51sZmlsZQ%3D%3D?line=53'>54</a>\u001b[0m loss_disc\u001b[39m.\u001b[39;49mbackward()\n\u001b[0;32m     <a href='vscode-notebook-cell:/d%3A/DEBI/Uottawa/Final%20project%20-%20Protienea/Synthetic%20promoters%20via%20GAN/Synthetic%20promoters%20via%20GAN.ipynb#X51sZmlsZQ%3D%3D?line=54'>55</a>\u001b[0m opt_disc\u001b[39m.\u001b[39mstep()\n\u001b[0;32m     <a href='vscode-notebook-cell:/d%3A/DEBI/Uottawa/Final%20project%20-%20Protienea/Synthetic%20promoters%20via%20GAN/Synthetic%20promoters%20via%20GAN.ipynb#X51sZmlsZQ%3D%3D?line=56'>57</a>\u001b[0m \u001b[39m### Train Generator: min log(1 - D(G(z))) <-> max log(D(G(z))\u001b[39;00m\n\u001b[0;32m     <a href='vscode-notebook-cell:/d%3A/DEBI/Uottawa/Final%20project%20-%20Protienea/Synthetic%20promoters%20via%20GAN/Synthetic%20promoters%20via%20GAN.ipynb#X51sZmlsZQ%3D%3D?line=57'>58</a>\u001b[0m \u001b[39m# Calculating the loss of the generator\u001b[39;00m\n",
      "File \u001b[1;32mc:\\Users\\EGYPT_LAPTOP\\AppData\\Local\\Programs\\Python\\Python39\\lib\\site-packages\\torch\\_tensor.py:487\u001b[0m, in \u001b[0;36mTensor.backward\u001b[1;34m(self, gradient, retain_graph, create_graph, inputs)\u001b[0m\n\u001b[0;32m    477\u001b[0m \u001b[39mif\u001b[39;00m has_torch_function_unary(\u001b[39mself\u001b[39m):\n\u001b[0;32m    478\u001b[0m     \u001b[39mreturn\u001b[39;00m handle_torch_function(\n\u001b[0;32m    479\u001b[0m         Tensor\u001b[39m.\u001b[39mbackward,\n\u001b[0;32m    480\u001b[0m         (\u001b[39mself\u001b[39m,),\n\u001b[1;32m   (...)\u001b[0m\n\u001b[0;32m    485\u001b[0m         inputs\u001b[39m=\u001b[39minputs,\n\u001b[0;32m    486\u001b[0m     )\n\u001b[1;32m--> 487\u001b[0m torch\u001b[39m.\u001b[39;49mautograd\u001b[39m.\u001b[39;49mbackward(\n\u001b[0;32m    488\u001b[0m     \u001b[39mself\u001b[39;49m, gradient, retain_graph, create_graph, inputs\u001b[39m=\u001b[39;49minputs\n\u001b[0;32m    489\u001b[0m )\n",
      "File \u001b[1;32mc:\\Users\\EGYPT_LAPTOP\\AppData\\Local\\Programs\\Python\\Python39\\lib\\site-packages\\torch\\autograd\\__init__.py:197\u001b[0m, in \u001b[0;36mbackward\u001b[1;34m(tensors, grad_tensors, retain_graph, create_graph, grad_variables, inputs)\u001b[0m\n\u001b[0;32m    192\u001b[0m     retain_graph \u001b[39m=\u001b[39m create_graph\n\u001b[0;32m    194\u001b[0m \u001b[39m# The reason we repeat same the comment below is that\u001b[39;00m\n\u001b[0;32m    195\u001b[0m \u001b[39m# some Python versions print out the first line of a multi-line function\u001b[39;00m\n\u001b[0;32m    196\u001b[0m \u001b[39m# calls in the traceback and some print out the last line\u001b[39;00m\n\u001b[1;32m--> 197\u001b[0m Variable\u001b[39m.\u001b[39;49m_execution_engine\u001b[39m.\u001b[39;49mrun_backward(  \u001b[39m# Calls into the C++ engine to run the backward pass\u001b[39;49;00m\n\u001b[0;32m    198\u001b[0m     tensors, grad_tensors_, retain_graph, create_graph, inputs,\n\u001b[0;32m    199\u001b[0m     allow_unreachable\u001b[39m=\u001b[39;49m\u001b[39mTrue\u001b[39;49;00m, accumulate_grad\u001b[39m=\u001b[39;49m\u001b[39mTrue\u001b[39;49;00m)\n",
      "\u001b[1;31mKeyboardInterrupt\u001b[0m: "
     ]
    }
   ],
   "source": [
    "# Hyperparameters\n",
    "device = \"cuda\" if torch.cuda.is_available() else \"cpu\"\n",
    "Learning_rate = 1e-5\n",
    "Batch_size = 128\n",
    "seq_size = 4\n",
    "seq_len = 600\n",
    "noise_dim = 200\n",
    "num_epochs = 50\n",
    "features_disc = 1200\n",
    "features_gen = 200\n",
    "\n",
    "# lists\n",
    "gen_losses = []\n",
    "disc_losses = []\n",
    "# Using dataloader to splitting the data into batches\n",
    "dataloader = DataLoader(training_data, batch_size=Batch_size, shuffle=True)\n",
    "# Calling Generator and discriminator classes\n",
    "gen = Generator(noise_dim, features_gen,SelfAttentionLayer)\n",
    "disc = Discriminator(seq_len, features_disc,SelfAttentionLayer)\n",
    "# Initialize the weights of two classes: mean = 0, std = 0.02\n",
    "Initialize_weights(gen)\n",
    "Initialize_weights(disc)\n",
    "\n",
    "# Using Adam optimizers\n",
    "opt_gen = optim.Adam(gen.parameters(), lr=Learning_rate, betas=(0.5, 0.999))\n",
    "opt_disc = optim.Adam(disc.parameters(), lr=Learning_rate, betas=(0.5, 0.999))\n",
    "# calling Generator and Discrimiator losses\n",
    "lossG = GANLossGenerator()\n",
    "lossD = GANLossDiscriminator()\n",
    "reg = Regularization()\n",
    "\n",
    "# Training models\n",
    "gen.train()\n",
    "disc.train()\n",
    "\n",
    "for epoch in range(num_epochs):\n",
    "    for batch_idx, real in enumerate(tqdm(dataloader)):\n",
    "        real = real.to(device)\n",
    "        # Generate noises\n",
    "        noise = torch.randn(len(real),noise_dim,1).to(device)\n",
    "        # path the noise into generator\n",
    "        fake = gen(noise)\n",
    "        ### Train Discriminator: max log(D(x)) + log(1 - D(G(z)))\n",
    "        disc_real = disc(real).reshape(-1)\n",
    "        disc_fake = disc(fake).reshape(-1)\n",
    "        # calcuate the loss of discriminator\n",
    "        loss_disc = lossD.Basic(disc_real,disc_fake)\n",
    "        loss_disc = torch.autograd.Variable (loss_disc,requires_grad=True)\n",
    "        loss_disc_RLC = torch.Tensor(reg.RLC(disc_real,disc_fake))\n",
    "        loss_disc = loss_disc + loss_disc_RLC\n",
    "        # using zero grad to avoid accumelation of the gradient\n",
    "        disc.zero_grad()\n",
    "        # Backpropagate and optimize the discriminator\n",
    "        loss_disc.backward()\n",
    "        opt_disc.step()\n",
    "\n",
    "        ### Train Generator: min log(1 - D(G(z))) <-> max log(D(G(z))\n",
    "        # Calculating the loss of the generator\n",
    "        loss_gen = lossG.Basic(disc_fake)\n",
    "        loss_gen = torch.autograd.Variable (loss_gen,requires_grad=True)\n",
    "        # backpropagate and optimize the generator\n",
    "        gen.zero_grad()\n",
    "        loss_gen.backward()\n",
    "        opt_gen.step()\n",
    "\n",
    "        # Print losses occasionally\n",
    "        disc_losses.append(loss_disc.detach().float())\n",
    "        gen_losses.append(loss_gen.detach().float())\n",
    "        if batch_idx == 33:\n",
    "          print(\n",
    "              f\"Epoch [{epoch+1}/{num_epochs}] Batch {batch_idx+1}/{len(dataloader)} \\\n",
    "                Loss D: {loss_disc:.2f}, loss G: {loss_gen:.2f}\"\n",
    "              )"
   ]
  },
  {
   "cell_type": "code",
   "execution_count": null,
   "metadata": {},
   "outputs": [],
   "source": [
    "torch.save(gen.state_dict(),\"DCGAN Generator.pt\")\n",
    "torch.save(disc.state_dict(),\"DCGAN Discriminator.pt\")"
   ]
  },
  {
   "attachments": {},
   "cell_type": "markdown",
   "metadata": {},
   "source": [
    "## Visualization"
   ]
  },
  {
   "cell_type": "code",
   "execution_count": null,
   "metadata": {},
   "outputs": [],
   "source": [
    "def Visualize(gen_losses,disc_losses):\n",
    "    Gloss = []\n",
    "    Dloss = []\n",
    "    for i in range(len(gen_losses)):\n",
    "        Gloss.append(gen_losses[i].detach().numpy())\n",
    "        Dloss.append(disc_losses[i].detach().numpy())\n",
    "    plt.figure(figsize=(10,5))\n",
    "    plt.title(\"Generator and Discriminator Loss During Training\")\n",
    "    plt.plot(Gloss,label=\"Generator \")\n",
    "    plt.plot(Dloss,label=\"Discriminator\")\n",
    "    plt.xlabel(\"iterations\")\n",
    "    plt.ylabel(\"Loss\")\n",
    "    plt.legend()\n",
    "    plt.show()"
   ]
  },
  {
   "cell_type": "code",
   "execution_count": null,
   "metadata": {},
   "outputs": [
    {
     "data": {
      "image/png": "[encoded data removed]",
      "text/plain": [
       "<Figure size 720x360 with 1 Axes>"
      ]
     },
     "metadata": {},
     "output_type": "display_data"
    }
   ],
   "source": [
    "Visualize(gen_losses,disc_losses)"
   ]
  },
  {
   "attachments": {},
   "cell_type": "markdown",
   "metadata": {},
   "source": [
    "# WGAN-GP"
   ]
  },
  {
   "attachments": {},
   "cell_type": "markdown",
   "metadata": {},
   "source": [
    "## Generator"
   ]
  },
  {
   "cell_type": "code",
   "execution_count": null,
   "metadata": {},
   "outputs": [],
   "source": [
    "class Generator(nn.Module):\n",
    "    def __init__(self,noise_dim,gen_features,SelfAttentionLayer):\n",
    "        super(Generator,self).__init__()\n",
    "        self.gen = nn.Sequential(\n",
    "            nn.utils.parametrizations.spectral_norm(nn.ConvTranspose1d(noise_dim      ,gen_features , kernel_size = 4, stride=2, padding = 1)),\n",
    "            nn.LeakyReLU(0.2),\n",
    "            nn.utils.parametrizations.spectral_norm(nn.ConvTranspose1d(gen_features  ,gen_features  , kernel_size = 4, stride=1, padding = 1)),\n",
    "            nn.LeakyReLU(0.2),\n",
    "            nn.utils.parametrizations.spectral_norm(nn.ConvTranspose1d(gen_features  ,gen_features*2, kernel_size = 4, stride=1, padding = 1)),\n",
    "            nn.LeakyReLU(0.2),\n",
    "            SelfAttentionLayer(gen_features*2,gen_features*2),\n",
    "            nn.utils.parametrizations.spectral_norm(nn.ConvTranspose1d(gen_features*2,gen_features*2, kernel_size = 4, stride=1, padding = 1)),\n",
    "            nn.LeakyReLU(0.2),\n",
    "            nn.utils.parametrizations.spectral_norm(nn.ConvTranspose1d(gen_features*2,gen_features*2, kernel_size = 4, stride=1, padding = 1)),\n",
    "            nn.LeakyReLU(0.2),\n",
    "            nn.utils.parametrizations.spectral_norm(nn.ConvTranspose1d(gen_features*2,gen_features*2, kernel_size = 4, stride=1, padding = 1)),\n",
    "            nn.LeakyReLU(0.2),\n",
    "            SelfAttentionLayer(gen_features*2,gen_features*2),\n",
    "            nn.utils.parametrizations.spectral_norm(nn.ConvTranspose1d(gen_features*2,gen_features*3, kernel_size = 4, stride=1, padding = 1)),\n",
    "            nn.LeakyReLU(0.2),\n",
    "            nn.utils.parametrizations.spectral_norm(nn.Conv1d(gen_features*3        ,gen_features*3, kernel_size = 4, stride=1, padding = 0)),\n",
    "            nn.LeakyReLU(0.2),\n",
    "            nn.utils.parametrizations.spectral_norm(nn.Conv1d(gen_features*3         ,gen_features*3, kernel_size = 4, stride=1, padding = 1)),\n",
    "            nn.ReLU())\n",
    "    def forward(self,x):\n",
    "        return self.gen(x.type(torch.FloatTensor))"
   ]
  },
  {
   "attachments": {},
   "cell_type": "markdown",
   "metadata": {},
   "source": [
    "## Critic"
   ]
  },
  {
   "cell_type": "code",
   "execution_count": null,
   "metadata": {},
   "outputs": [],
   "source": [
    "class Critic(nn.Module):\n",
    "    def __init__(self,seq_len,disc_features,SelfAttentionLayer):\n",
    "        super(Critic,self).__init__()\n",
    "        self.disc = nn.Sequential(\n",
    "            nn.Conv1d(seq_len         , disc_features   , kernel_size = 3, stride = 1, padding = 1),nn.LeakyReLU(0.2),\n",
    "            nn.Conv1d(disc_features   , disc_features   , kernel_size = 3, stride = 1, padding = 1),torch.nn.InstanceNorm1d(disc_features ,affine = True),nn.LeakyReLU(0.2),\n",
    "            nn.Conv1d(disc_features   , disc_features   , kernel_size = 3, stride = 1, padding = 1),torch.nn.InstanceNorm1d(disc_features ,affine = True),nn.LeakyReLU(0.2),\n",
    "            SelfAttentionLayer(disc_features,disc_features),\n",
    "            nn.Conv1d(disc_features   , disc_features*2 , kernel_size = 3, stride = 1, padding = 1),torch.nn.InstanceNorm1d(disc_features*2,affine = True),nn.LeakyReLU(0.2),\n",
    "            nn.Conv1d(disc_features*2 , disc_features*2 , kernel_size = 3, stride = 1, padding = 1),torch.nn.InstanceNorm1d(disc_features*2,affine = True),nn.LeakyReLU(0.2),\n",
    "            nn.Conv1d(disc_features*2 , disc_features*2 , kernel_size = 3, stride = 1, padding = 1),torch.nn.InstanceNorm1d(disc_features*2,affine = True),nn.LeakyReLU(0.2),\n",
    "            SelfAttentionLayer(disc_features*2,disc_features*2),\n",
    "            nn.Conv1d(disc_features*2 , disc_features*4 , kernel_size = 3, stride = 2, padding = 1),torch.nn.InstanceNorm1d(disc_features*4,affine = True),nn.LeakyReLU(0.2),\n",
    "            # nn.Conv1d(disc_features*4 , disc_features*4 , kernel_size = 3, stride = 2, padding = 0),torch.nn.InstanceNorm1d(disc_features*4,affine = True),nn.LeakyReLU(0.2),\n",
    "            nn.Conv1d(disc_features*4 , 1               , kernel_size = 3, stride = 2, padding = 1),)\n",
    "    def forward(self,x):\n",
    "        return self.disc(x.type(torch.FloatTensor))"
   ]
  },
  {
   "attachments": {},
   "cell_type": "markdown",
   "metadata": {},
   "source": [
    "## Gradient Penalty (GP)"
   ]
  },
  {
   "cell_type": "code",
   "execution_count": null,
   "metadata": {},
   "outputs": [],
   "source": [
    "def GradientPenalty(critic,real,fake,device):\n",
    "    Batch_size, seq_len,seq_dim = real.shape\n",
    "    alpha = torch.rand(Batch_size,1,1).repeat(1,seq_len,seq_dim).to(device)\n",
    "    interpolated_sequence = real * alpha + fake * (1 - alpha)\n",
    "    interpolated_sequence = interpolated_sequence.to(device)\n",
    "    # Batch_size = real.size(0)\n",
    "    # alpha = torch.rand(Batch_size,1,1).to(device)\n",
    "    # alpha = alpha.expand_as(real)\n",
    "    # interpolated_sequence = alpha * real + (1 - alpha) * fake\n",
    "   \n",
    "    # Calculate critic scores\n",
    "    mixed_scores = critic(interpolated_sequence)\n",
    "\n",
    "    # Take the gradient of the scires with respect to the sequences\n",
    "    gradient = torch.autograd.grad(\n",
    "        inputs = interpolated_sequence,\n",
    "        outputs = mixed_scores,\n",
    "        grad_outputs = torch.ones_like(mixed_scores),\n",
    "        retain_graph= True,\n",
    "        create_graph= True,\n",
    "        )[0]\n",
    "    #flattening\n",
    "    gradient = gradient.view(gradient.shape[0],-1)\n",
    "\n",
    "    #l2 = 2\n",
    "    gradient_norm = gradient.norm(2,dim = 1)\n",
    "    # gradient_penalty = ((torch.sqrt(torch.sum(gradient ** 2, dim=1) + 1e-12) - 1) ** 2).mean()\n",
    "    gradient_penalty = torch.mean((gradient_norm - 1)**2)\n",
    "    return gradient_penalty"
   ]
  },
  {
   "attachments": {},
   "cell_type": "markdown",
   "metadata": {},
   "source": [
    "## Training"
   ]
  },
  {
   "cell_type": "code",
   "execution_count": null,
   "metadata": {},
   "outputs": [
    {
     "name": "stdout",
     "output_type": "stream",
     "text": [
      "Epoch [1/500] Batch 16/34                   Loss D: 4831.92, loss G: -0.06\n",
      "Epoch [1/500] Batch 31/34                   Loss D: 390.85, loss G: 0.10\n",
      "Epoch [2/500] Batch 16/34                   Loss D: 107.30, loss G: 0.12\n",
      "Epoch [2/500] Batch 31/34                   Loss D: 471.90, loss G: 0.12\n",
      "Epoch [3/500] Batch 16/34                   Loss D: 120.64, loss G: 0.12\n",
      "Epoch [3/500] Batch 31/34                   Loss D: 9.20, loss G: 0.12\n",
      "Epoch [4/500] Batch 16/34                   Loss D: 13.47, loss G: 0.12\n",
      "Epoch [4/500] Batch 31/34                   Loss D: 9.85, loss G: 0.12\n",
      "Epoch [5/500] Batch 16/34                   Loss D: 7.05, loss G: 0.12\n",
      "Epoch [5/500] Batch 31/34                   Loss D: 9.81, loss G: 0.12\n",
      "Epoch [6/500] Batch 16/34                   Loss D: 9.84, loss G: -0.03\n",
      "Epoch [6/500] Batch 31/34                   Loss D: 10.18, loss G: -0.41\n",
      "Epoch [7/500] Batch 16/34                   Loss D: 144.37, loss G: -0.43\n",
      "Epoch [7/500] Batch 31/34                   Loss D: 8.53, loss G: -0.43\n",
      "Epoch [8/500] Batch 16/34                   Loss D: 9.28, loss G: -0.43\n",
      "Epoch [8/500] Batch 31/34                   Loss D: 9.43, loss G: -0.43\n",
      "Epoch [9/500] Batch 16/34                   Loss D: 6.11, loss G: -0.43\n",
      "Epoch [9/500] Batch 31/34                   Loss D: 9.98, loss G: -0.43\n",
      "Epoch [10/500] Batch 16/34                   Loss D: 10.39, loss G: -0.43\n",
      "Epoch [10/500] Batch 31/34                   Loss D: 9.98, loss G: -0.43\n",
      "Epoch [11/500] Batch 16/34                   Loss D: 9.98, loss G: -0.61\n",
      "Epoch [11/500] Batch 31/34                   Loss D: 9.94, loss G: -0.35\n",
      "Epoch [12/500] Batch 16/34                   Loss D: 9.54, loss G: -0.48\n",
      "Epoch [12/500] Batch 31/34                   Loss D: 9.21, loss G: -0.48\n",
      "Epoch [13/500] Batch 16/34                   Loss D: 9.72, loss G: -0.48\n",
      "Epoch [13/500] Batch 31/34                   Loss D: 7.66, loss G: -0.48\n",
      "Epoch [14/500] Batch 16/34                   Loss D: 6.93, loss G: -0.48\n",
      "Epoch [14/500] Batch 31/34                   Loss D: 8.66, loss G: -0.48\n",
      "Epoch [15/500] Batch 16/34                   Loss D: 75.05, loss G: -0.48\n",
      "Epoch [15/500] Batch 31/34                   Loss D: 14.51, loss G: -0.48\n",
      "Epoch [16/500] Batch 16/34                   Loss D: 10.30, loss G: -0.37\n",
      "Epoch [16/500] Batch 31/34                   Loss D: 12.84, loss G: 0.08\n",
      "Epoch [17/500] Batch 16/34                   Loss D: 9.95, loss G: 0.01\n",
      "Epoch [17/500] Batch 31/34                   Loss D: 9.53, loss G: 0.01\n",
      "Epoch [18/500] Batch 16/34                   Loss D: 11.21, loss G: 0.01\n",
      "Epoch [18/500] Batch 31/34                   Loss D: 7.49, loss G: 0.01\n",
      "Epoch [19/500] Batch 16/34                   Loss D: 8.56, loss G: 0.01\n",
      "Epoch [19/500] Batch 31/34                   Loss D: 9.92, loss G: 0.01\n",
      "Epoch [20/500] Batch 16/34                   Loss D: 10.00, loss G: 0.01\n",
      "Epoch [20/500] Batch 31/34                   Loss D: 9.48, loss G: 0.01\n",
      "Epoch [21/500] Batch 16/34                   Loss D: 7.59, loss G: 2.19\n",
      "Epoch [21/500] Batch 31/34                   Loss D: 8.96, loss G: 2.01\n",
      "Epoch [22/500] Batch 16/34                   Loss D: 9.61, loss G: 2.10\n",
      "Epoch [22/500] Batch 31/34                   Loss D: 10.18, loss G: 2.10\n",
      "Epoch [23/500] Batch 16/34                   Loss D: 9.16, loss G: 2.10\n",
      "Epoch [23/500] Batch 31/34                   Loss D: 9.99, loss G: 2.10\n",
      "Epoch [24/500] Batch 16/34                   Loss D: 12.36, loss G: 2.10\n",
      "Epoch [24/500] Batch 31/34                   Loss D: 8.73, loss G: 2.10\n",
      "Epoch [25/500] Batch 16/34                   Loss D: 9.96, loss G: 2.10\n",
      "Epoch [25/500] Batch 31/34                   Loss D: 9.46, loss G: 2.10\n",
      "Epoch [26/500] Batch 16/34                   Loss D: 10.01, loss G: 1.78\n",
      "Epoch [26/500] Batch 31/34                   Loss D: 10.03, loss G: 1.57\n",
      "Epoch [27/500] Batch 16/34                   Loss D: 9.95, loss G: 1.98\n",
      "Epoch [27/500] Batch 31/34                   Loss D: 9.93, loss G: 1.98\n",
      "Epoch [28/500] Batch 16/34                   Loss D: 8.96, loss G: 1.98\n",
      "Epoch [28/500] Batch 31/34                   Loss D: 436.17, loss G: 1.98\n",
      "Epoch [29/500] Batch 16/34                   Loss D: 107.90, loss G: 1.98\n",
      "Epoch [29/500] Batch 31/34                   Loss D: 49.17, loss G: 1.98\n",
      "Epoch [30/500] Batch 16/34                   Loss D: 10.28, loss G: 1.98\n",
      "Epoch [30/500] Batch 31/34                   Loss D: 9.62, loss G: 1.98\n",
      "Epoch [31/500] Batch 16/34                   Loss D: 11.21, loss G: -0.20\n",
      "Epoch [31/500] Batch 31/34                   Loss D: 14.67, loss G: -0.22\n",
      "Epoch [32/500] Batch 16/34                   Loss D: 9.33, loss G: -0.11\n",
      "Epoch [32/500] Batch 31/34                   Loss D: 9.47, loss G: -0.11\n",
      "Epoch [33/500] Batch 16/34                   Loss D: 9.17, loss G: -0.11\n",
      "Epoch [33/500] Batch 31/34                   Loss D: 9.95, loss G: -0.11\n",
      "Epoch [34/500] Batch 16/34                   Loss D: 13.98, loss G: -0.11\n",
      "Epoch [34/500] Batch 31/34                   Loss D: 45.38, loss G: -0.11\n",
      "Epoch [35/500] Batch 16/34                   Loss D: 10.08, loss G: -0.11\n",
      "Epoch [35/500] Batch 31/34                   Loss D: 10.21, loss G: -0.11\n",
      "Epoch [36/500] Batch 16/34                   Loss D: 9.23, loss G: -1.25\n",
      "Epoch [36/500] Batch 31/34                   Loss D: 9.52, loss G: -1.39\n",
      "Epoch [37/500] Batch 16/34                   Loss D: 9.98, loss G: -0.94\n",
      "Epoch [37/500] Batch 31/34                   Loss D: 8.79, loss G: -0.94\n",
      "Epoch [38/500] Batch 16/34                   Loss D: 9.61, loss G: -0.94\n",
      "Epoch [38/500] Batch 31/34                   Loss D: 9.10, loss G: -0.94\n",
      "Epoch [39/500] Batch 16/34                   Loss D: 9.52, loss G: -0.94\n",
      "Epoch [39/500] Batch 31/34                   Loss D: 9.68, loss G: -0.94\n",
      "Epoch [40/500] Batch 16/34                   Loss D: 9.51, loss G: -0.94\n",
      "Epoch [40/500] Batch 31/34                   Loss D: 9.82, loss G: -0.94\n",
      "Epoch [41/500] Batch 16/34                   Loss D: 9.95, loss G: -1.58\n",
      "Epoch [41/500] Batch 31/34                   Loss D: 17.52, loss G: -0.95\n",
      "Epoch [42/500] Batch 16/34                   Loss D: 9.93, loss G: -1.02\n",
      "Epoch [42/500] Batch 31/34                   Loss D: 9.96, loss G: -1.02\n",
      "Epoch [43/500] Batch 16/34                   Loss D: 8.34, loss G: -1.02\n",
      "Epoch [43/500] Batch 31/34                   Loss D: 9.99, loss G: -1.02\n",
      "Epoch [44/500] Batch 16/34                   Loss D: 10.00, loss G: -1.02\n",
      "Epoch [44/500] Batch 31/34                   Loss D: 9.03, loss G: -1.02\n",
      "Epoch [45/500] Batch 16/34                   Loss D: 337.11, loss G: -1.02\n",
      "Epoch [45/500] Batch 31/34                   Loss D: 9.94, loss G: -1.02\n",
      "Epoch [46/500] Batch 16/34                   Loss D: 14.37, loss G: -1.42\n",
      "Epoch [46/500] Batch 31/34                   Loss D: 9.64, loss G: -1.32\n",
      "Epoch [47/500] Batch 16/34                   Loss D: 10.29, loss G: -2.02\n",
      "Epoch [47/500] Batch 31/34                   Loss D: 27.38, loss G: -2.02\n",
      "Epoch [48/500] Batch 16/34                   Loss D: 95.09, loss G: -2.02\n",
      "Epoch [48/500] Batch 31/34                   Loss D: 10.47, loss G: -2.02\n",
      "Epoch [49/500] Batch 16/34                   Loss D: 9.44, loss G: -2.02\n",
      "Epoch [49/500] Batch 31/34                   Loss D: 10.38, loss G: -2.02\n",
      "Epoch [50/500] Batch 16/34                   Loss D: 9.98, loss G: -2.02\n",
      "Epoch [50/500] Batch 31/34                   Loss D: 9.95, loss G: -2.02\n",
      "Epoch [51/500] Batch 16/34                   Loss D: 9.99, loss G: 0.08\n",
      "Epoch [51/500] Batch 31/34                   Loss D: 87.82, loss G: -0.14\n",
      "Epoch [52/500] Batch 16/34                   Loss D: 9.99, loss G: -0.98\n",
      "Epoch [52/500] Batch 31/34                   Loss D: 9.95, loss G: -0.98\n",
      "Epoch [53/500] Batch 16/34                   Loss D: 9.62, loss G: -0.98\n",
      "Epoch [53/500] Batch 31/34                   Loss D: 9.92, loss G: -0.98\n",
      "Epoch [54/500] Batch 16/34                   Loss D: 10.66, loss G: -0.98\n",
      "Epoch [54/500] Batch 31/34                   Loss D: 9.11, loss G: -0.98\n",
      "Epoch [55/500] Batch 16/34                   Loss D: 11.90, loss G: -0.98\n",
      "Epoch [55/500] Batch 31/34                   Loss D: 21.14, loss G: -0.98\n",
      "Epoch [56/500] Batch 16/34                   Loss D: 9.81, loss G: 1.64\n",
      "Epoch [56/500] Batch 31/34                   Loss D: 9.43, loss G: 1.60\n",
      "Epoch [57/500] Batch 16/34                   Loss D: 9.84, loss G: 1.78\n",
      "Epoch [57/500] Batch 31/34                   Loss D: 7.36, loss G: 1.78\n",
      "Epoch [58/500] Batch 16/34                   Loss D: 9.59, loss G: 1.78\n",
      "Epoch [58/500] Batch 31/34                   Loss D: 10.56, loss G: 1.78\n",
      "Epoch [59/500] Batch 16/34                   Loss D: 9.71, loss G: 1.78\n",
      "Epoch [59/500] Batch 31/34                   Loss D: 9.82, loss G: 1.78\n",
      "Epoch [60/500] Batch 16/34                   Loss D: 9.60, loss G: 1.78\n",
      "Epoch [60/500] Batch 31/34                   Loss D: 8.68, loss G: 1.78\n",
      "Epoch [61/500] Batch 16/34                   Loss D: 10.00, loss G: 2.95\n",
      "Epoch [61/500] Batch 31/34                   Loss D: 9.79, loss G: 2.88\n",
      "Epoch [62/500] Batch 16/34                   Loss D: 10.00, loss G: 1.66\n",
      "Epoch [62/500] Batch 31/34                   Loss D: 9.96, loss G: 1.66\n",
      "Epoch [63/500] Batch 16/34                   Loss D: 9.96, loss G: 1.66\n",
      "Epoch [63/500] Batch 31/34                   Loss D: 12.16, loss G: 1.66\n",
      "Epoch [64/500] Batch 16/34                   Loss D: 9.88, loss G: 1.66\n",
      "Epoch [64/500] Batch 31/34                   Loss D: 94.29, loss G: 1.66\n",
      "Epoch [65/500] Batch 16/34                   Loss D: 9.98, loss G: 1.66\n",
      "Epoch [65/500] Batch 31/34                   Loss D: 9.90, loss G: 1.66\n",
      "Epoch [66/500] Batch 16/34                   Loss D: 13.13, loss G: 3.13\n",
      "Epoch [66/500] Batch 31/34                   Loss D: 163.68, loss G: 3.62\n",
      "Epoch [67/500] Batch 16/34                   Loss D: 77.83, loss G: 2.58\n",
      "Epoch [67/500] Batch 31/34                   Loss D: 31.25, loss G: 2.58\n",
      "Epoch [68/500] Batch 16/34                   Loss D: 808.00, loss G: 2.58\n",
      "Epoch [68/500] Batch 31/34                   Loss D: 13.18, loss G: 2.58\n",
      "Epoch [69/500] Batch 16/34                   Loss D: 12.37, loss G: 2.58\n",
      "Epoch [69/500] Batch 31/34                   Loss D: 497.68, loss G: 2.58\n",
      "Epoch [70/500] Batch 16/34                   Loss D: 9.84, loss G: 2.58\n",
      "Epoch [70/500] Batch 31/34                   Loss D: 25.72, loss G: 2.58\n",
      "Epoch [71/500] Batch 16/34                   Loss D: 9.95, loss G: 4.82\n",
      "Epoch [71/500] Batch 31/34                   Loss D: 9.92, loss G: 5.29\n",
      "Epoch [72/500] Batch 16/34                   Loss D: 98.78, loss G: 4.83\n",
      "Epoch [72/500] Batch 31/34                   Loss D: 56.67, loss G: 4.83\n",
      "Epoch [73/500] Batch 16/34                   Loss D: 38.70, loss G: 4.83\n",
      "Epoch [73/500] Batch 31/34                   Loss D: 18.09, loss G: 4.83\n",
      "Epoch [74/500] Batch 16/34                   Loss D: 15.56, loss G: 4.83\n",
      "Epoch [74/500] Batch 31/34                   Loss D: 9.87, loss G: 4.83\n",
      "Epoch [75/500] Batch 16/34                   Loss D: 284.42, loss G: 4.83\n",
      "Epoch [75/500] Batch 31/34                   Loss D: 10.21, loss G: 4.83\n",
      "Epoch [76/500] Batch 16/34                   Loss D: 9.90, loss G: 5.05\n",
      "Epoch [76/500] Batch 31/34                   Loss D: 10.99, loss G: 4.88\n",
      "Epoch [77/500] Batch 16/34                   Loss D: 9.86, loss G: 4.08\n",
      "Epoch [77/500] Batch 31/34                   Loss D: 9.92, loss G: 4.08\n",
      "Epoch [78/500] Batch 16/34                   Loss D: 9.97, loss G: 4.08\n",
      "Epoch [78/500] Batch 31/34                   Loss D: 10.35, loss G: 4.08\n",
      "Epoch [79/500] Batch 16/34                   Loss D: 9.97, loss G: 4.08\n",
      "Epoch [79/500] Batch 31/34                   Loss D: 47.95, loss G: 4.08\n",
      "Epoch [80/500] Batch 16/34                   Loss D: 34.18, loss G: 4.08\n",
      "Epoch [80/500] Batch 31/34                   Loss D: 9.97, loss G: 4.08\n",
      "Epoch [81/500] Batch 16/34                   Loss D: 9.52, loss G: 5.69\n",
      "Epoch [81/500] Batch 31/34                   Loss D: 32.52, loss G: 5.94\n",
      "Epoch [82/500] Batch 16/34                   Loss D: 9.98, loss G: 4.73\n",
      "Epoch [82/500] Batch 31/34                   Loss D: 9.98, loss G: 4.73\n",
      "Epoch [83/500] Batch 16/34                   Loss D: 9.98, loss G: 4.73\n",
      "Epoch [83/500] Batch 31/34                   Loss D: 9.99, loss G: 4.73\n",
      "Epoch [84/500] Batch 16/34                   Loss D: 61.73, loss G: 4.73\n",
      "Epoch [84/500] Batch 31/34                   Loss D: 14.42, loss G: 4.73\n",
      "Epoch [85/500] Batch 16/34                   Loss D: 9.93, loss G: 4.73\n",
      "Epoch [85/500] Batch 31/34                   Loss D: 10.16, loss G: 4.73\n",
      "Epoch [86/500] Batch 16/34                   Loss D: 9.97, loss G: 6.66\n",
      "Epoch [86/500] Batch 31/34                   Loss D: 10.59, loss G: 6.83\n",
      "Epoch [87/500] Batch 16/34                   Loss D: 9.62, loss G: 5.42\n",
      "Epoch [87/500] Batch 31/34                   Loss D: 8.82, loss G: 5.42\n",
      "Epoch [88/500] Batch 16/34                   Loss D: 9.98, loss G: 5.42\n",
      "Epoch [88/500] Batch 31/34                   Loss D: 9.36, loss G: 5.42\n",
      "Epoch [89/500] Batch 16/34                   Loss D: 9.96, loss G: 5.42\n",
      "Epoch [89/500] Batch 31/34                   Loss D: 8.92, loss G: 5.42\n",
      "Epoch [90/500] Batch 16/34                   Loss D: 9.98, loss G: 5.42\n",
      "Epoch [90/500] Batch 31/34                   Loss D: 9.94, loss G: 5.42\n",
      "Epoch [91/500] Batch 16/34                   Loss D: 10.00, loss G: 2.51\n",
      "Epoch [91/500] Batch 31/34                   Loss D: 9.20, loss G: 2.55\n",
      "Epoch [92/500] Batch 16/34                   Loss D: 9.83, loss G: -0.11\n",
      "Epoch [92/500] Batch 31/34                   Loss D: 9.95, loss G: -0.11\n",
      "Epoch [93/500] Batch 16/34                   Loss D: 10.00, loss G: -0.11\n",
      "Epoch [93/500] Batch 31/34                   Loss D: 10.00, loss G: -0.11\n",
      "Epoch [94/500] Batch 16/34                   Loss D: 9.82, loss G: -0.11\n",
      "Epoch [94/500] Batch 31/34                   Loss D: 13.82, loss G: -0.11\n",
      "Epoch [95/500] Batch 16/34                   Loss D: 9.99, loss G: -0.11\n",
      "Epoch [95/500] Batch 31/34                   Loss D: 11.31, loss G: -0.11\n",
      "Epoch [96/500] Batch 16/34                   Loss D: 9.28, loss G: 2.81\n",
      "Epoch [96/500] Batch 31/34                   Loss D: 7.85, loss G: 3.13\n",
      "Epoch [97/500] Batch 16/34                   Loss D: 10.00, loss G: -0.33\n",
      "Epoch [97/500] Batch 31/34                   Loss D: 10.00, loss G: -0.33\n",
      "Epoch [98/500] Batch 16/34                   Loss D: 9.97, loss G: -0.33\n",
      "Epoch [98/500] Batch 31/34                   Loss D: 8.62, loss G: -0.33\n",
      "Epoch [99/500] Batch 16/34                   Loss D: 9.97, loss G: -0.33\n",
      "Epoch [99/500] Batch 31/34                   Loss D: 7.44, loss G: -0.33\n",
      "Epoch [100/500] Batch 16/34                   Loss D: 11.34, loss G: -0.33\n",
      "Epoch [100/500] Batch 31/34                   Loss D: 10.56, loss G: -0.33\n",
      "Epoch [101/500] Batch 16/34                   Loss D: 9.99, loss G: -1.68\n",
      "Epoch [101/500] Batch 31/34                   Loss D: 10.00, loss G: -1.64\n",
      "Epoch [102/500] Batch 16/34                   Loss D: 10.21, loss G: -2.21\n",
      "Epoch [102/500] Batch 31/34                   Loss D: 9.21, loss G: -2.21\n",
      "Epoch [103/500] Batch 16/34                   Loss D: 9.54, loss G: -2.21\n",
      "Epoch [103/500] Batch 31/34                   Loss D: 9.97, loss G: -2.21\n",
      "Epoch [104/500] Batch 16/34                   Loss D: 9.44, loss G: -2.21\n",
      "Epoch [104/500] Batch 31/34                   Loss D: 9.83, loss G: -2.21\n",
      "Epoch [105/500] Batch 16/34                   Loss D: 9.90, loss G: -2.21\n",
      "Epoch [105/500] Batch 31/34                   Loss D: 10.66, loss G: -2.21\n",
      "Epoch [106/500] Batch 16/34                   Loss D: 17.80, loss G: -0.86\n",
      "Epoch [106/500] Batch 31/34                   Loss D: 11.62, loss G: -0.48\n",
      "Epoch [107/500] Batch 16/34                   Loss D: 9.76, loss G: -0.86\n",
      "Epoch [107/500] Batch 31/34                   Loss D: 9.95, loss G: -0.86\n",
      "Epoch [108/500] Batch 16/34                   Loss D: 9.99, loss G: -0.86\n",
      "Epoch [108/500] Batch 31/34                   Loss D: 9.97, loss G: -0.86\n",
      "Epoch [109/500] Batch 16/34                   Loss D: 10.00, loss G: -0.86\n",
      "Epoch [109/500] Batch 31/34                   Loss D: 9.99, loss G: -0.86\n",
      "Epoch [110/500] Batch 16/34                   Loss D: 9.96, loss G: -0.86\n",
      "Epoch [110/500] Batch 31/34                   Loss D: 10.00, loss G: -0.86\n",
      "Epoch [111/500] Batch 16/34                   Loss D: 9.86, loss G: -3.09\n",
      "Epoch [111/500] Batch 31/34                   Loss D: 11.62, loss G: -0.41\n",
      "Epoch [112/500] Batch 16/34                   Loss D: 20.74, loss G: -1.50\n",
      "Epoch [112/500] Batch 31/34                   Loss D: 2628.90, loss G: -1.50\n",
      "Epoch [113/500] Batch 16/34                   Loss D: 267.05, loss G: -1.50\n",
      "Epoch [113/500] Batch 31/34                   Loss D: 48.10, loss G: -1.50\n",
      "Epoch [114/500] Batch 16/34                   Loss D: 33.19, loss G: -1.50\n",
      "Epoch [114/500] Batch 31/34                   Loss D: 668.53, loss G: -1.50\n",
      "Epoch [115/500] Batch 16/34                   Loss D: 80.25, loss G: -1.50\n",
      "Epoch [115/500] Batch 31/34                   Loss D: 30.44, loss G: -1.50\n",
      "Epoch [116/500] Batch 16/34                   Loss D: 16.46, loss G: -2.49\n",
      "Epoch [116/500] Batch 31/34                   Loss D: 11.53, loss G: -1.92\n",
      "Epoch [117/500] Batch 16/34                   Loss D: 11.83, loss G: -1.80\n",
      "Epoch [117/500] Batch 31/34                   Loss D: 9.87, loss G: -1.80\n",
      "Epoch [118/500] Batch 16/34                   Loss D: 9.96, loss G: -1.80\n",
      "Epoch [118/500] Batch 31/34                   Loss D: 10.00, loss G: -1.80\n",
      "Epoch [119/500] Batch 16/34                   Loss D: 11.47, loss G: -1.80\n",
      "Epoch [119/500] Batch 31/34                   Loss D: 9.72, loss G: -1.80\n",
      "Epoch [120/500] Batch 16/34                   Loss D: 10.00, loss G: -1.80\n",
      "Epoch [120/500] Batch 31/34                   Loss D: 9.81, loss G: -1.80\n",
      "Epoch [121/500] Batch 16/34                   Loss D: 9.99, loss G: -0.09\n",
      "Epoch [121/500] Batch 31/34                   Loss D: 9.98, loss G: -1.20\n",
      "Epoch [122/500] Batch 16/34                   Loss D: 11.53, loss G: -2.19\n",
      "Epoch [122/500] Batch 31/34                   Loss D: 10.00, loss G: -2.19\n",
      "Epoch [123/500] Batch 16/34                   Loss D: 12.79, loss G: -2.19\n",
      "Epoch [123/500] Batch 31/34                   Loss D: 11.73, loss G: -2.19\n",
      "Epoch [124/500] Batch 16/34                   Loss D: 9.90, loss G: -2.19\n",
      "Epoch [124/500] Batch 31/34                   Loss D: 10.86, loss G: -2.19\n",
      "Epoch [125/500] Batch 16/34                   Loss D: 9.95, loss G: -2.19\n",
      "Epoch [125/500] Batch 31/34                   Loss D: 10.06, loss G: -2.19\n",
      "Epoch [126/500] Batch 16/34                   Loss D: 11.51, loss G: -3.69\n",
      "Epoch [126/500] Batch 31/34                   Loss D: 20.00, loss G: -4.57\n",
      "Epoch [127/500] Batch 16/34                   Loss D: 8.90, loss G: -3.32\n",
      "Epoch [127/500] Batch 31/34                   Loss D: 10.00, loss G: -3.32\n",
      "Epoch [128/500] Batch 16/34                   Loss D: 9.85, loss G: -3.32\n",
      "Epoch [128/500] Batch 31/34                   Loss D: 13.04, loss G: -3.32\n",
      "Epoch [129/500] Batch 16/34                   Loss D: 9.32, loss G: -3.32\n",
      "Epoch [129/500] Batch 31/34                   Loss D: 10.27, loss G: -3.32\n",
      "Epoch [130/500] Batch 16/34                   Loss D: 9.85, loss G: -3.32\n",
      "Epoch [130/500] Batch 31/34                   Loss D: 10.00, loss G: -3.32\n",
      "Epoch [131/500] Batch 16/34                   Loss D: 347.06, loss G: -3.10\n",
      "Epoch [131/500] Batch 31/34                   Loss D: 1073.97, loss G: -2.41\n",
      "Epoch [132/500] Batch 16/34                   Loss D: 928.70, loss G: -5.06\n",
      "Epoch [132/500] Batch 31/34                   Loss D: 4880.57, loss G: -5.06\n",
      "Epoch [133/500] Batch 16/34                   Loss D: 35038.27, loss G: -5.06\n",
      "Epoch [133/500] Batch 31/34                   Loss D: 47.29, loss G: -5.06\n",
      "Epoch [134/500] Batch 16/34                   Loss D: 22.36, loss G: -5.06\n",
      "Epoch [134/500] Batch 31/34                   Loss D: 11.86, loss G: -5.06\n",
      "Epoch [135/500] Batch 16/34                   Loss D: 175198.78, loss G: -5.06\n",
      "Epoch [135/500] Batch 31/34                   Loss D: 8.73, loss G: -5.06\n",
      "Epoch [136/500] Batch 16/34                   Loss D: 9.97, loss G: 0.65\n",
      "Epoch [136/500] Batch 31/34                   Loss D: 9.96, loss G: 1.00\n",
      "Epoch [137/500] Batch 16/34                   Loss D: 15.59, loss G: -0.58\n",
      "Epoch [137/500] Batch 31/34                   Loss D: 9.85, loss G: -0.58\n",
      "Epoch [138/500] Batch 16/34                   Loss D: 10.00, loss G: -0.58\n",
      "Epoch [138/500] Batch 31/34                   Loss D: 10.46, loss G: -0.58\n",
      "Epoch [139/500] Batch 16/34                   Loss D: 9.97, loss G: -0.58\n",
      "Epoch [139/500] Batch 31/34                   Loss D: 9.92, loss G: -0.58\n",
      "Epoch [140/500] Batch 16/34                   Loss D: 9.99, loss G: -0.58\n",
      "Epoch [140/500] Batch 31/34                   Loss D: 9.75, loss G: -0.58\n",
      "Epoch [141/500] Batch 16/34                   Loss D: 10.00, loss G: 3.55\n",
      "Epoch [141/500] Batch 31/34                   Loss D: 10.00, loss G: 3.67\n",
      "Epoch [142/500] Batch 16/34                   Loss D: 10.00, loss G: 0.84\n",
      "Epoch [142/500] Batch 31/34                   Loss D: 8.59, loss G: 0.84\n",
      "Epoch [143/500] Batch 16/34                   Loss D: 9.97, loss G: 0.84\n",
      "Epoch [143/500] Batch 31/34                   Loss D: 10.48, loss G: 0.84\n",
      "Epoch [144/500] Batch 16/34                   Loss D: 10.00, loss G: 0.84\n",
      "Epoch [144/500] Batch 31/34                   Loss D: 10.00, loss G: 0.84\n",
      "Epoch [145/500] Batch 16/34                   Loss D: 9.51, loss G: 0.84\n",
      "Epoch [145/500] Batch 31/34                   Loss D: 10.00, loss G: 0.84\n",
      "Epoch [146/500] Batch 16/34                   Loss D: 9.96, loss G: 2.33\n",
      "Epoch [146/500] Batch 31/34                   Loss D: 9.10, loss G: 1.99\n",
      "Epoch [147/500] Batch 16/34                   Loss D: 9.31, loss G: 1.07\n",
      "Epoch [147/500] Batch 31/34                   Loss D: 21.29, loss G: 1.07\n",
      "Epoch [148/500] Batch 16/34                   Loss D: 13.69, loss G: 1.07\n",
      "Epoch [148/500] Batch 31/34                   Loss D: 10.21, loss G: 1.07\n",
      "Epoch [149/500] Batch 16/34                   Loss D: 30.08, loss G: 1.07\n",
      "Epoch [149/500] Batch 31/34                   Loss D: 518.32, loss G: 1.07\n",
      "Epoch [150/500] Batch 16/34                   Loss D: 11.54, loss G: 1.07\n",
      "Epoch [150/500] Batch 31/34                   Loss D: 8.79, loss G: 1.07\n",
      "Epoch [151/500] Batch 16/34                   Loss D: 9.44, loss G: -6.41\n",
      "Epoch [151/500] Batch 31/34                   Loss D: 19.57, loss G: -6.01\n",
      "Epoch [152/500] Batch 16/34                   Loss D: 10.00, loss G: -3.85\n",
      "Epoch [152/500] Batch 31/34                   Loss D: 10.45, loss G: -3.85\n",
      "Epoch [153/500] Batch 16/34                   Loss D: 9.98, loss G: -3.85\n",
      "Epoch [153/500] Batch 31/34                   Loss D: 9.77, loss G: -3.85\n",
      "Epoch [154/500] Batch 16/34                   Loss D: 10.00, loss G: -3.85\n",
      "Epoch [154/500] Batch 31/34                   Loss D: 10.00, loss G: -3.85\n",
      "Epoch [155/500] Batch 16/34                   Loss D: 9.98, loss G: -3.85\n",
      "Epoch [155/500] Batch 31/34                   Loss D: 9.89, loss G: -3.85\n",
      "Epoch [156/500] Batch 16/34                   Loss D: 9.93, loss G: -4.25\n",
      "Epoch [156/500] Batch 31/34                   Loss D: 12.08, loss G: -4.38\n",
      "Epoch [157/500] Batch 16/34                   Loss D: 10.00, loss G: -1.59\n",
      "Epoch [157/500] Batch 31/34                   Loss D: 11.66, loss G: -1.59\n",
      "Epoch [158/500] Batch 16/34                   Loss D: 7.95, loss G: -1.59\n",
      "Epoch [158/500] Batch 31/34                   Loss D: 9.97, loss G: -1.59\n",
      "Epoch [159/500] Batch 16/34                   Loss D: 10.20, loss G: -1.59\n",
      "Epoch [159/500] Batch 31/34                   Loss D: 10.10, loss G: -1.59\n",
      "Epoch [160/500] Batch 16/34                   Loss D: 9.99, loss G: -1.59\n",
      "Epoch [160/500] Batch 31/34                   Loss D: 10.37, loss G: -1.59\n",
      "Epoch [161/500] Batch 16/34                   Loss D: 9.59, loss G: -0.80\n",
      "Epoch [161/500] Batch 31/34                   Loss D: 10.00, loss G: -0.55\n",
      "Epoch [162/500] Batch 16/34                   Loss D: 9.69, loss G: 0.77\n",
      "Epoch [162/500] Batch 31/34                   Loss D: 9.99, loss G: 0.77\n",
      "Epoch [163/500] Batch 16/34                   Loss D: 10.01, loss G: 0.77\n",
      "Epoch [163/500] Batch 31/34                   Loss D: 9.98, loss G: 0.77\n",
      "Epoch [164/500] Batch 16/34                   Loss D: 9.25, loss G: 0.77\n",
      "Epoch [164/500] Batch 31/34                   Loss D: 12.08, loss G: 0.77\n",
      "Epoch [165/500] Batch 16/34                   Loss D: 9.01, loss G: 0.77\n",
      "Epoch [165/500] Batch 31/34                   Loss D: 30.86, loss G: 0.77\n",
      "Epoch [166/500] Batch 16/34                   Loss D: 10.59, loss G: -3.17\n",
      "Epoch [166/500] Batch 31/34                   Loss D: 15.14, loss G: -1.27\n",
      "Epoch [167/500] Batch 16/34                   Loss D: 9.98, loss G: -0.77\n",
      "Epoch [167/500] Batch 31/34                   Loss D: 9.80, loss G: -0.77\n",
      "Epoch [168/500] Batch 16/34                   Loss D: 9.03, loss G: -0.77\n",
      "Epoch [168/500] Batch 31/34                   Loss D: 14.83, loss G: -0.77\n",
      "Epoch [169/500] Batch 16/34                   Loss D: 9.69, loss G: -0.77\n",
      "Epoch [169/500] Batch 31/34                   Loss D: 9.54, loss G: -0.77\n",
      "Epoch [170/500] Batch 16/34                   Loss D: 11.01, loss G: -0.77\n",
      "Epoch [170/500] Batch 31/34                   Loss D: 10.00, loss G: -0.77\n",
      "Epoch [171/500] Batch 16/34                   Loss D: 33.81, loss G: 0.21\n",
      "Epoch [171/500] Batch 31/34                   Loss D: 8.57, loss G: -0.38\n",
      "Epoch [172/500] Batch 16/34                   Loss D: 7.89, loss G: 0.16\n",
      "Epoch [172/500] Batch 31/34                   Loss D: 9.97, loss G: 0.16\n",
      "Epoch [173/500] Batch 16/34                   Loss D: 9.63, loss G: 0.16\n",
      "Epoch [173/500] Batch 31/34                   Loss D: 10.77, loss G: 0.16\n",
      "Epoch [174/500] Batch 16/34                   Loss D: 9.98, loss G: 0.16\n",
      "Epoch [174/500] Batch 31/34                   Loss D: 10.00, loss G: 0.16\n",
      "Epoch [175/500] Batch 16/34                   Loss D: 8.50, loss G: 0.16\n",
      "Epoch [175/500] Batch 31/34                   Loss D: 9.99, loss G: 0.16\n",
      "Epoch [176/500] Batch 16/34                   Loss D: 10.00, loss G: -1.50\n",
      "Epoch [176/500] Batch 31/34                   Loss D: 10.00, loss G: -1.92\n",
      "Epoch [177/500] Batch 16/34                   Loss D: 10.00, loss G: -0.78\n",
      "Epoch [177/500] Batch 31/34                   Loss D: 49.52, loss G: -0.78\n",
      "Epoch [178/500] Batch 16/34                   Loss D: 18.98, loss G: -0.78\n",
      "Epoch [178/500] Batch 31/34                   Loss D: 14.61, loss G: -0.78\n",
      "Epoch [179/500] Batch 16/34                   Loss D: 9.98, loss G: -0.78\n",
      "Epoch [179/500] Batch 31/34                   Loss D: 9.81, loss G: -0.78\n",
      "Epoch [180/500] Batch 16/34                   Loss D: 10.00, loss G: -0.78\n",
      "Epoch [180/500] Batch 31/34                   Loss D: 9.96, loss G: -0.78\n",
      "Epoch [181/500] Batch 16/34                   Loss D: 9.85, loss G: -5.57\n",
      "Epoch [181/500] Batch 31/34                   Loss D: 9.13, loss G: -5.23\n",
      "Epoch [182/500] Batch 16/34                   Loss D: 14.19, loss G: -2.56\n",
      "Epoch [182/500] Batch 31/34                   Loss D: 9.99, loss G: -2.56\n",
      "Epoch [183/500] Batch 16/34                   Loss D: 9.99, loss G: -2.56\n",
      "Epoch [183/500] Batch 31/34                   Loss D: 9.97, loss G: -2.56\n",
      "Epoch [184/500] Batch 16/34                   Loss D: 10.18, loss G: -2.56\n",
      "Epoch [184/500] Batch 31/34                   Loss D: 29.83, loss G: -2.56\n",
      "Epoch [185/500] Batch 16/34                   Loss D: 9.95, loss G: -2.56\n",
      "Epoch [185/500] Batch 31/34                   Loss D: 10.03, loss G: -2.56\n",
      "Epoch [186/500] Batch 16/34                   Loss D: 10.00, loss G: -2.53\n",
      "Epoch [186/500] Batch 31/34                   Loss D: 9.93, loss G: -2.37\n",
      "Epoch [187/500] Batch 16/34                   Loss D: 10.00, loss G: -1.87\n",
      "Epoch [187/500] Batch 31/34                   Loss D: 10.00, loss G: -1.87\n",
      "Epoch [188/500] Batch 16/34                   Loss D: 9.57, loss G: -1.87\n",
      "Epoch [188/500] Batch 31/34                   Loss D: 10.00, loss G: -1.87\n",
      "Epoch [189/500] Batch 16/34                   Loss D: 9.98, loss G: -1.87\n",
      "Epoch [189/500] Batch 31/34                   Loss D: 26.26, loss G: -1.87\n",
      "Epoch [190/500] Batch 16/34                   Loss D: 29.51, loss G: -1.87\n",
      "Epoch [190/500] Batch 31/34                   Loss D: 190.58, loss G: -1.87\n",
      "Epoch [191/500] Batch 16/34                   Loss D: 33850.70, loss G: -3.29\n",
      "Epoch [191/500] Batch 31/34                   Loss D: 18538.22, loss G: -4.72\n",
      "Epoch [192/500] Batch 16/34                   Loss D: 48672.79, loss G: -4.43\n",
      "Epoch [192/500] Batch 31/34                   Loss D: 34117.68, loss G: -4.43\n",
      "Epoch [193/500] Batch 16/34                   Loss D: 63835.64, loss G: -4.43\n",
      "Epoch [193/500] Batch 31/34                   Loss D: 20943.93, loss G: -4.43\n",
      "Epoch [194/500] Batch 16/34                   Loss D: 17299.74, loss G: -4.43\n",
      "Epoch [194/500] Batch 31/34                   Loss D: 2163.81, loss G: -4.43\n",
      "Epoch [195/500] Batch 16/34                   Loss D: 3935.68, loss G: -4.43\n",
      "Epoch [195/500] Batch 31/34                   Loss D: 3226.47, loss G: -4.43\n",
      "Epoch [196/500] Batch 16/34                   Loss D: 8842.04, loss G: -4.81\n",
      "Epoch [196/500] Batch 31/34                   Loss D: 423.33, loss G: -4.73\n",
      "Epoch [197/500] Batch 16/34                   Loss D: 1528.17, loss G: -4.52\n",
      "Epoch [197/500] Batch 31/34                   Loss D: 46139.52, loss G: -4.52\n",
      "Epoch [198/500] Batch 16/34                   Loss D: 3321.22, loss G: -4.52\n",
      "Epoch [198/500] Batch 31/34                   Loss D: 5007.88, loss G: -4.52\n",
      "Epoch [199/500] Batch 16/34                   Loss D: 185.69, loss G: -4.52\n",
      "Epoch [199/500] Batch 31/34                   Loss D: 2909.28, loss G: -4.52\n",
      "Epoch [200/500] Batch 16/34                   Loss D: 961.42, loss G: -4.52\n",
      "Epoch [200/500] Batch 31/34                   Loss D: 1123.81, loss G: -4.52\n",
      "Epoch [201/500] Batch 16/34                   Loss D: 354.71, loss G: -4.77\n",
      "Epoch [201/500] Batch 31/34                   Loss D: 442.04, loss G: -4.94\n",
      "Epoch [202/500] Batch 16/34                   Loss D: 148.44, loss G: -3.92\n",
      "Epoch [202/500] Batch 31/34                   Loss D: 2585.79, loss G: -3.92\n",
      "Epoch [203/500] Batch 16/34                   Loss D: 146.87, loss G: -3.92\n",
      "Epoch [203/500] Batch 31/34                   Loss D: 15692.00, loss G: -3.92\n",
      "Epoch [204/500] Batch 16/34                   Loss D: 90.55, loss G: -3.92\n",
      "Epoch [204/500] Batch 31/34                   Loss D: 250.43, loss G: -3.92\n",
      "Epoch [205/500] Batch 16/34                   Loss D: 439.79, loss G: -3.92\n",
      "Epoch [205/500] Batch 31/34                   Loss D: 1815.11, loss G: -3.92\n",
      "Epoch [206/500] Batch 16/34                   Loss D: 2506.55, loss G: -5.05\n",
      "Epoch [206/500] Batch 31/34                   Loss D: 28429.26, loss G: -5.06\n",
      "Epoch [207/500] Batch 16/34                   Loss D: 3538.62, loss G: -5.06\n",
      "Epoch [207/500] Batch 31/34                   Loss D: 1636.98, loss G: -5.06\n",
      "Epoch [208/500] Batch 16/34                   Loss D: 122.72, loss G: -5.06\n",
      "Epoch [208/500] Batch 31/34                   Loss D: 134.74, loss G: -5.06\n",
      "Epoch [209/500] Batch 16/34                   Loss D: 6350.39, loss G: -5.06\n",
      "Epoch [209/500] Batch 31/34                   Loss D: 6740.08, loss G: -5.06\n",
      "Epoch [210/500] Batch 16/34                   Loss D: 541.09, loss G: -5.06\n",
      "Epoch [210/500] Batch 31/34                   Loss D: 524.94, loss G: -5.06\n",
      "Epoch [211/500] Batch 16/34                   Loss D: 422752.56, loss G: -5.04\n",
      "Epoch [211/500] Batch 31/34                   Loss D: 1218.91, loss G: -5.07\n",
      "Epoch [212/500] Batch 16/34                   Loss D: 3820.11, loss G: -4.49\n",
      "Epoch [212/500] Batch 31/34                   Loss D: 6825.91, loss G: -4.49\n",
      "Epoch [213/500] Batch 16/34                   Loss D: 604.45, loss G: -4.49\n",
      "Epoch [213/500] Batch 31/34                   Loss D: 1993.41, loss G: -4.49\n",
      "Epoch [214/500] Batch 16/34                   Loss D: 104.08, loss G: -4.49\n",
      "Epoch [214/500] Batch 31/34                   Loss D: 278.42, loss G: -4.49\n",
      "Epoch [215/500] Batch 16/34                   Loss D: 287.90, loss G: -4.49\n",
      "Epoch [215/500] Batch 31/34                   Loss D: 162.27, loss G: -4.49\n",
      "Epoch [216/500] Batch 16/34                   Loss D: 78.59, loss G: -5.25\n",
      "Epoch [216/500] Batch 31/34                   Loss D: 94.01, loss G: -5.36\n",
      "Epoch [217/500] Batch 16/34                   Loss D: 19.66, loss G: -3.52\n",
      "Epoch [217/500] Batch 31/34                   Loss D: 9.88, loss G: -3.52\n",
      "Epoch [218/500] Batch 16/34                   Loss D: 23.48, loss G: -3.52\n",
      "Epoch [218/500] Batch 31/34                   Loss D: 15.91, loss G: -3.52\n",
      "Epoch [219/500] Batch 16/34                   Loss D: 26544.11, loss G: -3.52\n",
      "Epoch [219/500] Batch 31/34                   Loss D: 14655.12, loss G: -3.52\n",
      "Epoch [220/500] Batch 16/34                   Loss D: 35946.73, loss G: -3.52\n",
      "Epoch [220/500] Batch 31/34                   Loss D: 465862.69, loss G: -3.52\n",
      "Epoch [221/500] Batch 16/34                   Loss D: 29.80, loss G: -5.39\n",
      "Epoch [221/500] Batch 31/34                   Loss D: 1482.51, loss G: -5.39\n",
      "Epoch [222/500] Batch 16/34                   Loss D: 194778.34, loss G: -5.05\n",
      "Epoch [222/500] Batch 31/34                   Loss D: 2047.13, loss G: -5.05\n",
      "Epoch [223/500] Batch 16/34                   Loss D: 8456.65, loss G: -5.05\n",
      "Epoch [223/500] Batch 31/34                   Loss D: 6973.42, loss G: -5.05\n",
      "Epoch [224/500] Batch 16/34                   Loss D: 1468.42, loss G: -5.05\n",
      "Epoch [224/500] Batch 31/34                   Loss D: 110.78, loss G: -5.05\n",
      "Epoch [225/500] Batch 16/34                   Loss D: 39713.08, loss G: -5.05\n",
      "Epoch [225/500] Batch 31/34                   Loss D: 6655.80, loss G: -5.05\n",
      "Epoch [226/500] Batch 16/34                   Loss D: 308.96, loss G: -5.63\n",
      "Epoch [226/500] Batch 31/34                   Loss D: 12199.56, loss G: -5.52\n",
      "Epoch [227/500] Batch 16/34                   Loss D: 678.88, loss G: -4.86\n",
      "Epoch [227/500] Batch 31/34                   Loss D: 488.50, loss G: -4.86\n",
      "Epoch [228/500] Batch 16/34                   Loss D: 58543.38, loss G: -4.86\n",
      "Epoch [228/500] Batch 31/34                   Loss D: 779.40, loss G: -4.86\n",
      "Epoch [229/500] Batch 16/34                   Loss D: 33071.81, loss G: -4.86\n",
      "Epoch [229/500] Batch 31/34                   Loss D: 128.52, loss G: -4.86\n",
      "Epoch [230/500] Batch 16/34                   Loss D: 4430.90, loss G: -4.86\n",
      "Epoch [230/500] Batch 31/34                   Loss D: 30.12, loss G: -4.86\n",
      "Epoch [231/500] Batch 16/34                   Loss D: 24.64, loss G: -5.80\n",
      "Epoch [231/500] Batch 31/34                   Loss D: 30.03, loss G: -5.77\n",
      "Epoch [232/500] Batch 16/34                   Loss D: 1100.28, loss G: -5.00\n",
      "Epoch [232/500] Batch 31/34                   Loss D: 366.08, loss G: -5.00\n",
      "Epoch [233/500] Batch 16/34                   Loss D: 1055.27, loss G: -5.00\n",
      "Epoch [233/500] Batch 31/34                   Loss D: 288.50, loss G: -5.00\n",
      "Epoch [234/500] Batch 16/34                   Loss D: 22.27, loss G: -5.00\n",
      "Epoch [234/500] Batch 31/34                   Loss D: 4240.76, loss G: -5.00\n",
      "Epoch [235/500] Batch 16/34                   Loss D: 15.60, loss G: -5.00\n",
      "Epoch [235/500] Batch 31/34                   Loss D: 1115.35, loss G: -5.00\n",
      "Epoch [236/500] Batch 16/34                   Loss D: 4413.92, loss G: -4.78\n",
      "Epoch [236/500] Batch 31/34                   Loss D: 448.25, loss G: -4.75\n",
      "Epoch [237/500] Batch 16/34                   Loss D: 7183.44, loss G: -3.97\n",
      "Epoch [237/500] Batch 31/34                   Loss D: 529.44, loss G: -3.97\n",
      "Epoch [238/500] Batch 16/34                   Loss D: 84.87, loss G: -3.97\n",
      "Epoch [238/500] Batch 31/34                   Loss D: 97.93, loss G: -3.97\n",
      "Epoch [239/500] Batch 16/34                   Loss D: 16.27, loss G: -3.97\n",
      "Epoch [239/500] Batch 31/34                   Loss D: 5339.24, loss G: -3.97\n",
      "Epoch [240/500] Batch 16/34                   Loss D: 31.84, loss G: -3.97\n",
      "Epoch [240/500] Batch 31/34                   Loss D: 627.74, loss G: -3.97\n",
      "Epoch [241/500] Batch 16/34                   Loss D: 13920.21, loss G: -4.84\n",
      "Epoch [241/500] Batch 31/34                   Loss D: 174180.86, loss G: -4.87\n",
      "Epoch [242/500] Batch 16/34                   Loss D: 3281.69, loss G: -4.86\n",
      "Epoch [242/500] Batch 31/34                   Loss D: 68733.95, loss G: -4.86\n",
      "Epoch [243/500] Batch 16/34                   Loss D: 2588.94, loss G: -4.86\n",
      "Epoch [243/500] Batch 31/34                   Loss D: 4666.93, loss G: -4.86\n",
      "Epoch [244/500] Batch 16/34                   Loss D: 40.73, loss G: -4.86\n",
      "Epoch [244/500] Batch 31/34                   Loss D: 1807.71, loss G: -4.86\n",
      "Epoch [245/500] Batch 16/34                   Loss D: 350.73, loss G: -4.86\n",
      "Epoch [245/500] Batch 31/34                   Loss D: 387.32, loss G: -4.86\n",
      "Epoch [246/500] Batch 16/34                   Loss D: 1003897.19, loss G: -4.89\n",
      "Epoch [246/500] Batch 31/34                   Loss D: 4276.85, loss G: -4.62\n",
      "Epoch [247/500] Batch 16/34                   Loss D: 4333.43, loss G: -4.79\n",
      "Epoch [247/500] Batch 31/34                   Loss D: 44.27, loss G: -4.79\n",
      "Epoch [248/500] Batch 16/34                   Loss D: 638.95, loss G: -4.79\n",
      "Epoch [248/500] Batch 31/34                   Loss D: 1322.63, loss G: -4.79\n",
      "Epoch [249/500] Batch 16/34                   Loss D: 163.72, loss G: -4.79\n",
      "Epoch [249/500] Batch 31/34                   Loss D: 40.35, loss G: -4.79\n",
      "Epoch [250/500] Batch 16/34                   Loss D: 550.37, loss G: -4.79\n",
      "Epoch [250/500] Batch 31/34                   Loss D: 16520.35, loss G: -4.79\n",
      "Epoch [251/500] Batch 16/34                   Loss D: 60.93, loss G: -4.78\n",
      "Epoch [251/500] Batch 31/34                   Loss D: 661.56, loss G: -4.81\n",
      "Epoch [252/500] Batch 16/34                   Loss D: 207.26, loss G: -4.66\n",
      "Epoch [252/500] Batch 31/34                   Loss D: 575.54, loss G: -4.66\n",
      "Epoch [253/500] Batch 16/34                   Loss D: 196.12, loss G: -4.66\n",
      "Epoch [253/500] Batch 31/34                   Loss D: 34.60, loss G: -4.66\n",
      "Epoch [254/500] Batch 16/34                   Loss D: 112.23, loss G: -4.66\n",
      "Epoch [254/500] Batch 31/34                   Loss D: 9.93, loss G: -4.66\n",
      "Epoch [255/500] Batch 16/34                   Loss D: 13.63, loss G: -4.66\n",
      "Epoch [255/500] Batch 31/34                   Loss D: 9.85, loss G: -4.66\n",
      "Epoch [256/500] Batch 16/34                   Loss D: 65314.70, loss G: -4.84\n",
      "Epoch [256/500] Batch 31/34                   Loss D: 3211.11, loss G: -4.74\n",
      "Epoch [257/500] Batch 16/34                   Loss D: 14717.30, loss G: -4.19\n",
      "Epoch [257/500] Batch 31/34                   Loss D: 74534.17, loss G: -4.19\n",
      "Epoch [258/500] Batch 16/34                   Loss D: 117710.85, loss G: -4.19\n",
      "Epoch [258/500] Batch 31/34                   Loss D: 38113.52, loss G: -4.19\n",
      "Epoch [259/500] Batch 16/34                   Loss D: 38248.05, loss G: -4.19\n",
      "Epoch [259/500] Batch 31/34                   Loss D: 1738.04, loss G: -4.19\n",
      "Epoch [260/500] Batch 16/34                   Loss D: 25559.22, loss G: -4.19\n",
      "Epoch [260/500] Batch 31/34                   Loss D: 4459.54, loss G: -4.19\n",
      "Epoch [261/500] Batch 16/34                   Loss D: 551442.38, loss G: -4.88\n",
      "Epoch [261/500] Batch 31/34                   Loss D: 690.04, loss G: -4.93\n",
      "Epoch [262/500] Batch 16/34                   Loss D: 947319.44, loss G: -4.91\n",
      "Epoch [262/500] Batch 31/34                   Loss D: 80.42, loss G: -4.91\n",
      "Epoch [263/500] Batch 16/34                   Loss D: 1719.53, loss G: -4.91\n",
      "Epoch [263/500] Batch 31/34                   Loss D: 82.24, loss G: -4.91\n",
      "Epoch [264/500] Batch 16/34                   Loss D: 74.88, loss G: -4.91\n",
      "Epoch [264/500] Batch 31/34                   Loss D: 76.01, loss G: -4.91\n",
      "Epoch [265/500] Batch 16/34                   Loss D: 118.53, loss G: -4.91\n",
      "Epoch [265/500] Batch 31/34                   Loss D: 64.50, loss G: -4.91\n",
      "Epoch [266/500] Batch 16/34                   Loss D: 194.40, loss G: -4.93\n",
      "Epoch [266/500] Batch 31/34                   Loss D: 2811.27, loss G: -4.66\n",
      "Epoch [267/500] Batch 16/34                   Loss D: 14414.67, loss G: -4.76\n",
      "Epoch [267/500] Batch 31/34                   Loss D: 126.71, loss G: -4.76\n",
      "Epoch [268/500] Batch 16/34                   Loss D: 2303783.25, loss G: -4.76\n",
      "Epoch [268/500] Batch 31/34                   Loss D: 1159.03, loss G: -4.76\n",
      "Epoch [269/500] Batch 16/34                   Loss D: 2983.80, loss G: -4.76\n",
      "Epoch [269/500] Batch 31/34                   Loss D: 125.69, loss G: -4.76\n",
      "Epoch [270/500] Batch 16/34                   Loss D: 1841.39, loss G: -4.76\n",
      "Epoch [270/500] Batch 31/34                   Loss D: 186620.28, loss G: -4.76\n",
      "Epoch [271/500] Batch 16/34                   Loss D: 30823.45, loss G: -4.71\n",
      "Epoch [271/500] Batch 31/34                   Loss D: 573.25, loss G: -4.70\n",
      "Epoch [272/500] Batch 16/34                   Loss D: 378855.91, loss G: -4.70\n",
      "Epoch [272/500] Batch 31/34                   Loss D: 45.31, loss G: -4.70\n",
      "Epoch [273/500] Batch 16/34                   Loss D: 86.46, loss G: -4.70\n",
      "Epoch [273/500] Batch 31/34                   Loss D: 260.56, loss G: -4.70\n",
      "Epoch [274/500] Batch 16/34                   Loss D: 44.76, loss G: -4.70\n",
      "Epoch [274/500] Batch 31/34                   Loss D: 913.39, loss G: -4.70\n",
      "Epoch [275/500] Batch 16/34                   Loss D: 65.87, loss G: -4.70\n",
      "Epoch [275/500] Batch 31/34                   Loss D: 50207.61, loss G: -4.70\n",
      "Epoch [276/500] Batch 16/34                   Loss D: 5987.05, loss G: -4.44\n",
      "Epoch [276/500] Batch 31/34                   Loss D: 687.47, loss G: -4.27\n",
      "Epoch [277/500] Batch 16/34                   Loss D: 1805.85, loss G: -4.45\n",
      "Epoch [277/500] Batch 31/34                   Loss D: 3267.34, loss G: -4.45\n",
      "Epoch [278/500] Batch 16/34                   Loss D: 430.83, loss G: -4.45\n",
      "Epoch [278/500] Batch 31/34                   Loss D: 700.06, loss G: -4.45\n",
      "Epoch [279/500] Batch 16/34                   Loss D: 120173.57, loss G: -4.45\n",
      "Epoch [279/500] Batch 31/34                   Loss D: 12026.56, loss G: -4.45\n",
      "Epoch [280/500] Batch 16/34                   Loss D: 913.82, loss G: -4.45\n",
      "Epoch [280/500] Batch 31/34                   Loss D: 150.57, loss G: -4.45\n",
      "Epoch [281/500] Batch 16/34                   Loss D: 2729495.25, loss G: -3.93\n",
      "Epoch [281/500] Batch 31/34                   Loss D: 9652.33, loss G: -4.00\n",
      "Epoch [282/500] Batch 16/34                   Loss D: 3460.20, loss G: -4.28\n",
      "Epoch [282/500] Batch 31/34                   Loss D: 54.42, loss G: -4.28\n",
      "Epoch [283/500] Batch 16/34                   Loss D: 71.31, loss G: -4.28\n",
      "Epoch [283/500] Batch 31/34                   Loss D: 57.34, loss G: -4.28\n",
      "Epoch [284/500] Batch 16/34                   Loss D: 152.76, loss G: -4.28\n",
      "Epoch [284/500] Batch 31/34                   Loss D: 1694.77, loss G: -4.28\n",
      "Epoch [285/500] Batch 16/34                   Loss D: 483.02, loss G: -4.28\n",
      "Epoch [285/500] Batch 31/34                   Loss D: 42.70, loss G: -4.28\n",
      "Epoch [286/500] Batch 16/34                   Loss D: 151.26, loss G: -3.80\n",
      "Epoch [286/500] Batch 31/34                   Loss D: 45.46, loss G: -3.90\n",
      "Epoch [287/500] Batch 16/34                   Loss D: 22.80, loss G: -3.98\n",
      "Epoch [287/500] Batch 31/34                   Loss D: 657.65, loss G: -3.98\n",
      "Epoch [288/500] Batch 16/34                   Loss D: 316.01, loss G: -3.98\n",
      "Epoch [288/500] Batch 31/34                   Loss D: 31.09, loss G: -3.98\n",
      "Epoch [289/500] Batch 16/34                   Loss D: 240.84, loss G: -3.98\n",
      "Epoch [289/500] Batch 31/34                   Loss D: 188.92, loss G: -3.98\n",
      "Epoch [290/500] Batch 16/34                   Loss D: 4307.66, loss G: -3.98\n",
      "Epoch [290/500] Batch 31/34                   Loss D: 1160.87, loss G: -3.98\n",
      "Epoch [291/500] Batch 16/34                   Loss D: 10.59, loss G: -3.90\n",
      "Epoch [291/500] Batch 31/34                   Loss D: 9.77, loss G: -3.86\n",
      "Epoch [292/500] Batch 16/34                   Loss D: 20.14, loss G: -3.79\n",
      "Epoch [292/500] Batch 31/34                   Loss D: 10.97, loss G: -3.79\n",
      "Epoch [293/500] Batch 16/34                   Loss D: 16134.57, loss G: -3.79\n",
      "Epoch [293/500] Batch 31/34                   Loss D: 27.60, loss G: -3.79\n",
      "Epoch [294/500] Batch 16/34                   Loss D: 159.18, loss G: -3.79\n",
      "Epoch [294/500] Batch 31/34                   Loss D: 77.78, loss G: -3.79\n",
      "Epoch [295/500] Batch 16/34                   Loss D: 15.83, loss G: -3.79\n",
      "Epoch [295/500] Batch 31/34                   Loss D: 12.75, loss G: -3.79\n",
      "Epoch [296/500] Batch 16/34                   Loss D: 53.25, loss G: -3.59\n",
      "Epoch [296/500] Batch 31/34                   Loss D: 1937.39, loss G: -3.60\n",
      "Epoch [297/500] Batch 16/34                   Loss D: 59.92, loss G: -3.75\n",
      "Epoch [297/500] Batch 31/34                   Loss D: 29.48, loss G: -3.75\n",
      "Epoch [298/500] Batch 16/34                   Loss D: 63.10, loss G: -3.75\n",
      "Epoch [298/500] Batch 31/34                   Loss D: 639.26, loss G: -3.75\n",
      "Epoch [299/500] Batch 16/34                   Loss D: 46.32, loss G: -3.75\n",
      "Epoch [299/500] Batch 31/34                   Loss D: 13.34, loss G: -3.75\n",
      "Epoch [300/500] Batch 16/34                   Loss D: 24.02, loss G: -3.75\n",
      "Epoch [300/500] Batch 31/34                   Loss D: 117.07, loss G: -3.75\n",
      "Epoch [301/500] Batch 16/34                   Loss D: 62.13, loss G: -3.36\n",
      "Epoch [301/500] Batch 31/34                   Loss D: 10.40, loss G: -3.02\n",
      "Epoch [302/500] Batch 16/34                   Loss D: 9.78, loss G: -3.36\n",
      "Epoch [302/500] Batch 31/34                   Loss D: 169486.69, loss G: -3.36\n",
      "Epoch [303/500] Batch 16/34                   Loss D: 36.24, loss G: -3.36\n",
      "Epoch [303/500] Batch 31/34                   Loss D: 9.98, loss G: -3.36\n",
      "Epoch [304/500] Batch 16/34                   Loss D: 14.42, loss G: -3.36\n",
      "Epoch [304/500] Batch 31/34                   Loss D: 2183.09, loss G: -3.36\n",
      "Epoch [305/500] Batch 16/34                   Loss D: 10.04, loss G: -3.36\n",
      "Epoch [305/500] Batch 31/34                   Loss D: 10.07, loss G: -3.36\n",
      "Epoch [306/500] Batch 16/34                   Loss D: 9.95, loss G: -2.94\n",
      "Epoch [306/500] Batch 31/34                   Loss D: 9.96, loss G: -3.02\n",
      "Epoch [307/500] Batch 16/34                   Loss D: 186.80, loss G: -2.85\n",
      "Epoch [307/500] Batch 31/34                   Loss D: 958.06, loss G: -2.85\n",
      "Epoch [308/500] Batch 16/34                   Loss D: 213.60, loss G: -2.85\n",
      "Epoch [308/500] Batch 31/34                   Loss D: 10.03, loss G: -2.85\n",
      "Epoch [309/500] Batch 16/34                   Loss D: 9.99, loss G: -2.85\n",
      "Epoch [309/500] Batch 31/34                   Loss D: 11.79, loss G: -2.85\n",
      "Epoch [310/500] Batch 16/34                   Loss D: 17.60, loss G: -2.85\n",
      "Epoch [310/500] Batch 31/34                   Loss D: 12.31, loss G: -2.85\n",
      "Epoch [311/500] Batch 16/34                   Loss D: 9.01, loss G: -2.92\n",
      "Epoch [311/500] Batch 31/34                   Loss D: 9.94, loss G: -3.05\n",
      "Epoch [312/500] Batch 16/34                   Loss D: 570.60, loss G: -3.28\n",
      "Epoch [312/500] Batch 31/34                   Loss D: 9.93, loss G: -3.28\n",
      "Epoch [313/500] Batch 16/34                   Loss D: 10.54, loss G: -3.28\n",
      "Epoch [313/500] Batch 31/34                   Loss D: 11.02, loss G: -3.28\n",
      "Epoch [314/500] Batch 16/34                   Loss D: 16.23, loss G: -3.28\n",
      "Epoch [314/500] Batch 31/34                   Loss D: 16.87, loss G: -3.28\n",
      "Epoch [315/500] Batch 16/34                   Loss D: 56.54, loss G: -3.28\n",
      "Epoch [315/500] Batch 31/34                   Loss D: 9.41, loss G: -3.28\n",
      "Epoch [316/500] Batch 16/34                   Loss D: 36.26, loss G: -3.67\n",
      "Epoch [316/500] Batch 31/34                   Loss D: 9.97, loss G: -3.66\n",
      "Epoch [317/500] Batch 16/34                   Loss D: 11.10, loss G: -3.42\n",
      "Epoch [317/500] Batch 31/34                   Loss D: 9.99, loss G: -3.42\n",
      "Epoch [318/500] Batch 16/34                   Loss D: 9.96, loss G: -3.42\n",
      "Epoch [318/500] Batch 31/34                   Loss D: 10.64, loss G: -3.42\n",
      "Epoch [319/500] Batch 16/34                   Loss D: 171.55, loss G: -3.42\n",
      "Epoch [319/500] Batch 31/34                   Loss D: 10.03, loss G: -3.42\n",
      "Epoch [320/500] Batch 16/34                   Loss D: 10.90, loss G: -3.42\n",
      "Epoch [320/500] Batch 31/34                   Loss D: 10.06, loss G: -3.42\n",
      "Epoch [321/500] Batch 16/34                   Loss D: 221.13, loss G: -3.85\n",
      "Epoch [321/500] Batch 31/34                   Loss D: 20.27, loss G: -3.83\n",
      "Epoch [322/500] Batch 16/34                   Loss D: 10.09, loss G: -3.87\n",
      "Epoch [322/500] Batch 31/34                   Loss D: 18.54, loss G: -3.87\n",
      "Epoch [323/500] Batch 16/34                   Loss D: 10.43, loss G: -3.87\n",
      "Epoch [323/500] Batch 31/34                   Loss D: 10.72, loss G: -3.87\n",
      "Epoch [324/500] Batch 16/34                   Loss D: 156.06, loss G: -3.87\n",
      "Epoch [324/500] Batch 31/34                   Loss D: 11.78, loss G: -3.87\n",
      "Epoch [325/500] Batch 16/34                   Loss D: 571.33, loss G: -3.87\n",
      "Epoch [325/500] Batch 31/34                   Loss D: 5222.11, loss G: -3.87\n",
      "Epoch [326/500] Batch 16/34                   Loss D: 5965.14, loss G: -4.04\n",
      "Epoch [326/500] Batch 31/34                   Loss D: 25.38, loss G: -4.27\n",
      "Epoch [327/500] Batch 16/34                   Loss D: 1741.30, loss G: -4.34\n",
      "Epoch [327/500] Batch 31/34                   Loss D: 9.95, loss G: -4.34\n",
      "Epoch [328/500] Batch 16/34                   Loss D: 33.09, loss G: -4.34\n",
      "Epoch [328/500] Batch 31/34                   Loss D: 179.08, loss G: -4.34\n",
      "Epoch [329/500] Batch 16/34                   Loss D: 25.37, loss G: -4.34\n",
      "Epoch [329/500] Batch 31/34                   Loss D: 9.94, loss G: -4.34\n",
      "Epoch [330/500] Batch 16/34                   Loss D: 9.78, loss G: -4.34\n",
      "Epoch [330/500] Batch 31/34                   Loss D: 7929.14, loss G: -4.34\n",
      "Epoch [331/500] Batch 16/34                   Loss D: 9.97, loss G: -3.67\n",
      "Epoch [331/500] Batch 31/34                   Loss D: 170.53, loss G: -3.52\n",
      "Epoch [332/500] Batch 16/34                   Loss D: 10.76, loss G: -3.55\n",
      "Epoch [332/500] Batch 31/34                   Loss D: 64.54, loss G: -3.55\n",
      "Epoch [333/500] Batch 16/34                   Loss D: 10.17, loss G: -3.55\n",
      "Epoch [333/500] Batch 31/34                   Loss D: 12.04, loss G: -3.55\n",
      "Epoch [334/500] Batch 16/34                   Loss D: 9.23, loss G: -3.55\n",
      "Epoch [334/500] Batch 31/34                   Loss D: 9.05, loss G: -3.55\n",
      "Epoch [335/500] Batch 16/34                   Loss D: 9.94, loss G: -3.55\n",
      "Epoch [335/500] Batch 31/34                   Loss D: 9.94, loss G: -3.55\n",
      "Epoch [336/500] Batch 16/34                   Loss D: 11.03, loss G: -2.89\n",
      "Epoch [336/500] Batch 31/34                   Loss D: 172.73, loss G: -2.70\n",
      "Epoch [337/500] Batch 16/34                   Loss D: 52.69, loss G: -3.17\n",
      "Epoch [337/500] Batch 31/34                   Loss D: 12.46, loss G: -3.17\n",
      "Epoch [338/500] Batch 16/34                   Loss D: 20.76, loss G: -3.17\n",
      "Epoch [338/500] Batch 31/34                   Loss D: 12.43, loss G: -3.17\n",
      "Epoch [339/500] Batch 16/34                   Loss D: 325.89, loss G: -3.17\n",
      "Epoch [339/500] Batch 31/34                   Loss D: 508.73, loss G: -3.17\n",
      "Epoch [340/500] Batch 16/34                   Loss D: 10.28, loss G: -3.17\n",
      "Epoch [340/500] Batch 31/34                   Loss D: 248.18, loss G: -3.17\n",
      "Epoch [341/500] Batch 16/34                   Loss D: 4549.09, loss G: -2.48\n",
      "Epoch [341/500] Batch 31/34                   Loss D: 9.85, loss G: -2.54\n",
      "Epoch [342/500] Batch 16/34                   Loss D: 30.52, loss G: -3.61\n",
      "Epoch [342/500] Batch 31/34                   Loss D: 133.71, loss G: -3.61\n",
      "Epoch [343/500] Batch 16/34                   Loss D: 18.91, loss G: -3.61\n",
      "Epoch [343/500] Batch 31/34                   Loss D: 9.89, loss G: -3.61\n",
      "Epoch [344/500] Batch 16/34                   Loss D: 9.86, loss G: -3.61\n",
      "Epoch [344/500] Batch 31/34                   Loss D: 10.00, loss G: -3.61\n",
      "Epoch [345/500] Batch 16/34                   Loss D: 19.30, loss G: -3.61\n",
      "Epoch [345/500] Batch 31/34                   Loss D: 9.93, loss G: -3.61\n",
      "Epoch [346/500] Batch 16/34                   Loss D: 9.94, loss G: -2.38\n",
      "Epoch [346/500] Batch 31/34                   Loss D: 9.97, loss G: -2.33\n",
      "Epoch [347/500] Batch 16/34                   Loss D: 10.85, loss G: -3.72\n",
      "Epoch [347/500] Batch 31/34                   Loss D: 9.73, loss G: -3.72\n",
      "Epoch [348/500] Batch 16/34                   Loss D: 9.99, loss G: -3.72\n",
      "Epoch [348/500] Batch 31/34                   Loss D: 9.68, loss G: -3.72\n",
      "Epoch [349/500] Batch 16/34                   Loss D: 10.00, loss G: -3.72\n",
      "Epoch [349/500] Batch 31/34                   Loss D: 10.00, loss G: -3.72\n",
      "Epoch [350/500] Batch 16/34                   Loss D: 10.00, loss G: -3.72\n",
      "Epoch [350/500] Batch 31/34                   Loss D: 10.00, loss G: -3.72\n",
      "Epoch [351/500] Batch 16/34                   Loss D: 10.00, loss G: -2.14\n",
      "Epoch [351/500] Batch 31/34                   Loss D: 9.96, loss G: -2.17\n",
      "Epoch [352/500] Batch 16/34                   Loss D: 9.98, loss G: -2.65\n",
      "Epoch [352/500] Batch 31/34                   Loss D: 10.00, loss G: -2.65\n",
      "Epoch [353/500] Batch 16/34                   Loss D: 10.00, loss G: -2.65\n",
      "Epoch [353/500] Batch 31/34                   Loss D: 10.00, loss G: -2.65\n",
      "Epoch [354/500] Batch 16/34                   Loss D: 10.00, loss G: -2.65\n",
      "Epoch [354/500] Batch 31/34                   Loss D: 9.99, loss G: -2.65\n",
      "Epoch [355/500] Batch 16/34                   Loss D: 10.00, loss G: -2.65\n",
      "Epoch [355/500] Batch 31/34                   Loss D: 9.90, loss G: -2.65\n",
      "Epoch [356/500] Batch 16/34                   Loss D: 9.98, loss G: -2.80\n",
      "Epoch [356/500] Batch 31/34                   Loss D: 8.99, loss G: -2.96\n",
      "Epoch [357/500] Batch 16/34                   Loss D: 23.34, loss G: -2.36\n",
      "Epoch [357/500] Batch 31/34                   Loss D: 9.90, loss G: -2.36\n",
      "Epoch [358/500] Batch 16/34                   Loss D: 9.86, loss G: -2.36\n",
      "Epoch [358/500] Batch 31/34                   Loss D: 10.00, loss G: -2.36\n",
      "Epoch [359/500] Batch 16/34                   Loss D: 27.06, loss G: -2.36\n",
      "Epoch [359/500] Batch 31/34                   Loss D: 10.00, loss G: -2.36\n",
      "Epoch [360/500] Batch 16/34                   Loss D: 10.00, loss G: -2.36\n",
      "Epoch [360/500] Batch 31/34                   Loss D: 8.64, loss G: -2.36\n",
      "Epoch [361/500] Batch 16/34                   Loss D: 10.00, loss G: -1.87\n",
      "Epoch [361/500] Batch 31/34                   Loss D: 10.00, loss G: -2.07\n",
      "Epoch [362/500] Batch 16/34                   Loss D: 10.00, loss G: -2.21\n",
      "Epoch [362/500] Batch 31/34                   Loss D: 14.93, loss G: -2.21\n",
      "Epoch [363/500] Batch 16/34                   Loss D: 10.00, loss G: -2.21\n",
      "Epoch [363/500] Batch 31/34                   Loss D: 10.00, loss G: -2.21\n",
      "Epoch [364/500] Batch 16/34                   Loss D: 9.99, loss G: -2.21\n",
      "Epoch [364/500] Batch 31/34                   Loss D: 10.00, loss G: -2.21\n",
      "Epoch [365/500] Batch 16/34                   Loss D: 11.42, loss G: -2.21\n",
      "Epoch [365/500] Batch 31/34                   Loss D: 12.79, loss G: -2.21\n",
      "Epoch [366/500] Batch 16/34                   Loss D: 9.60, loss G: -1.18\n",
      "Epoch [366/500] Batch 31/34                   Loss D: 10.00, loss G: -1.11\n",
      "Epoch [367/500] Batch 16/34                   Loss D: 101.42, loss G: -1.85\n",
      "Epoch [367/500] Batch 31/34                   Loss D: 26.88, loss G: -1.85\n",
      "Epoch [368/500] Batch 16/34                   Loss D: 10.00, loss G: -1.85\n",
      "Epoch [368/500] Batch 31/34                   Loss D: 9.98, loss G: -1.85\n",
      "Epoch [369/500] Batch 16/34                   Loss D: 8.77, loss G: -1.85\n",
      "Epoch [369/500] Batch 31/34                   Loss D: 10.00, loss G: -1.85\n",
      "Epoch [370/500] Batch 16/34                   Loss D: 9.99, loss G: -1.85\n",
      "Epoch [370/500] Batch 31/34                   Loss D: 8.80, loss G: -1.85\n",
      "Epoch [371/500] Batch 16/34                   Loss D: 10.00, loss G: -2.09\n",
      "Epoch [371/500] Batch 31/34                   Loss D: 10.00, loss G: -2.20\n",
      "Epoch [372/500] Batch 16/34                   Loss D: 10.44, loss G: -1.97\n",
      "Epoch [372/500] Batch 31/34                   Loss D: 10.00, loss G: -1.97\n",
      "Epoch [373/500] Batch 16/34                   Loss D: 9.99, loss G: -1.97\n",
      "Epoch [373/500] Batch 31/34                   Loss D: 15.31, loss G: -1.97\n",
      "Epoch [374/500] Batch 16/34                   Loss D: 10.00, loss G: -1.97\n",
      "Epoch [374/500] Batch 31/34                   Loss D: 10.00, loss G: -1.97\n",
      "Epoch [375/500] Batch 16/34                   Loss D: 10.00, loss G: -1.97\n",
      "Epoch [375/500] Batch 31/34                   Loss D: 10.00, loss G: -1.97\n",
      "Epoch [376/500] Batch 16/34                   Loss D: 10.00, loss G: -2.19\n",
      "Epoch [376/500] Batch 31/34                   Loss D: 8.49, loss G: -1.84\n",
      "Epoch [377/500] Batch 16/34                   Loss D: 10.00, loss G: -1.16\n",
      "Epoch [377/500] Batch 31/34                   Loss D: 9.99, loss G: -1.16\n",
      "Epoch [378/500] Batch 16/34                   Loss D: 10.00, loss G: -1.16\n",
      "Epoch [378/500] Batch 31/34                   Loss D: 10.00, loss G: -1.16\n",
      "Epoch [379/500] Batch 16/34                   Loss D: 9.20, loss G: -1.16\n",
      "Epoch [379/500] Batch 31/34                   Loss D: 9.98, loss G: -1.16\n",
      "Epoch [380/500] Batch 16/34                   Loss D: 10.00, loss G: -1.16\n",
      "Epoch [380/500] Batch 31/34                   Loss D: 8.94, loss G: -1.16\n",
      "Epoch [381/500] Batch 16/34                   Loss D: 10.00, loss G: -2.08\n",
      "Epoch [381/500] Batch 31/34                   Loss D: 10.00, loss G: -1.79\n",
      "Epoch [382/500] Batch 16/34                   Loss D: 10.00, loss G: -2.17\n",
      "Epoch [382/500] Batch 31/34                   Loss D: 9.96, loss G: -2.17\n",
      "Epoch [383/500] Batch 16/34                   Loss D: 10.00, loss G: -2.17\n",
      "Epoch [383/500] Batch 31/34                   Loss D: 10.00, loss G: -2.17\n",
      "Epoch [384/500] Batch 16/34                   Loss D: 9.68, loss G: -2.17\n",
      "Epoch [384/500] Batch 31/34                   Loss D: 9.99, loss G: -2.17\n",
      "Epoch [385/500] Batch 16/34                   Loss D: 10.00, loss G: -2.17\n",
      "Epoch [385/500] Batch 31/34                   Loss D: 9.99, loss G: -2.17\n",
      "Epoch [386/500] Batch 16/34                   Loss D: 10.00, loss G: -1.77\n",
      "Epoch [386/500] Batch 31/34                   Loss D: 10.00, loss G: -2.03\n",
      "Epoch [387/500] Batch 16/34                   Loss D: 10.54, loss G: -3.58\n",
      "Epoch [387/500] Batch 31/34                   Loss D: 10.00, loss G: -3.58\n",
      "Epoch [388/500] Batch 16/34                   Loss D: 10.00, loss G: -3.58\n",
      "Epoch [388/500] Batch 31/34                   Loss D: 10.00, loss G: -3.58\n",
      "Epoch [389/500] Batch 16/34                   Loss D: 10.00, loss G: -3.58\n",
      "Epoch [389/500] Batch 31/34                   Loss D: 10.00, loss G: -3.58\n",
      "Epoch [390/500] Batch 16/34                   Loss D: 10.00, loss G: -3.58\n",
      "Epoch [390/500] Batch 31/34                   Loss D: 10.00, loss G: -3.58\n",
      "Epoch [391/500] Batch 16/34                   Loss D: 7.55, loss G: -2.58\n",
      "Epoch [391/500] Batch 31/34                   Loss D: 9.99, loss G: -3.85\n",
      "Epoch [392/500] Batch 16/34                   Loss D: 10.00, loss G: -3.42\n",
      "Epoch [392/500] Batch 31/34                   Loss D: 10.00, loss G: -3.42\n",
      "Epoch [393/500] Batch 16/34                   Loss D: 10.00, loss G: -3.42\n",
      "Epoch [393/500] Batch 31/34                   Loss D: 9.50, loss G: -3.42\n",
      "Epoch [394/500] Batch 16/34                   Loss D: 9.62, loss G: -3.42\n",
      "Epoch [394/500] Batch 31/34                   Loss D: 10.00, loss G: -3.42\n",
      "Epoch [395/500] Batch 16/34                   Loss D: 9.75, loss G: -3.42\n",
      "Epoch [395/500] Batch 31/34                   Loss D: 10.00, loss G: -3.42\n",
      "Epoch [396/500] Batch 16/34                   Loss D: 10.00, loss G: -2.89\n",
      "Epoch [396/500] Batch 31/34                   Loss D: 11.20, loss G: -2.52\n",
      "Epoch [397/500] Batch 16/34                   Loss D: 10.00, loss G: -3.19\n",
      "Epoch [397/500] Batch 31/34                   Loss D: 9.97, loss G: -3.19\n",
      "Epoch [398/500] Batch 16/34                   Loss D: 9.99, loss G: -3.19\n",
      "Epoch [398/500] Batch 31/34                   Loss D: 10.00, loss G: -3.19\n",
      "Epoch [399/500] Batch 16/34                   Loss D: 10.00, loss G: -3.19\n",
      "Epoch [399/500] Batch 31/34                   Loss D: 10.00, loss G: -3.19\n",
      "Epoch [400/500] Batch 16/34                   Loss D: 10.00, loss G: -3.19\n",
      "Epoch [400/500] Batch 31/34                   Loss D: 9.98, loss G: -3.19\n",
      "Epoch [401/500] Batch 16/34                   Loss D: 13.40, loss G: -2.58\n",
      "Epoch [401/500] Batch 31/34                   Loss D: 10.00, loss G: -2.94\n",
      "Epoch [402/500] Batch 16/34                   Loss D: 10.00, loss G: -2.69\n",
      "Epoch [402/500] Batch 31/34                   Loss D: 10.00, loss G: -2.69\n",
      "Epoch [403/500] Batch 16/34                   Loss D: 10.00, loss G: -2.69\n",
      "Epoch [403/500] Batch 31/34                   Loss D: 9.78, loss G: -2.69\n",
      "Epoch [404/500] Batch 16/34                   Loss D: 10.00, loss G: -2.69\n",
      "Epoch [404/500] Batch 31/34                   Loss D: 10.00, loss G: -2.69\n",
      "Epoch [405/500] Batch 16/34                   Loss D: 9.95, loss G: -2.69\n",
      "Epoch [405/500] Batch 31/34                   Loss D: 10.00, loss G: -2.69\n",
      "Epoch [406/500] Batch 16/34                   Loss D: 10.00, loss G: -1.52\n",
      "Epoch [406/500] Batch 31/34                   Loss D: 9.98, loss G: -1.88\n",
      "Epoch [407/500] Batch 16/34                   Loss D: 10.00, loss G: -0.66\n",
      "Epoch [407/500] Batch 31/34                   Loss D: 10.00, loss G: -0.66\n",
      "Epoch [408/500] Batch 16/34                   Loss D: 9.98, loss G: -0.66\n",
      "Epoch [408/500] Batch 31/34                   Loss D: 9.99, loss G: -0.66\n",
      "Epoch [409/500] Batch 16/34                   Loss D: 9.99, loss G: -0.66\n",
      "Epoch [409/500] Batch 31/34                   Loss D: 10.00, loss G: -0.66\n",
      "Epoch [410/500] Batch 16/34                   Loss D: 9.98, loss G: -0.66\n",
      "Epoch [410/500] Batch 31/34                   Loss D: 9.98, loss G: -0.66\n",
      "Epoch [411/500] Batch 16/34                   Loss D: 10.00, loss G: -6.24\n",
      "Epoch [411/500] Batch 31/34                   Loss D: 10.00, loss G: -5.62\n",
      "Epoch [412/500] Batch 16/34                   Loss D: 10.00, loss G: -3.64\n",
      "Epoch [412/500] Batch 31/34                   Loss D: 9.92, loss G: -3.64\n",
      "Epoch [413/500] Batch 16/34                   Loss D: 10.00, loss G: -3.64\n",
      "Epoch [413/500] Batch 31/34                   Loss D: 10.00, loss G: -3.64\n",
      "Epoch [414/500] Batch 16/34                   Loss D: 10.00, loss G: -3.64\n",
      "Epoch [414/500] Batch 31/34                   Loss D: 10.00, loss G: -3.64\n",
      "Epoch [415/500] Batch 16/34                   Loss D: 8.09, loss G: -3.64\n",
      "Epoch [415/500] Batch 31/34                   Loss D: 10.00, loss G: -3.64\n",
      "Epoch [416/500] Batch 16/34                   Loss D: 8.27, loss G: -5.26\n",
      "Epoch [416/500] Batch 31/34                   Loss D: 10.00, loss G: -4.78\n",
      "Epoch [417/500] Batch 16/34                   Loss D: 7.63, loss G: -3.01\n",
      "Epoch [417/500] Batch 31/34                   Loss D: 9.99, loss G: -3.01\n",
      "Epoch [418/500] Batch 16/34                   Loss D: 10.00, loss G: -3.01\n",
      "Epoch [418/500] Batch 31/34                   Loss D: 9.90, loss G: -3.01\n",
      "Epoch [419/500] Batch 16/34                   Loss D: 8.47, loss G: -3.01\n",
      "Epoch [419/500] Batch 31/34                   Loss D: 9.22, loss G: -3.01\n",
      "Epoch [420/500] Batch 16/34                   Loss D: 8.83, loss G: -3.01\n",
      "Epoch [420/500] Batch 31/34                   Loss D: 9.89, loss G: -3.01\n",
      "Epoch [421/500] Batch 16/34                   Loss D: 10.02, loss G: -8.43\n",
      "Epoch [421/500] Batch 31/34                   Loss D: 808.75, loss G: 0.44\n",
      "Epoch [422/500] Batch 16/34                   Loss D: 597.06, loss G: -3.44\n",
      "Epoch [422/500] Batch 31/34                   Loss D: 2314.93, loss G: -3.44\n",
      "Epoch [423/500] Batch 16/34                   Loss D: 219.99, loss G: -3.44\n",
      "Epoch [423/500] Batch 31/34                   Loss D: 57.39, loss G: -3.44\n",
      "Epoch [424/500] Batch 16/34                   Loss D: 14.55, loss G: -3.44\n",
      "Epoch [424/500] Batch 31/34                   Loss D: 137.43, loss G: -3.44\n",
      "Epoch [425/500] Batch 16/34                   Loss D: 277.32, loss G: -3.44\n",
      "Epoch [425/500] Batch 31/34                   Loss D: 112.88, loss G: -3.44\n",
      "Epoch [426/500] Batch 16/34                   Loss D: 179.04, loss G: 0.24\n",
      "Epoch [426/500] Batch 31/34                   Loss D: 39.06, loss G: 0.11\n",
      "Epoch [427/500] Batch 16/34                   Loss D: 19.28, loss G: -2.26\n",
      "Epoch [427/500] Batch 31/34                   Loss D: 61.40, loss G: -2.26\n",
      "Epoch [428/500] Batch 16/34                   Loss D: 9.94, loss G: -2.26\n",
      "Epoch [428/500] Batch 31/34                   Loss D: 193.08, loss G: -2.26\n",
      "Epoch [429/500] Batch 16/34                   Loss D: 20.16, loss G: -2.26\n",
      "Epoch [429/500] Batch 31/34                   Loss D: 107.51, loss G: -2.26\n",
      "Epoch [430/500] Batch 16/34                   Loss D: 11.28, loss G: -2.26\n",
      "Epoch [430/500] Batch 31/34                   Loss D: 10.66, loss G: -2.26\n",
      "Epoch [431/500] Batch 16/34                   Loss D: 9.99, loss G: -0.05\n",
      "Epoch [431/500] Batch 31/34                   Loss D: 9.96, loss G: -0.54\n",
      "Epoch [432/500] Batch 16/34                   Loss D: 10.46, loss G: -0.08\n",
      "Epoch [432/500] Batch 31/34                   Loss D: 9.99, loss G: -0.08\n",
      "Epoch [433/500] Batch 16/34                   Loss D: 39.34, loss G: -0.08\n",
      "Epoch [433/500] Batch 31/34                   Loss D: 9.54, loss G: -0.08\n",
      "Epoch [434/500] Batch 16/34                   Loss D: 10.00, loss G: -0.08\n",
      "Epoch [434/500] Batch 31/34                   Loss D: 9.77, loss G: -0.08\n",
      "Epoch [435/500] Batch 16/34                   Loss D: 10.00, loss G: -0.08\n",
      "Epoch [435/500] Batch 31/34                   Loss D: 10.00, loss G: -0.08\n",
      "Epoch [436/500] Batch 16/34                   Loss D: 10.42, loss G: -0.72\n",
      "Epoch [436/500] Batch 31/34                   Loss D: 10.00, loss G: -0.30\n",
      "Epoch [437/500] Batch 16/34                   Loss D: 11.28, loss G: -1.31\n",
      "Epoch [437/500] Batch 31/34                   Loss D: 2823.86, loss G: -1.31\n",
      "Epoch [438/500] Batch 16/34                   Loss D: 9.98, loss G: -1.31\n",
      "Epoch [438/500] Batch 31/34                   Loss D: 9.95, loss G: -1.31\n",
      "Epoch [439/500] Batch 16/34                   Loss D: 44.09, loss G: -1.31\n",
      "Epoch [439/500] Batch 31/34                   Loss D: 10.00, loss G: -1.31\n",
      "Epoch [440/500] Batch 16/34                   Loss D: 10.53, loss G: -1.31\n",
      "Epoch [440/500] Batch 31/34                   Loss D: 10.04, loss G: -1.31\n",
      "Epoch [441/500] Batch 16/34                   Loss D: 10.00, loss G: -1.95\n",
      "Epoch [441/500] Batch 31/34                   Loss D: 10.00, loss G: -1.99\n",
      "Epoch [442/500] Batch 16/34                   Loss D: 11.36, loss G: -0.11\n",
      "Epoch [442/500] Batch 31/34                   Loss D: 19.96, loss G: -0.11\n",
      "Epoch [443/500] Batch 16/34                   Loss D: 9.55, loss G: -0.11\n",
      "Epoch [443/500] Batch 31/34                   Loss D: 8.82, loss G: -0.11\n",
      "Epoch [444/500] Batch 16/34                   Loss D: 9.71, loss G: -0.11\n",
      "Epoch [444/500] Batch 31/34                   Loss D: 9.09, loss G: -0.11\n",
      "Epoch [445/500] Batch 16/34                   Loss D: 9.92, loss G: -0.11\n",
      "Epoch [445/500] Batch 31/34                   Loss D: 10.00, loss G: -0.11\n",
      "Epoch [446/500] Batch 16/34                   Loss D: 10.00, loss G: -6.33\n",
      "Epoch [446/500] Batch 31/34                   Loss D: 10.00, loss G: -6.46\n",
      "Epoch [447/500] Batch 16/34                   Loss D: 9.96, loss G: -3.85\n",
      "Epoch [447/500] Batch 31/34                   Loss D: 9.97, loss G: -3.85\n",
      "Epoch [448/500] Batch 16/34                   Loss D: 36.67, loss G: -3.85\n",
      "Epoch [448/500] Batch 31/34                   Loss D: 9.98, loss G: -3.85\n",
      "Epoch [449/500] Batch 16/34                   Loss D: 11.53, loss G: -3.85\n",
      "Epoch [449/500] Batch 31/34                   Loss D: 10.00, loss G: -3.85\n",
      "Epoch [450/500] Batch 16/34                   Loss D: 11.00, loss G: -3.85\n",
      "Epoch [450/500] Batch 31/34                   Loss D: 9.66, loss G: -3.85\n",
      "Epoch [451/500] Batch 16/34                   Loss D: 11.85, loss G: -5.41\n",
      "Epoch [451/500] Batch 31/34                   Loss D: 9.97, loss G: -4.03\n",
      "Epoch [452/500] Batch 16/34                   Loss D: 10.00, loss G: -1.96\n",
      "Epoch [452/500] Batch 31/34                   Loss D: 9.26, loss G: -1.96\n",
      "Epoch [453/500] Batch 16/34                   Loss D: 9.77, loss G: -1.96\n",
      "Epoch [453/500] Batch 31/34                   Loss D: 10.00, loss G: -1.96\n",
      "Epoch [454/500] Batch 16/34                   Loss D: 9.88, loss G: -1.96\n",
      "Epoch [454/500] Batch 31/34                   Loss D: 9.96, loss G: -1.96\n",
      "Epoch [455/500] Batch 16/34                   Loss D: 9.33, loss G: -1.96\n",
      "Epoch [455/500] Batch 31/34                   Loss D: 10.00, loss G: -1.96\n",
      "Epoch [456/500] Batch 16/34                   Loss D: 9.99, loss G: -5.24\n",
      "Epoch [456/500] Batch 31/34                   Loss D: 10.67, loss G: -5.15\n",
      "Epoch [457/500] Batch 16/34                   Loss D: 9.50, loss G: -3.37\n",
      "Epoch [457/500] Batch 31/34                   Loss D: 9.72, loss G: -3.37\n",
      "Epoch [458/500] Batch 16/34                   Loss D: 20.42, loss G: -3.37\n",
      "Epoch [458/500] Batch 31/34                   Loss D: 9.99, loss G: -3.37\n",
      "Epoch [459/500] Batch 16/34                   Loss D: 9.32, loss G: -3.37\n",
      "Epoch [459/500] Batch 31/34                   Loss D: 10.00, loss G: -3.37\n",
      "Epoch [460/500] Batch 16/34                   Loss D: 15.96, loss G: -3.37\n",
      "Epoch [460/500] Batch 31/34                   Loss D: 10.00, loss G: -3.37\n",
      "Epoch [461/500] Batch 16/34                   Loss D: 10.00, loss G: 1.76\n",
      "Epoch [461/500] Batch 31/34                   Loss D: 10.30, loss G: 2.12\n",
      "Epoch [462/500] Batch 16/34                   Loss D: 10.00, loss G: 3.64\n",
      "Epoch [462/500] Batch 31/34                   Loss D: 9.76, loss G: 3.64\n",
      "Epoch [463/500] Batch 16/34                   Loss D: 10.00, loss G: 3.64\n",
      "Epoch [463/500] Batch 31/34                   Loss D: 10.14, loss G: 3.64\n",
      "Epoch [464/500] Batch 16/34                   Loss D: 9.98, loss G: 3.64\n",
      "Epoch [464/500] Batch 31/34                   Loss D: 9.94, loss G: 3.64\n",
      "Epoch [465/500] Batch 16/34                   Loss D: 9.50, loss G: 3.64\n",
      "Epoch [465/500] Batch 31/34                   Loss D: 11.91, loss G: 3.64\n",
      "Epoch [466/500] Batch 16/34                   Loss D: 9.98, loss G: 4.33\n",
      "Epoch [466/500] Batch 31/34                   Loss D: 217.31, loss G: 4.11\n",
      "Epoch [467/500] Batch 16/34                   Loss D: 10.00, loss G: 5.57\n",
      "Epoch [467/500] Batch 31/34                   Loss D: 10.00, loss G: 5.57\n",
      "Epoch [468/500] Batch 16/34                   Loss D: 8.47, loss G: 5.57\n",
      "Epoch [468/500] Batch 31/34                   Loss D: 10.00, loss G: 5.57\n",
      "Epoch [469/500] Batch 16/34                   Loss D: 9.42, loss G: 5.57\n",
      "Epoch [469/500] Batch 31/34                   Loss D: 9.88, loss G: 5.57\n",
      "Epoch [470/500] Batch 16/34                   Loss D: 9.83, loss G: 5.57\n",
      "Epoch [470/500] Batch 31/34                   Loss D: 10.00, loss G: 5.57\n",
      "Epoch [471/500] Batch 16/34                   Loss D: 9.95, loss G: -8.34\n",
      "Epoch [471/500] Batch 31/34                   Loss D: 9.90, loss G: -8.27\n",
      "Epoch [472/500] Batch 16/34                   Loss D: 9.48, loss G: -7.04\n",
      "Epoch [472/500] Batch 31/34                   Loss D: 10.60, loss G: -7.04\n",
      "Epoch [473/500] Batch 16/34                   Loss D: 10.00, loss G: -7.04\n",
      "Epoch [473/500] Batch 31/34                   Loss D: 9.22, loss G: -7.04\n",
      "Epoch [474/500] Batch 16/34                   Loss D: 10.00, loss G: -7.04\n",
      "Epoch [474/500] Batch 31/34                   Loss D: 10.00, loss G: -7.04\n",
      "Epoch [475/500] Batch 16/34                   Loss D: 10.00, loss G: -7.04\n",
      "Epoch [475/500] Batch 31/34                   Loss D: 10.00, loss G: -7.04\n",
      "Epoch [476/500] Batch 16/34                   Loss D: 10.00, loss G: -5.12\n",
      "Epoch [476/500] Batch 31/34                   Loss D: 10.00, loss G: -4.72\n",
      "Epoch [477/500] Batch 16/34                   Loss D: 9.35, loss G: -4.13\n",
      "Epoch [477/500] Batch 31/34                   Loss D: 8.88, loss G: -4.13\n",
      "Epoch [478/500] Batch 16/34                   Loss D: 9.16, loss G: -4.13\n",
      "Epoch [478/500] Batch 31/34                   Loss D: 9.24, loss G: -4.13\n",
      "Epoch [479/500] Batch 16/34                   Loss D: 9.58, loss G: -4.13\n",
      "Epoch [479/500] Batch 31/34                   Loss D: 8.28, loss G: -4.13\n",
      "Epoch [480/500] Batch 16/34                   Loss D: 9.58, loss G: -4.13\n",
      "Epoch [480/500] Batch 31/34                   Loss D: 10.00, loss G: -4.13\n",
      "Epoch [481/500] Batch 16/34                   Loss D: 10.00, loss G: -1.44\n",
      "Epoch [481/500] Batch 31/34                   Loss D: 10.00, loss G: -1.76\n",
      "Epoch [482/500] Batch 16/34                   Loss D: 9.99, loss G: -0.47\n",
      "Epoch [482/500] Batch 31/34                   Loss D: 9.99, loss G: -0.47\n",
      "Epoch [483/500] Batch 16/34                   Loss D: 29.78, loss G: -0.47\n",
      "Epoch [483/500] Batch 31/34                   Loss D: 10.00, loss G: -0.47\n",
      "Epoch [484/500] Batch 16/34                   Loss D: 8.42, loss G: -0.47\n",
      "Epoch [484/500] Batch 31/34                   Loss D: 9.96, loss G: -0.47\n",
      "Epoch [485/500] Batch 16/34                   Loss D: 9.95, loss G: -0.47\n",
      "Epoch [485/500] Batch 31/34                   Loss D: 9.75, loss G: -0.47\n",
      "Epoch [486/500] Batch 16/34                   Loss D: 10.00, loss G: 4.31\n",
      "Epoch [486/500] Batch 31/34                   Loss D: 18.01, loss G: 4.70\n",
      "Epoch [487/500] Batch 16/34                   Loss D: 10.00, loss G: 2.05\n",
      "Epoch [487/500] Batch 31/34                   Loss D: 10.00, loss G: 2.05\n",
      "Epoch [488/500] Batch 16/34                   Loss D: 9.30, loss G: 2.05\n",
      "Epoch [488/500] Batch 31/34                   Loss D: 12.67, loss G: 2.05\n",
      "Epoch [489/500] Batch 16/34                   Loss D: 9.87, loss G: 2.05\n",
      "Epoch [489/500] Batch 31/34                   Loss D: 7.69, loss G: 2.05\n",
      "Epoch [490/500] Batch 16/34                   Loss D: 9.97, loss G: 2.05\n",
      "Epoch [490/500] Batch 31/34                   Loss D: 19.56, loss G: 2.05\n",
      "Epoch [491/500] Batch 16/34                   Loss D: 9.70, loss G: 9.22\n",
      "Epoch [491/500] Batch 31/34                   Loss D: 10.21, loss G: 9.27\n",
      "Epoch [492/500] Batch 16/34                   Loss D: 9.95, loss G: 3.72\n",
      "Epoch [492/500] Batch 31/34                   Loss D: 10.00, loss G: 3.72\n",
      "Epoch [493/500] Batch 16/34                   Loss D: 10.00, loss G: 3.72\n",
      "Epoch [493/500] Batch 31/34                   Loss D: 31.60, loss G: 3.72\n",
      "Epoch [494/500] Batch 16/34                   Loss D: 8.31, loss G: 3.72\n",
      "Epoch [494/500] Batch 31/34                   Loss D: 9.97, loss G: 3.72\n",
      "Epoch [495/500] Batch 16/34                   Loss D: 8.64, loss G: 3.72\n",
      "Epoch [495/500] Batch 31/34                   Loss D: 10.00, loss G: 3.72\n",
      "Epoch [496/500] Batch 16/34                   Loss D: 10.42, loss G: 10.01\n",
      "Epoch [496/500] Batch 31/34                   Loss D: 9.99, loss G: 10.58\n",
      "Epoch [497/500] Batch 16/34                   Loss D: 10.00, loss G: 7.39\n",
      "Epoch [497/500] Batch 31/34                   Loss D: 8.94, loss G: 7.39\n",
      "Epoch [498/500] Batch 16/34                   Loss D: 9.31, loss G: 7.39\n",
      "Epoch [498/500] Batch 31/34                   Loss D: 9.94, loss G: 7.39\n",
      "Epoch [499/500] Batch 16/34                   Loss D: 10.00, loss G: 7.39\n",
      "Epoch [499/500] Batch 31/34                   Loss D: 9.96, loss G: 7.39\n",
      "Epoch [500/500] Batch 16/34                   Loss D: 87.69, loss G: 7.39\n",
      "Epoch [500/500] Batch 31/34                   Loss D: 15.04, loss G: 7.39\n"
     ]
    }
   ],
   "source": [
    "# Hyperparameters\n",
    "device = \"cuda\" if torch.cuda.is_available() else \"cpu\"\n",
    "Learning_rate = 1e-4\n",
    "Batch_size = 512\n",
    "seq_size = 4\n",
    "seq_len = 600\n",
    "noise_dim = 200\n",
    "num_epochs = 500\n",
    "features_cirtic = 300\n",
    "features_gen = 200\n",
    "Critic_iterations = 5\n",
    "Lamda_GP = 10\n",
    "\n",
    "#Lists\n",
    "gen_losses_W = []\n",
    "critic_losses_W = []\n",
    "# using dataloader to split data to batches\n",
    "dataloader = DataLoader(training_data, batch_size=Batch_size, shuffle=True)\n",
    "# calling generator and critic classes\n",
    "gen = Generator(noise_dim, features_gen,SelfAttentionLayer)\n",
    "critic = Critic(seq_len, features_cirtic,SelfAttentionLayer)\n",
    "# Initialize the weights: mean=0, std = 0.02\n",
    "Initialize_weights(gen)\n",
    "Initialize_weights(critic)\n",
    "# calling loss functions\n",
    "lossG = GANLossGenerator()\n",
    "lossD = GANLossDiscriminator()\n",
    "gen.train()\n",
    "critic.train()\n",
    "\n",
    "# using adam optimizer\n",
    "opt_gen = optim.Adam(gen.parameters(), lr=Learning_rate, betas=(0.0, 0.9))\n",
    "opt_critic= optim.Adam(critic.parameters(), lr=Learning_rate, betas=(0.0, 0.9))\n",
    "\n",
    "for epoch in range(num_epochs):\n",
    "  for batch_idx, real in enumerate (dataloader):\n",
    "          # Train the critic\n",
    "      real = real.to(device)\n",
    "      # generate random noise\n",
    "      noise = torch.randn(len(real),noise_dim,1).to(device)\n",
    "      # passing the noise into generator to generate sequences\n",
    "      fake = gen(noise).to(device)\n",
    "      # Training the critic \n",
    "      critic_real = critic(real).reshape(-1)\n",
    "      critic_fake = critic(fake).reshape(-1)\n",
    "      # calling gradient penalty and calculate the loss\n",
    "      gp = GradientPenalty(critic, real,fake,device = device)\n",
    "      loss_critic = lossD.Wasserstein(critic_real, critic_fake)\n",
    "      loss_critic = loss_critic + Lamda_GP * gp\n",
    "      loss_Critic = torch.autograd.Variable(loss_critic, requires_grad = True)\n",
    "      # backpropagate and optimize critic model\n",
    "      critic.zero_grad()\n",
    "      loss_critic.backward(retain_graph = True)\n",
    "      opt_critic.step()\n",
    "      \n",
    "      # Training generator\n",
    "      # learining generator once for every 5 epochs\n",
    "      # calculate the loss\n",
    "      if epoch % Critic_iterations == 0:\n",
    "            loss_gen = lossG.Wasserstein(critic_fake)\n",
    "            loss_gen = torch.autograd.Variable(loss_gen, requires_grad = True)\n",
    "            # backpropagate and optimize the generator model\n",
    "            gen.zero_grad()\n",
    "            loss_gen.backward()\n",
    "            opt_gen.step()   \n",
    "      critic_losses_W.append(loss_critic.detach().float())\n",
    "      gen_losses_W.append(loss_gen.detach().float())\n",
    "      # print the losses occasionally\n",
    "      if batch_idx % 15 == 0 and batch_idx > 0:\n",
    "        print(\n",
    "                f\"Epoch [{epoch+1}/{num_epochs}] Batch {batch_idx+1}/{len(dataloader)} \\\n",
    "                  Loss D: {loss_critic:.2f}, loss G: {loss_gen:.2f}\"\n",
    "                )"
   ]
  },
  {
   "cell_type": "code",
   "execution_count": null,
   "metadata": {},
   "outputs": [],
   "source": [
    "torch.save(gen.state_dict(),\"WGAN_GP Generator.pt\")\n",
    "torch.save(critic.state_dict(),\"WGAN-GP Critic.pt\")"
   ]
  },
  {
   "attachments": {},
   "cell_type": "markdown",
   "metadata": {},
   "source": [
    "## Visualization"
   ]
  },
  {
   "cell_type": "code",
   "execution_count": null,
   "metadata": {},
   "outputs": [
    {
     "data": {
      "image/png": "[encoded data removed]",
      "text/plain": [
       "<Figure size 720x360 with 1 Axes>"
      ]
     },
     "metadata": {},
     "output_type": "display_data"
    }
   ],
   "source": [
    "Visualize(gen_losses_W,critic_losses_W)"
   ]
  },
  {
   "attachments": {},
   "cell_type": "markdown",
   "metadata": {},
   "source": [
    "# Loading saved models"
   ]
  },
  {
   "cell_type": "code",
   "execution_count": 10,
   "metadata": {},
   "outputs": [],
   "source": [
    "def load(GAN):\n",
    "    noise_dim = 200\n",
    "    gen_features = 200\n",
    "    seq_len = 600\n",
    "    disc_features =300\n",
    "    if GAN == 'DCGAN': \n",
    "        # Load Generator\n",
    "        gen = Generator(noise_dim, gen_features, SelfAttentionLayer)\n",
    "        gen.load_state_dict(torch.load('C:/Users/EGYPT_LAPTOP/Desktop/Saved models- Proteinea/DCGAN Generator.pt'))\n",
    "        # gen.eval()\n",
    "        # Load discriminator\n",
    "        disc = Discriminator(seq_len, disc_features, SelfAttentionLayer)\n",
    "        disc.load_state_dict(torch.load('C:/Users/EGYPT_LAPTOP/Desktop/Saved models- Proteinea/DCGAN Discriminator.pt'))\n",
    "        disc.eval()\n",
    "        return gen,disc\n",
    "    elif GAN == 'WGAN-GP':\n",
    "        # Load Generator\n",
    "        gen_wgan_gp = Generator(noise_dim, gen_features, SelfAttentionLayer)\n",
    "        gen_wgan_gp.load_state_dict(torch.load('C:/Users/EGYPT_LAPTOP/Desktop/Saved models- Proteinea/WGAN_GP Generator.pt'))\n",
    "        gen_wgan_gp.eval()\n",
    "        # Load Critic\n",
    "        critic_wgan_gp = Critic(seq_len, disc_features, SelfAttentionLayer)\n",
    "        critic_wgan_gp.load_state_dict(torch.load('C:/Users/EGYPT_LAPTOP/Desktop/Saved models- Proteinea/WGAN-GP Critic.pt'))\n",
    "        critic_wgan_gp.eval()\n",
    "        return gen,critic\n",
    "    else:\n",
    "        print(\"DCGAN and WGAN-GP only saved model we have\")"
   ]
  },
  {
   "attachments": {},
   "cell_type": "markdown",
   "metadata": {},
   "source": [
    "# Generate sequences"
   ]
  },
  {
   "cell_type": "code",
   "execution_count": 11,
   "metadata": {},
   "outputs": [],
   "source": [
    "def Generate (no_of_sequence):\n",
    "    # create list and dictionary\n",
    "    fake_all = []\n",
    "    nucleotide = []\n",
    "    converter = {0: 'A', 1:'C',2:'G',3:'T'}\n",
    "    # Generate promoters\n",
    "    for i in range(no_of_sequence):\n",
    "        gen = Generator(200, 200,SelfAttentionLayer)\n",
    "        noise = torch.randn(1,200,1)\n",
    "        fake = gen(noise)\n",
    "        fake_all.append(fake)\n",
    "    Synthetic_promoters = torch.stack(fake_all)\n",
    "    # Convert generated promoters into nucleotides\n",
    "    for i in Synthetic_promoters:\n",
    "        sequence = []\n",
    "        for j in i[0]:\n",
    "            sequence.append(converter[int(j.argmax())])\n",
    "        nucleotide.append(''.join(sequence))\n",
    "    return nucleotide"
   ]
  },
  {
   "attachments": {},
   "cell_type": "markdown",
   "metadata": {},
   "source": [
    "## DCGAN"
   ]
  },
  {
   "cell_type": "code",
   "execution_count": 57,
   "metadata": {},
   "outputs": [],
   "source": [
    "# loading model\n",
    "load('DCGAN')\n",
    "dcgan_promoters = Generate(50)"
   ]
  },
  {
   "attachments": {},
   "cell_type": "markdown",
   "metadata": {},
   "source": [
    "## WGAN-GP"
   ]
  },
  {
   "cell_type": "code",
   "execution_count": null,
   "metadata": {},
   "outputs": [],
   "source": [
    "# loading model\n",
    "load('WGAN-GP')\n",
    "wgan_promoters = Generate(1000)"
   ]
  },
  {
   "attachments": {},
   "cell_type": "markdown",
   "metadata": {},
   "source": [
    "# Download file as FASTA file"
   ]
  },
  {
   "cell_type": "code",
   "execution_count": 2,
   "metadata": {},
   "outputs": [],
   "source": [
    "def append_to_fasta(path, seqs, prefix):\n",
    "  fasta = \"\"\n",
    "  for i, seq in enumerate(seqs):\n",
    "    fasta += f\">{prefix}_{i}\\n{seq}\\n\"\n",
    "  print(fasta, file=open(path, 'a'))"
   ]
  },
  {
   "attachments": {},
   "cell_type": "markdown",
   "metadata": {},
   "source": [
    "## DCGAN"
   ]
  },
  {
   "cell_type": "code",
   "execution_count": 59,
   "metadata": {},
   "outputs": [],
   "source": [
    "append_to_fasta(\"dcgan-fasta.fasta\",dcgan_promoters,'dcgan')"
   ]
  },
  {
   "attachments": {},
   "cell_type": "markdown",
   "metadata": {},
   "source": [
    "## WGAN-GP"
   ]
  },
  {
   "cell_type": "code",
   "execution_count": null,
   "metadata": {},
   "outputs": [],
   "source": [
    "append_to_fasta(\"wgan-fasta.fasta\",wgan_promoters,'wgan-gp')"
   ]
  },
  {
   "attachments": {},
   "cell_type": "markdown",
   "metadata": {},
   "source": [
    "# Evaluation"
   ]
  },
  {
   "attachments": {},
   "cell_type": "markdown",
   "metadata": {},
   "source": [
    "## Maffit alignment"
   ]
  },
  {
   "attachments": {},
   "cell_type": "markdown",
   "metadata": {},
   "source": [
    "### DCGAN"
   ]
  },
  {
   "cell_type": "code",
   "execution_count": 13,
   "metadata": {},
   "outputs": [
    {
     "ename": "ApplicationError",
     "evalue": "Non-zero return code 1 from '/usr/bin/mafft dcgan-fasta.fasta', message 'The system cannot find the path specified.'",
     "output_type": "error",
     "traceback": [
      "\u001b[1;31m---------------------------------------------------------------------------\u001b[0m",
      "\u001b[1;31mApplicationError\u001b[0m                          Traceback (most recent call last)",
      "\u001b[1;32md:\\DEBI\\Uottawa\\Final project - Protienea\\Synthetic promoters via GAN\\Synthetic promoters via GAN.ipynb Cell 71\u001b[0m in \u001b[0;36m<cell line: 1>\u001b[1;34m()\u001b[0m\n\u001b[1;32m----> <a href='vscode-notebook-cell:/d%3A/DEBI/Uottawa/Final%20project%20-%20Protienea/Synthetic%20promoters%20via%20GAN/Synthetic%20promoters%20via%20GAN.ipynb#Y130sZmlsZQ%3D%3D?line=0'>1</a>\u001b[0m dcgan_alignment \u001b[39m=\u001b[39m Maffit(\u001b[39m'\u001b[39;49m\u001b[39mdcgan-fasta.fasta\u001b[39;49m\u001b[39m'\u001b[39;49m,\u001b[39m'\u001b[39;49m\u001b[39mdcgan_alignment\u001b[39;49m\u001b[39m'\u001b[39;49m)\n\u001b[0;32m      <a href='vscode-notebook-cell:/d%3A/DEBI/Uottawa/Final%20project%20-%20Protienea/Synthetic%20promoters%20via%20GAN/Synthetic%20promoters%20via%20GAN.ipynb#Y130sZmlsZQ%3D%3D?line=1'>2</a>\u001b[0m dcgan_alignment\n",
      "\u001b[1;32md:\\DEBI\\Uottawa\\Final project - Protienea\\Synthetic promoters via GAN\\Synthetic promoters via GAN.ipynb Cell 71\u001b[0m in \u001b[0;36mMaffit\u001b[1;34m(in_file, out_file)\u001b[0m\n\u001b[0;32m      <a href='vscode-notebook-cell:/d%3A/DEBI/Uottawa/Final%20project%20-%20Protienea/Synthetic%20promoters%20via%20GAN/Synthetic%20promoters%20via%20GAN.ipynb#Y130sZmlsZQ%3D%3D?line=1'>2</a>\u001b[0m mafft_exe \u001b[39m=\u001b[39m \u001b[39m\"\u001b[39m\u001b[39m/usr/bin/mafft\u001b[39m\u001b[39m\"\u001b[39m\n\u001b[0;32m      <a href='vscode-notebook-cell:/d%3A/DEBI/Uottawa/Final%20project%20-%20Protienea/Synthetic%20promoters%20via%20GAN/Synthetic%20promoters%20via%20GAN.ipynb#Y130sZmlsZQ%3D%3D?line=2'>3</a>\u001b[0m mafft_cline \u001b[39m=\u001b[39m MafftCommandline(mafft_exe, \u001b[39minput\u001b[39m\u001b[39m=\u001b[39min_file)\n\u001b[1;32m----> <a href='vscode-notebook-cell:/d%3A/DEBI/Uottawa/Final%20project%20-%20Protienea/Synthetic%20promoters%20via%20GAN/Synthetic%20promoters%20via%20GAN.ipynb#Y130sZmlsZQ%3D%3D?line=3'>4</a>\u001b[0m stdout, stderr \u001b[39m=\u001b[39m mafft_cline()\n\u001b[0;32m      <a href='vscode-notebook-cell:/d%3A/DEBI/Uottawa/Final%20project%20-%20Protienea/Synthetic%20promoters%20via%20GAN/Synthetic%20promoters%20via%20GAN.ipynb#Y130sZmlsZQ%3D%3D?line=4'>5</a>\u001b[0m \u001b[39mwith\u001b[39;00m \u001b[39mopen\u001b[39m(out_file, \u001b[39m\"\u001b[39m\u001b[39mw\u001b[39m\u001b[39m\"\u001b[39m) \u001b[39mas\u001b[39;00m handle:\n\u001b[0;32m      <a href='vscode-notebook-cell:/d%3A/DEBI/Uottawa/Final%20project%20-%20Protienea/Synthetic%20promoters%20via%20GAN/Synthetic%20promoters%20via%20GAN.ipynb#Y130sZmlsZQ%3D%3D?line=5'>6</a>\u001b[0m     handle\u001b[39m.\u001b[39mwrite(stdout)\n",
      "File \u001b[1;32mc:\\Users\\EGYPT_LAPTOP\\AppData\\Local\\Programs\\Python\\Python39\\lib\\site-packages\\Bio\\Application\\__init__.py:574\u001b[0m, in \u001b[0;36mAbstractCommandline.__call__\u001b[1;34m(self, stdin, stdout, stderr, cwd, env)\u001b[0m\n\u001b[0;32m    571\u001b[0m     stderr_arg\u001b[39m.\u001b[39mclose()\n\u001b[0;32m    573\u001b[0m \u001b[39mif\u001b[39;00m return_code:\n\u001b[1;32m--> 574\u001b[0m     \u001b[39mraise\u001b[39;00m ApplicationError(return_code, \u001b[39mstr\u001b[39m(\u001b[39mself\u001b[39m), stdout_str, stderr_str)\n\u001b[0;32m    575\u001b[0m \u001b[39mreturn\u001b[39;00m stdout_str, stderr_str\n",
      "\u001b[1;31mApplicationError\u001b[0m: Non-zero return code 1 from '/usr/bin/mafft dcgan-fasta.fasta', message 'The system cannot find the path specified.'"
     ]
    }
   ],
   "source": [
    "dcgan_alignment = Maffit('dcgan-fasta.fasta','dcgan_alignment')\n",
    "dcgan_alignment"
   ]
  },
  {
   "attachments": {},
   "cell_type": "markdown",
   "metadata": {},
   "source": [
    "### WGAN-GP"
   ]
  },
  {
   "cell_type": "code",
   "execution_count": null,
   "metadata": {},
   "outputs": [],
   "source": [
    "wgan_alignment = Maffit('D:/DEBI/Uottawa/Final project - Protienea/Data/drosophila melanogaster promoters.FASTA','wgan_alignment')\n",
    "wgan_alignment"
   ]
  },
  {
   "attachments": {},
   "cell_type": "markdown",
   "metadata": {},
   "source": [
    "## Pairwise alignment"
   ]
  },
  {
   "attachments": {},
   "cell_type": "markdown",
   "metadata": {},
   "source": [
    "### Actin 5C"
   ]
  },
  {
   "cell_type": "code",
   "execution_count": 60,
   "metadata": {},
   "outputs": [
    {
     "data": {
      "text/plain": [
       "600"
      ]
     },
     "execution_count": 60,
     "metadata": {},
     "output_type": "execute_result"
    }
   ],
   "source": [
    "Actin_5C = 'AAATCAATTCGCCAACACTTTCTTTTTTTCCCACGCCCTAAAACACCAGATCATCCATAAATGTACATACATACAGTATATGCATATTATAATCTGTAAAACTAGATCAGGTTCTTGAAAATAGTGACGTAGGCAGCCGTTTTGGCTGAAGCAGAAATTTTTGCCGGTTTTTCAAAGTTGTAGTTGCAAAAATGGAGAAAACCTTCGAGCATTCGTTCATATACACACACTCACGCGCAAAATAACGAGAGAGAGTGTATGTGTGTGTGAGAGAGCGAAAGCCAGACGACGGTTTGCTTTTCGCCTCGAAACATGACCATATATGGTCACAAAACTTGGCCGCCGCAATTCAACACACCAGCGCTCTCCTTCGCACCCATAGCGACCATGGCGCGGAGCGAGCGAGATGGCGAGAGCGAGCGACGCCTATGGCGACGTCGACGCAGGCAGCGATTGAAAAACGCAGTTAACTGGCATTCAACATTCACCAGCCACTTTCAGTCGGTTTATTCCAGTCATTCCTTTCAAACCGTGCGGTCGCTTAGCTCAGCCTCGCCACTTGCGTTTACAGTAGTTTTCACGCCTTGAATTTGTTAAATC'\n",
    "Actin_5C = Actin_5C.upper()\n",
    "len(Actin_5C)"
   ]
  },
  {
   "cell_type": "code",
   "execution_count": 61,
   "metadata": {},
   "outputs": [],
   "source": [
    "def pairwise(promoters,seq2,out_file):\n",
    "    aligns = []\n",
    "    score = []\n",
    "    aligner = Align.PairwiseAligner()\n",
    "    for i in range(len(promoters)):\n",
    "        alignments = pairwise2.align.globalxx(Actin_5C, promoters[i]) \n",
    "        for alignment in alignments: \n",
    "            aligns.append(format_alignment(*alignment))\n",
    "\n",
    "    with open(out_file, \"w\") as handle:\n",
    "        for i in aligns:\n",
    "            handle.write(i)\n",
    "\n",
    "    for i in range(len(promoters)):\n",
    "        alignments = aligner.align(Actin_5C, promoters[i])\n",
    "        score.append(alignments.score)\n",
    "    score = np.array(score)/len(promoters[0])\n",
    "    return score"
   ]
  },
  {
   "attachments": {},
   "cell_type": "markdown",
   "metadata": {},
   "source": [
    "#### DCGAN"
   ]
  },
  {
   "cell_type": "code",
   "execution_count": 62,
   "metadata": {},
   "outputs": [
    {
     "data": {
      "text/plain": [
       "array([], dtype=int64)"
      ]
     },
     "execution_count": 62,
     "metadata": {},
     "output_type": "execute_result"
    }
   ],
   "source": [
    "score = pairwise(dcgan_promoters,Actin_5C,\"dcgan-actin.fasta\")\n",
    "np.where(score >= 0.85)[0]"
   ]
  },
  {
   "attachments": {},
   "cell_type": "markdown",
   "metadata": {},
   "source": [
    "#### WGAN-GP"
   ]
  },
  {
   "cell_type": "code",
   "execution_count": null,
   "metadata": {},
   "outputs": [],
   "source": [
    "score = pairwise(wgan_promoters,Actin_5C,\"wgan-actin.fasta\")\n",
    "np.where(score >= 0.85)[0]"
   ]
  },
  {
   "attachments": {},
   "cell_type": "markdown",
   "metadata": {},
   "source": [
    "### ALL Drosophila melanogaster database"
   ]
  },
  {
   "cell_type": "code",
   "execution_count": 3,
   "metadata": {},
   "outputs": [],
   "source": [
    "def read_fasta_database(Database_path):\n",
    "    \"\"\" read fasta file into two lists \n",
    "\n",
    "    Args:\n",
    "        Database_path (str): Path to fasta file\n",
    "    \"\"\"\n",
    "    Seqlist = []\n",
    "    IDlist = []\n",
    "    for record in SeqIO.parse(Database_path, \"fasta\"):\n",
    "        Seqlist.append(record.seq)\n",
    "        IDlist.append(record.id)\n",
    "        \n",
    "    return[IDlist, Seqlist]"
   ]
  },
  {
   "cell_type": "code",
   "execution_count": 4,
   "metadata": {},
   "outputs": [],
   "source": [
    "def aligner(Wild, Target):\n",
    "    \"\"\"perfoem pairwise sequence alignemnt \n",
    "\n",
    "    Args:\n",
    "        Wild (str): Sequence of DNA\n",
    "        Target (str): Sequence of DNA\n",
    "\n",
    "    Returns:\n",
    "        _type_: Alignemnt data \n",
    "    \"\"\"\n",
    "    alignments = pairwise2.align.globalms(Wild, Target, 5, -4, -10000,-.1)\n",
    "    res = [alignments[0].seqA, alignments[0].seqB]\n",
    "    return res"
   ]
  },
  {
   "cell_type": "code",
   "execution_count": 5,
   "metadata": {},
   "outputs": [],
   "source": [
    "def percentage_calculator(Wild, Target):\n",
    "    \"\"\"Ckaculate alignment percentage \n",
    "\n",
    "    Args:\n",
    "        Wild (str): Sequence of DNA \n",
    "        Target (str): Sequence of DNA\n",
    "    \"\"\"\n",
    "    Seq_Identity = Levenshtein.ratio(Wild, Target) * 100\n",
    "    return(Seq_Identity)"
   ]
  },
  {
   "cell_type": "code",
   "execution_count": 8,
   "metadata": {},
   "outputs": [],
   "source": [
    "#Read fasta files \n",
    "Refernce_database_ids, Refernce_database_seqs = read_fasta_database('C:/Users/EGYPT_LAPTOP/Desktop/New folder/Evaluation/drosophila_main_promoters.fasta')\n",
    "WGAN_database_ids, WGAN_database_seqs = read_fasta_database(\"C:/Users/EGYPT_LAPTOP/Desktop/New folder/wgan output/wgan-fasta.fasta\")\n",
    "DCGAN_database_ids, DCGAN_database_seqs = read_fasta_database(\"C:/Users/EGYPT_LAPTOP/Desktop/New folder/dcgan output/dcgan-fasta.fasta\")"
   ]
  },
  {
   "attachments": {},
   "cell_type": "markdown",
   "metadata": {},
   "source": [
    "#### DCGAN"
   ]
  },
  {
   "cell_type": "code",
   "execution_count": null,
   "metadata": {},
   "outputs": [],
   "source": [
    "i = 0 #ref_seq_counter\n",
    "j = 0 #GANs_counter\n",
    "Ref_seq_ids = []\n",
    "DCGAN_seq_ids = []\n",
    "Similartity = []\n",
    "\n",
    "for DCGANseq in DCGAN_database_seqs:\n",
    "    for ref_seq in Refernce_database_seqs:\n",
    "        SeqA, SeqB = aligner(DCGANseq, ref_seq)\n",
    "        Identity = percentage_calculator(SeqA, SeqB)\n",
    "        Ref_seq_ids.append(Refernce_database_ids[i])\n",
    "        DCGAN_seq_ids.append(DCGAN_database_ids[j])\n",
    "        Similartity.append(Identity)\n",
    "        i = i + 1\n",
    "    i = 0\n",
    "    j = j + 1"
   ]
  },
  {
   "cell_type": "code",
   "execution_count": null,
   "metadata": {},
   "outputs": [],
   "source": [
    "DCGAN_Results = pd.DataFrame(\n",
    "    {'Ref_seq_ids': Ref_seq_ids,\n",
    "     'DCAN_seq_ids': DCGAN_seq_ids,\n",
    "     'Similartity': Similartity\n",
    "    })"
   ]
  },
  {
   "cell_type": "code",
   "execution_count": null,
   "metadata": {},
   "outputs": [],
   "source": [
    "DCGAN_Results.to_csv('C:/Users/EGYPT_LAPTOP/Desktop/New folder/dcgan output/DCGAN_Results.csv', index=None)"
   ]
  },
  {
   "attachments": {},
   "cell_type": "markdown",
   "metadata": {},
   "source": [
    "#### WGAN-GP"
   ]
  },
  {
   "cell_type": "code",
   "execution_count": null,
   "metadata": {},
   "outputs": [],
   "source": [
    "i = 0 #ref_seq_counter\n",
    "j = 0 #GANs_counter\n",
    "Ref_seq_ids = []\n",
    "WGAN_seq_ids = []\n",
    "Similartity = []\n",
    "\n",
    "for WGANseq in WGAN_database_seqs:\n",
    "    for ref_seq in Refernce_database_seqs:\n",
    "        SeqA, SeqB = aligner(WGANseq, ref_seq)\n",
    "        Identity = percentage_calculator(SeqA, SeqB)\n",
    "        Ref_seq_ids.append(Refernce_database_ids[i])\n",
    "        WGAN_seq_ids.append(WGAN_database_ids[j])\n",
    "        Similartity.append(Identity)\n",
    "        i = i + 1\n",
    "    i = 0\n",
    "    j = j + 1"
   ]
  },
  {
   "cell_type": "code",
   "execution_count": null,
   "metadata": {},
   "outputs": [],
   "source": [
    "WGAN_Results = pd.DataFrame(\n",
    "    {'Ref_seq_ids': Ref_seq_ids,\n",
    "     'DCAN_seq_ids': WGAN_seq_ids,\n",
    "     'Similartity': Similartity\n",
    "    })"
   ]
  },
  {
   "cell_type": "code",
   "execution_count": null,
   "metadata": {},
   "outputs": [],
   "source": [
    "WGAN_Results.to_csv('C:/Users/EGYPT_LAPTOP/Desktop/New folder/wgan output/WGAN_Results.csv', index=None)"
   ]
  },
  {
   "attachments": {},
   "cell_type": "markdown",
   "metadata": {},
   "source": [
    "#### Top Similarity"
   ]
  },
  {
   "cell_type": "code",
   "execution_count": 6,
   "metadata": {},
   "outputs": [],
   "source": [
    "#Read fasta files \n",
    "DCGAN_Results = pd.read_csv('C:/Users/EGYPT_LAPTOP/Desktop/New folder/Evaluation/DCGAN_Results.csv')\n",
    "WGAN_Results = pd.read_csv('C:/Users/EGYPT_LAPTOP/Desktop/New folder/Evaluation/WGAN_Results.csv')"
   ]
  },
  {
   "cell_type": "code",
   "execution_count": 21,
   "metadata": {},
   "outputs": [],
   "source": [
    "DCGAN = []\n",
    "WGAN = []\n",
    "Refs = []\n",
    "DCGAN_sorted = DCGAN_Results.sort_values('Similartity',ascending=False)\n",
    "WGAN_sorted = WGAN_Results.sort_values('Similartity',ascending=False)\n",
    "Ref1 = DCGAN_sorted.iloc[:20,0].unique()\n",
    "Ref2 = WGAN_sorted.iloc[:20,0].unique()\n",
    "Ref = np.concatenate([Ref1,Ref2])\n",
    "Ref = np.unique(Ref)\n",
    "for i in range(20):\n",
    "    for j in range(len(DCGAN_database_ids)):\n",
    "        if DCGAN_sorted.iloc[i,1] == DCGAN_database_ids[j]:\n",
    "            DCGAN.append(DCGAN_database_seqs[j])\n",
    "            continue\n",
    "    for j in range(len(WGAN_database_ids)):\n",
    "        if WGAN_sorted.iloc[i,1] == WGAN_database_ids[j]:\n",
    "            WGAN.append(WGAN_database_seqs[j])\n",
    "            continue\n",
    "\n",
    "for i in Ref:\n",
    "    for j in range(len(Refernce_database_ids)):\n",
    "        if i == Refernce_database_ids[j]:\n",
    "            Refs.append(Refernce_database_seqs[j])\n",
    "            continue\n",
    "Top_Similarity_seqs = Refs + DCGAN + WGAN\n",
    "Top_Similarity_ids = pd.DataFrame(np.concatenate([Ref,DCGAN_sorted.iloc[:20,1].values,WGAN_sorted.iloc[:20,1].values]), columns = ['Promoters_ids'])"
   ]
  },
  {
   "cell_type": "code",
   "execution_count": 33,
   "metadata": {},
   "outputs": [],
   "source": [
    "append_to_fasta(\"C:/Users/EGYPT_LAPTOP/Desktop/New folder/Top similiar.fasta\",Top_Similarity_seqs,'Top similiar')"
   ]
  },
  {
   "attachments": {},
   "cell_type": "markdown",
   "metadata": {},
   "source": [
    "## Promoter activity"
   ]
  },
  {
   "cell_type": "code",
   "execution_count": 25,
   "metadata": {},
   "outputs": [],
   "source": [
    "def parse_results(results):\n",
    "    Results = results.split('\\n')[2:len(results)]\n",
    "    Promoter_str = \"\"\n",
    "    for line in Results:\n",
    "        line_value = line.split(\"   \")\n",
    "        line_value = [x for x in line_value if x != '']\n",
    "        line_value = \",\".join(line_value) + '\\n'\n",
    "        Promoter_str +=  line_value \n",
    "    results_frame = pd.read_csv(StringIO(Promoter_str), sep=',')\n",
    "    return(results_frame.loc[:, ' Score'].mean())"
   ]
  },
  {
   "cell_type": "code",
   "execution_count": 34,
   "metadata": {},
   "outputs": [],
   "source": [
    "database_ids, database_seqs = read_fasta_database(\"C:/Users/EGYPT_LAPTOP/Desktop/New folder/Top similiar.fasta\")"
   ]
  },
  {
   "cell_type": "code",
   "execution_count": 104,
   "metadata": {},
   "outputs": [],
   "source": [
    "Promoter_score = []\n",
    "for i in range(len(database_ids)):\n",
    "    driver = webdriver.Chrome()\n",
    "    driver.get(\"https://www.fruitfly.org/seq_tools/promoter.html\")\n",
    "    element = driver.find_element(By.NAME,\"threshold\")\n",
    "    element.clear()\n",
    "    element.send_keys(0.85)\n",
    "    SeqArea = driver.find_element(By.NAME, \"text\")\n",
    "    SeqArea.send_keys(database_seqs[i])\n",
    "    submit = driver.find_element(By.XPATH,\"/html/body/div[2]/div[3]/table/tbody/tr/td/form/input[6]\").click()\n",
    "    Output = driver.find_element(By.XPATH,'/html/body').text\n",
    "    Promoter_score.append(parse_results(Output))"
   ]
  },
  {
   "cell_type": "code",
   "execution_count": 114,
   "metadata": {},
   "outputs": [],
   "source": [
    "Promoter_Results = pd.DataFrame(\n",
    "    {'Promoter_id': Top_Similarity_ids['Promoters_ids'],\n",
    "     'Promoter_score': Promoter_score,\n",
    "    })\n",
    "Promoter_Results.dropna(axis='index',inplace=True)\n",
    "Promoter_Results.to_csv('C:/Users/EGYPT_LAPTOP/Desktop/New folder/Evaluation results.csv', index=None)"
   ]
  },
  {
   "cell_type": "markdown",
   "metadata": {},
   "source": []
  }
 ],
 "metadata": {
  "kernelspec": {
   "display_name": "Python 3",
   "language": "python",
   "name": "python3"
  },
  "language_info": {
   "codemirror_mode": {
    "name": "ipython",
    "version": 3
   },
   "file_extension": ".py",
   "mimetype": "text/x-python",
   "name": "python",
   "nbconvert_exporter": "python",
   "pygments_lexer": "ipython3",
   "version": "3.9.2"
  },
  "orig_nbformat": 4,
  "vscode": {
   "interpreter": {
    "hash": "15c6893f014dd9c11d769c37389f836e806679b4b88546ef9c1c7dddbebefcff"
   }
  }
 },
 "nbformat": 4,
 "nbformat_minor": 2
}
